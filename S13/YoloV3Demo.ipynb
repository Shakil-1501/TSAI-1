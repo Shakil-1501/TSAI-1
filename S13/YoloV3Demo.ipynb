{
  "nbformat": 4,
  "nbformat_minor": 0,
  "metadata": {
    "colab": {
      "name": "YoloV3Demo.ipynb",
      "provenance": [],
      "collapsed_sections": [],
      "include_colab_link": true
    },
    "kernelspec": {
      "name": "python3",
      "display_name": "Python 3"
    },
    "accelerator": "GPU"
  },
  "cells": [
    {
      "cell_type": "markdown",
      "metadata": {
        "id": "view-in-github",
        "colab_type": "text"
      },
      "source": [
        "<a href=\"https://colab.research.google.com/github/jagatabhay/TSAI/blob/master/S13/YoloV3Demo.ipynb\" target=\"_parent\"><img src=\"https://colab.research.google.com/assets/colab-badge.svg\" alt=\"Open In Colab\"/></a>"
      ]
    },
    {
      "cell_type": "code",
      "metadata": {
        "id": "dFa1C2XDwcMP",
        "colab_type": "code",
        "colab": {}
      },
      "source": [
        "!git clone https://github.com/jagatabhay/YoloV3.git"
      ],
      "execution_count": null,
      "outputs": []
    },
    {
      "cell_type": "code",
      "metadata": {
        "id": "cMXtMpLw5D0U",
        "colab_type": "code",
        "colab": {}
      },
      "source": [
        "#!git clone https://github.com/jagatabhay/TSAI"
      ],
      "execution_count": 2,
      "outputs": []
    },
    {
      "cell_type": "code",
      "metadata": {
        "id": "oJWPCDSv0gw3",
        "colab_type": "code",
        "colab": {}
      },
      "source": [
        "import time\n",
        "import glob\n",
        "import torch\n",
        "import os\n",
        "\n",
        "from IPython.display import Image, clear_output \n",
        "print('PyTorch %s %s' % (torch.__version__, torch.cuda.get_device_properties(0) if torch.cuda.is_available() else 'CPU'))"
      ],
      "execution_count": null,
      "outputs": []
    },
    {
      "cell_type": "code",
      "metadata": {
        "id": "c5LJYRxG02VQ",
        "colab_type": "code",
        "colab": {}
      },
      "source": [
        "ls"
      ],
      "execution_count": null,
      "outputs": []
    },
    {
      "cell_type": "code",
      "metadata": {
        "id": "04WxrIQ51BMn",
        "colab_type": "code",
        "colab": {
          "base_uri": "https://localhost:8080/",
          "height": 35
        },
        "outputId": "a09cdb6e-58bc-41ae-b042-2f476b62f03e"
      },
      "source": [
        "cd YoloV3/"
      ],
      "execution_count": 6,
      "outputs": [
        {
          "output_type": "stream",
          "text": [
            "/content/YoloV3\n"
          ],
          "name": "stdout"
        }
      ]
    },
    {
      "cell_type": "code",
      "metadata": {
        "id": "-VosRvfFWKsk",
        "colab_type": "code",
        "colab": {}
      },
      "source": [
        "os.makedirs('weights')"
      ],
      "execution_count": 7,
      "outputs": []
    },
    {
      "cell_type": "code",
      "metadata": {
        "id": "SPzsl6JGYBFQ",
        "colab_type": "code",
        "colab": {}
      },
      "source": [
        "for i in range(201,301):\n",
        "  os.remove(f'data/customdata/images/img{i}.txt')"
      ],
      "execution_count": 8,
      "outputs": []
    },
    {
      "cell_type": "code",
      "metadata": {
        "id": "WTBafLfy1JUS",
        "colab_type": "code",
        "colab": {}
      },
      "source": [
        "!ls"
      ],
      "execution_count": null,
      "outputs": []
    },
    {
      "cell_type": "code",
      "metadata": {
        "id": "z_j3dXQk1L3s",
        "colab_type": "code",
        "colab": {}
      },
      "source": [
        "!python train.py --data data/smalcoco/smalcoco.data --batch 3 --cache --epochs 2 --nosave"
      ],
      "execution_count": null,
      "outputs": []
    },
    {
      "cell_type": "code",
      "metadata": {
        "id": "ElYu4RG01NVw",
        "colab_type": "code",
        "colab": {}
      },
      "source": [
        "!python train.py --data data/customdata/custom.data --batch 10 --cache --cfg cfg/yolov3-custom.cfg --epochs 100 --nosave"
      ],
      "execution_count": null,
      "outputs": []
    },
    {
      "cell_type": "code",
      "metadata": {
        "id": "Dm2pvUNCzEY9",
        "colab_type": "code",
        "colab": {}
      },
      "source": [
        "from google.colab import drive\n",
        "drive.mount('/content/gdrive')"
      ],
      "execution_count": null,
      "outputs": []
    },
    {
      "cell_type": "code",
      "metadata": {
        "id": "31oeHX0u2Vwd",
        "colab_type": "code",
        "colab": {}
      },
      "source": [
        "!python detect.py --conf-thres 0.1 --output out_out"
      ],
      "execution_count": null,
      "outputs": []
    },
    {
      "cell_type": "code",
      "metadata": {
        "id": "eaSbzlOh3XTB",
        "colab_type": "code",
        "colab": {}
      },
      "source": [
        "Image(filename='out_out/img008.jpg', width=600)"
      ],
      "execution_count": null,
      "outputs": []
    },
    {
      "cell_type": "code",
      "metadata": {
        "id": "weNdrTVi86Ws",
        "colab_type": "code",
        "colab": {}
      },
      "source": [
        "Image(filename='out_out/img006.jpg', width=600)"
      ],
      "execution_count": null,
      "outputs": []
    },
    {
      "cell_type": "code",
      "metadata": {
        "id": "Qn0bFsKp9WQ8",
        "colab_type": "code",
        "colab": {}
      },
      "source": [
        "Image(filename='out_out/img009.jpg', width=600)"
      ],
      "execution_count": null,
      "outputs": []
    },
    {
      "cell_type": "code",
      "metadata": {
        "id": "6IEVAxJW9Xr4",
        "colab_type": "code",
        "colab": {}
      },
      "source": [
        "Image(filename='out_out/img013.jpg', width=600)"
      ],
      "execution_count": null,
      "outputs": []
    }
  ]
}