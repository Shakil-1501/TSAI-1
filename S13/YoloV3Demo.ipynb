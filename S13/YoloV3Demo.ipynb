{
  "nbformat": 4,
  "nbformat_minor": 0,
  "metadata": {
    "colab": {
      "name": "YoloV3Demo.ipynb",
      "provenance": [],
      "collapsed_sections": [],
      "include_colab_link": true
    },
    "kernelspec": {
      "name": "python3",
      "display_name": "Python 3"
    },
    "accelerator": "GPU"
  },
  "cells": [
    {
      "cell_type": "markdown",
      "metadata": {
        "id": "view-in-github",
        "colab_type": "text"
      },
      "source": [
        "<a href=\"https://colab.research.google.com/github/jagatabhay/TSAI/blob/master/S13/YoloV3Demo.ipynb\" target=\"_parent\"><img src=\"https://colab.research.google.com/assets/colab-badge.svg\" alt=\"Open In Colab\"/></a>"
      ]
    },
    {
      "cell_type": "code",
      "metadata": {
        "id": "hauEP36SOK6d",
        "colab_type": "code",
        "colab": {
          "base_uri": "https://localhost:8080/",
          "height": 331
        },
        "outputId": "bcdbc80e-fb11-45a0-a75a-02637da3f280"
      },
      "source": [
        "!nvidia-smi"
      ],
      "execution_count": 2,
      "outputs": [
        {
          "output_type": "stream",
          "text": [
            "Sun Jul  5 07:06:57 2020       \n",
            "+-----------------------------------------------------------------------------+\n",
            "| NVIDIA-SMI 418.67       Driver Version: 418.67       CUDA Version: 10.1     |\n",
            "|-------------------------------+----------------------+----------------------+\n",
            "| GPU  Name        Persistence-M| Bus-Id        Disp.A | Volatile Uncorr. ECC |\n",
            "| Fan  Temp  Perf  Pwr:Usage/Cap|         Memory-Usage | GPU-Util  Compute M. |\n",
            "|===============================+======================+======================|\n",
            "|   0  Tesla T4            Off  | 00000000:00:04.0 Off |                    0 |\n",
            "| N/A   53C    P8    10W /  70W |      0MiB / 15079MiB |      0%      Default |\n",
            "+-------------------------------+----------------------+----------------------+\n",
            "                                                                               \n",
            "+-----------------------------------------------------------------------------+\n",
            "| Processes:                                                       GPU Memory |\n",
            "|  GPU       PID   Type   Process name                             Usage      |\n",
            "|=============================================================================|\n",
            "|  No running processes found                                                 |\n",
            "+-----------------------------------------------------------------------------+\n"
          ],
          "name": "stdout"
        }
      ]
    },
    {
      "cell_type": "code",
      "metadata": {
        "id": "dFa1C2XDwcMP",
        "colab_type": "code",
        "colab": {
          "base_uri": "https://localhost:8080/",
          "height": 146
        },
        "outputId": "df0cc083-d945-4d71-befb-37d0bf1e9777"
      },
      "source": [
        "!git clone https://github.com/jagatabhay/YoloV3.git"
      ],
      "execution_count": 3,
      "outputs": [
        {
          "output_type": "stream",
          "text": [
            "Cloning into 'YoloV3'...\n",
            "remote: Enumerating objects: 59, done.\u001b[K\n",
            "remote: Counting objects: 100% (59/59), done.\u001b[K\n",
            "remote: Compressing objects: 100% (59/59), done.\u001b[K\n",
            "remote: Total 1337 (delta 18), reused 0 (delta 0), pack-reused 1278\u001b[K\n",
            "Receiving objects: 100% (1337/1337), 26.24 MiB | 4.49 MiB/s, done.\n",
            "Resolving deltas: 100% (117/117), done.\n"
          ],
          "name": "stdout"
        }
      ]
    },
    {
      "cell_type": "code",
      "metadata": {
        "id": "cMXtMpLw5D0U",
        "colab_type": "code",
        "colab": {}
      },
      "source": [
        "#!git clone https://github.com/jagatabhay/TSAI"
      ],
      "execution_count": 4,
      "outputs": []
    },
    {
      "cell_type": "code",
      "metadata": {
        "id": "oJWPCDSv0gw3",
        "colab_type": "code",
        "colab": {
          "base_uri": "https://localhost:8080/",
          "height": 35
        },
        "outputId": "2d087539-00ba-4994-e90f-6f0aeb63bf05"
      },
      "source": [
        "import time\n",
        "import glob\n",
        "import torch\n",
        "import os\n",
        "\n",
        "from IPython.display import Image, clear_output \n",
        "print('PyTorch %s %s' % (torch.__version__, torch.cuda.get_device_properties(0) if torch.cuda.is_available() else 'CPU'))"
      ],
      "execution_count": 5,
      "outputs": [
        {
          "output_type": "stream",
          "text": [
            "PyTorch 1.5.1+cu101 _CudaDeviceProperties(name='Tesla T4', major=7, minor=5, total_memory=15079MB, multi_processor_count=40)\n"
          ],
          "name": "stdout"
        }
      ]
    },
    {
      "cell_type": "code",
      "metadata": {
        "id": "c5LJYRxG02VQ",
        "colab_type": "code",
        "colab": {
          "base_uri": "https://localhost:8080/",
          "height": 35
        },
        "outputId": "961dc3ca-061b-4dee-9515-f662d2cf36b1"
      },
      "source": [
        "ls"
      ],
      "execution_count": 6,
      "outputs": [
        {
          "output_type": "stream",
          "text": [
            "\u001b[0m\u001b[01;34msample_data\u001b[0m/  \u001b[01;34mYoloV3\u001b[0m/\n"
          ],
          "name": "stdout"
        }
      ]
    },
    {
      "cell_type": "code",
      "metadata": {
        "id": "04WxrIQ51BMn",
        "colab_type": "code",
        "colab": {
          "base_uri": "https://localhost:8080/",
          "height": 35
        },
        "outputId": "228584c6-c173-40c9-f387-672d33f1f18f"
      },
      "source": [
        "cd YoloV3/"
      ],
      "execution_count": 7,
      "outputs": [
        {
          "output_type": "stream",
          "text": [
            "/content/YoloV3\n"
          ],
          "name": "stdout"
        }
      ]
    },
    {
      "cell_type": "code",
      "metadata": {
        "id": "-VosRvfFWKsk",
        "colab_type": "code",
        "colab": {}
      },
      "source": [
        "os.makedirs('weights')"
      ],
      "execution_count": 8,
      "outputs": []
    },
    {
      "cell_type": "code",
      "metadata": {
        "id": "SPzsl6JGYBFQ",
        "colab_type": "code",
        "colab": {}
      },
      "source": [
        "for i in range(201,301):\n",
        "  os.remove(f'data/customdata/images/img{i}.txt')"
      ],
      "execution_count": 9,
      "outputs": []
    },
    {
      "cell_type": "code",
      "metadata": {
        "id": "WTBafLfy1JUS",
        "colab_type": "code",
        "colab": {
          "base_uri": "https://localhost:8080/",
          "height": 109
        },
        "outputId": "a401c481-fed3-4b66-83f1-f7265ef40aa0"
      },
      "source": [
        "!ls"
      ],
      "execution_count": 10,
      "outputs": [
        {
          "output_type": "stream",
          "text": [
            " annotation_tool   output\t  results.txt\t     train.py\n",
            " cfg\t\t   __pycache__\t  test_batch0.png   'ubdivisions=1'\n",
            " data\t\t   README.md\t  test.py\t     utils\n",
            " detect.py\t   results.json   ting\t\t     vim.exe.stackdump\n",
            " models.py\t   results.png\t  train_batch0.png   weights\n"
          ],
          "name": "stdout"
        }
      ]
    },
    {
      "cell_type": "code",
      "metadata": {
        "id": "z_j3dXQk1L3s",
        "colab_type": "code",
        "colab": {
          "base_uri": "https://localhost:8080/",
          "height": 647
        },
        "outputId": "0a407edb-efaa-427c-ba07-39c27b125fa8"
      },
      "source": [
        "!python train.py --data data/smalcoco/smalcoco.data --batch 3 --cache --epochs 2 --nosave"
      ],
      "execution_count": 11,
      "outputs": [
        {
          "output_type": "stream",
          "text": [
            "Namespace(accumulate=4, adam=False, batch_size=3, bucket='', cache_images=True, cfg='cfg/yolov3-spp.cfg', data='data/smalcoco/smalcoco.data', device='', epochs=2, evolve=False, img_size=[512], multi_scale=False, name='', nosave=True, notest=False, rect=False, resume=False, single_cls=False, weights='weights/yolov3-spp-ultralytics.pt')\n",
            "Using CUDA device0 _CudaDeviceProperties(name='Tesla T4', total_memory=15079MB)\n",
            "\n",
            "2020-07-05 07:08:17.259454: I tensorflow/stream_executor/platform/default/dso_loader.cc:44] Successfully opened dynamic library libcudart.so.10.1\n",
            "Run 'tensorboard --logdir=runs' to view tensorboard at http://localhost:6006/\n",
            "Model Summary: 225 layers, 6.29987e+07 parameters, 6.29987e+07 gradients\n",
            "  % Total    % Received % Xferd  Average Speed   Time    Time     Time  Current\n",
            "                                 Dload  Upload   Total   Spent    Left  Speed\n",
            "100   408    0   408    0     0   1337      0 --:--:-- --:--:-- --:--:--  1337\n",
            "  0     0    0     0    0     0      0      0 --:--:-- --:--:-- --:--:--     0\n",
            "  0     0    0     0    0     0      0      0 --:--:-- --:--:-- --:--:--     0\n",
            "100  240M    0  240M    0     0  43.9M      0 --:--:--  0:00:05 --:--:-- 64.1M\n",
            "Downloading https://drive.google.com/uc?export=download&id=1UcR-zVoMs7DH5dj3N1bswkiQTA4dmKF4 as weights/yolov3-spp-ultralytics.pt... Done (6.0s)\n",
            "Caching labels (20 found, 0 missing, 0 empty, 0 duplicate, for 20 images): 100% 20/20 [00:00<00:00, 5912.47it/s]\n",
            "Caching images (0.0GB): 100% 20/20 [00:00<00:00, 116.86it/s]\n",
            "Caching labels (20 found, 0 missing, 0 empty, 0 duplicate, for 20 images): 100% 20/20 [00:00<00:00, 7592.87it/s]\n",
            "Caching images (0.0GB): 100% 20/20 [00:00<00:00, 98.99it/s] \n",
            "Image sizes 512 - 512 train, 512 test\n",
            "Using 2 dataloader workers\n",
            "Starting training for 2 epochs...\n",
            "\n",
            "     Epoch   gpu_mem      GIoU       obj       cls     total   targets  img_size\n",
            "       0/1     3.05G      1.89      2.14     0.445      4.48        21       512: 100% 7/7 [00:06<00:00,  1.08it/s]\n",
            "               Class    Images   Targets         P         R   mAP@0.5        F1: 100% 7/7 [00:02<00:00,  2.94it/s]\n",
            "                 all        20       128     0.582     0.954     0.934     0.709\n",
            "\n",
            "     Epoch   gpu_mem      GIoU       obj       cls     total   targets  img_size\n",
            "       1/1     3.05G      1.69      1.57     0.614      3.88        18       512: 100% 7/7 [00:02<00:00,  2.55it/s]\n",
            "               Class    Images   Targets         P         R   mAP@0.5        F1: 100% 7/7 [00:00<00:00,  8.55it/s]\n",
            "                 all        20       128     0.578     0.968     0.945      0.71\n",
            "Speed: 20.7/2.1/22.9 ms inference/NMS/total per 512x512 image at batch-size 3\n",
            "2 epochs completed in 0.004 hours.\n",
            "\n"
          ],
          "name": "stdout"
        }
      ]
    },
    {
      "cell_type": "code",
      "metadata": {
        "id": "ElYu4RG01NVw",
        "colab_type": "code",
        "colab": {
          "base_uri": "https://localhost:8080/",
          "height": 381
        },
        "outputId": "e321bb82-a4d4-4243-df49-e2e2156cfca8"
      },
      "source": [
        "!python train.py --data data/customdata/custom.data --batch 10 --cache --cfg cfg/yolov3-custom.cfg --epochs 100 --nosave"
      ],
      "execution_count": null,
      "outputs": [
        {
          "output_type": "stream",
          "text": [
            "Namespace(accumulate=4, adam=False, batch_size=10, bucket='', cache_images=True, cfg='cfg/yolov3-custom.cfg', data='data/customdata/custom.data', device='', epochs=100, evolve=False, img_size=[512], multi_scale=False, name='', nosave=True, notest=False, rect=False, resume=False, single_cls=False, weights='weights/yolov3-spp-ultralytics.pt')\n",
            "Using CUDA device0 _CudaDeviceProperties(name='Tesla T4', total_memory=15079MB)\n",
            "\n",
            "2020-07-05 07:09:05.649804: I tensorflow/stream_executor/platform/default/dso_loader.cc:44] Successfully opened dynamic library libcudart.so.10.1\n",
            "Run 'tensorboard --logdir=runs' to view tensorboard at http://localhost:6006/\n",
            "Model Summary: 225 layers, 6.25733e+07 parameters, 6.25733e+07 gradients\n",
            "Caching labels (500 found, 0 missing, 0 empty, 0 duplicate, for 500 images): 100% 500/500 [00:00<00:00, 9701.99it/s]\n",
            "Caching images (0.3GB): 100% 500/500 [00:01<00:00, 305.23it/s]\n",
            "Reading image shapes: 100% 500/500 [00:00<00:00, 4364.48it/s]\n",
            "Caching labels (500 found, 0 missing, 0 empty, 0 duplicate, for 500 images): 100% 500/500 [00:00<00:00, 9776.89it/s]\n",
            "Caching images (0.1GB): 100% 500/500 [00:01<00:00, 273.67it/s]\n",
            "Image sizes 512 - 512 train, 512 test\n",
            "Using 2 dataloader workers\n",
            "Starting training for 100 epochs...\n",
            "\n",
            "     Epoch   gpu_mem      GIoU       obj       cls     total   targets  img_size\n",
            "      0/99     7.38G      6.04      4.41         0      10.4        25       512: 100% 50/50 [00:55<00:00,  1.11s/it]\n",
            "               Class    Images   Targets         P         R   mAP@0.5        F1:   0% 0/50 [00:00<?, ?it/s]"
          ],
          "name": "stdout"
        }
      ]
    },
    {
      "cell_type": "code",
      "metadata": {
        "id": "Dm2pvUNCzEY9",
        "colab_type": "code",
        "colab": {}
      },
      "source": [
        "from google.colab import drive\n",
        "drive.mount('/content/gdrive')"
      ],
      "execution_count": null,
      "outputs": []
    },
    {
      "cell_type": "code",
      "metadata": {
        "id": "31oeHX0u2Vwd",
        "colab_type": "code",
        "colab": {}
      },
      "source": [
        "!python detect.py --conf-thres 0.1 --output out_out"
      ],
      "execution_count": null,
      "outputs": []
    },
    {
      "cell_type": "code",
      "metadata": {
        "id": "eaSbzlOh3XTB",
        "colab_type": "code",
        "colab": {}
      },
      "source": [
        "Image(filename='out_out/img008.jpg', width=600)"
      ],
      "execution_count": null,
      "outputs": []
    },
    {
      "cell_type": "code",
      "metadata": {
        "id": "weNdrTVi86Ws",
        "colab_type": "code",
        "colab": {}
      },
      "source": [
        "Image(filename='out_out/img006.jpg', width=600)"
      ],
      "execution_count": null,
      "outputs": []
    },
    {
      "cell_type": "code",
      "metadata": {
        "id": "Qn0bFsKp9WQ8",
        "colab_type": "code",
        "colab": {}
      },
      "source": [
        "Image(filename='out_out/img009.jpg', width=600)"
      ],
      "execution_count": null,
      "outputs": []
    },
    {
      "cell_type": "code",
      "metadata": {
        "id": "6IEVAxJW9Xr4",
        "colab_type": "code",
        "colab": {}
      },
      "source": [
        "Image(filename='out_out/img013.jpg', width=600)"
      ],
      "execution_count": null,
      "outputs": []
    }
  ]
}