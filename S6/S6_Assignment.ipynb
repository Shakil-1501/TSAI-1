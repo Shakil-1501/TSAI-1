{
  "nbformat": 4,
  "nbformat_minor": 0,
  "metadata": {
    "colab": {
      "name": "S6_Assignment.ipynb",
      "provenance": [],
      "collapsed_sections": [],
      "include_colab_link": true
    },
    "kernelspec": {
      "name": "python3",
      "display_name": "Python 3"
    },
    "accelerator": "GPU"
  },
  "cells": [
    {
      "cell_type": "markdown",
      "metadata": {
        "id": "view-in-github",
        "colab_type": "text"
      },
      "source": [
        "<a href=\"https://colab.research.google.com/github/jagatabhay/TSAI/blob/master/S6/S6_Assignment.ipynb\" target=\"_parent\"><img src=\"https://colab.research.google.com/assets/colab-badge.svg\" alt=\"Open In Colab\"/></a>"
      ]
    },
    {
      "cell_type": "markdown",
      "metadata": {
        "id": "DY_8afmSb7ZD",
        "colab_type": "text"
      },
      "source": [
        ""
      ]
    },
    {
      "cell_type": "code",
      "metadata": {
        "id": "0m2JWFliFfKT",
        "colab_type": "code",
        "colab": {}
      },
      "source": [
        "from __future__ import print_function\n",
        "import torch\n",
        "import torch.nn as nn\n",
        "import torch.nn.functional as F\n",
        "import torch.optim as optim\n",
        "from torchvision import datasets, transforms\n",
        "\n",
        "from itertools import chain\n",
        "from inspect import signature\n",
        "from functools import lru_cache as cache\n",
        "from collections import defaultdict, namedtuple\n",
        "#from torch.utils import "
      ],
      "execution_count": 0,
      "outputs": []
    },
    {
      "cell_type": "markdown",
      "metadata": {
        "id": "MqFocHtyYrHv",
        "colab_type": "text"
      },
      "source": [
        "**Target**: create an architecture with less than 10k parameters so accordingly chooses the imput and output channels.Here I have choosen the channels between 10 and 20.\n",
        "\n",
        "**Analysis**: Adding dropout after max pooling has yielded better results in terms\n",
        "of Accuracy rather than after each layer"
      ]
    },
    {
      "cell_type": "code",
      "metadata": {
        "id": "UEahw-1qbzDO",
        "colab_type": "code",
        "colab": {}
      },
      "source": [
        "class BatchNorm(nn.BatchNorm2d):\n",
        "    def __init__(self, num_features, eps=1e-05, momentum=0.1, weight=True, bias=True):\n",
        "        super().__init__(num_features, eps=eps, momentum=momentum)\n",
        "        self.weight.data.fill_(1.0)\n",
        "        self.bias.data.fill_(0.0)\n",
        "        self.weight.requires_grad = weight\n",
        "        self.bias.requires_grad = bias\n",
        "        \n",
        "class GhostBatchNorm(BatchNorm):\n",
        "    def __init__(self, num_features, num_splits, **kw):\n",
        "        super().__init__(num_features, **kw)\n",
        "        self.num_splits = num_splits\n",
        "        self.register_buffer('running_mean', torch.zeros(num_features * self.num_splits))\n",
        "        self.register_buffer('running_var', torch.ones(num_features * self.num_splits))\n",
        "\n",
        "    def train(self, mode=True):\n",
        "        if (self.training is True) and (mode is False):  # lazily collate stats when we are going to use them\n",
        "            self.running_mean = torch.mean(self.running_mean.view(self.num_splits, self.num_features), dim=0).repeat(\n",
        "                self.num_splits)\n",
        "            self.running_var = torch.mean(self.running_var.view(self.num_splits, self.num_features), dim=0).repeat(\n",
        "                self.num_splits)\n",
        "        return super().train(mode)\n",
        "\n",
        "    def forward(self, input):\n",
        "        N, C, H, W = input.shape\n",
        "        if self.training or not self.track_running_stats:\n",
        "            return F.batch_norm(\n",
        "                input.view(-1, C * self.num_splits, H, W), self.running_mean, self.running_var,\n",
        "                self.weight.repeat(self.num_splits), self.bias.repeat(self.num_splits),\n",
        "                True, self.momentum, self.eps).view(N, C, H, W)\n",
        "        else:\n",
        "            return F.batch_norm(\n",
        "                input, self.running_mean[:self.num_features], self.running_var[:self.num_features],\n",
        "                self.weight, self.bias, False, self.momentum, self.eps)"
      ],
      "execution_count": 0,
      "outputs": []
    },
    {
      "cell_type": "code",
      "metadata": {
        "id": "h_Cx9q2QFgM7",
        "colab_type": "code",
        "colab": {}
      },
      "source": [
        "class Net(nn.Module):\n",
        "    def __init__(self):\n",
        "        super(Net, self).__init__()\n",
        "        #self.conv1 = nn.Conv2d(1, 32, 3, padding=1) #input -? OUtput? RF\n",
        "        #self.conv2 = nn.Conv2d(32, 64, 3, padding=1)\n",
        "        #self.pool1 = nn.MaxPool2d(2, 2)\n",
        "        #self.conv3 = nn.Conv2d(64, 128, 3, padding=1)\n",
        "        #self.conv4 = nn.Conv2d(128, 256, 3, padding=1)\n",
        "        #self.pool2 = nn.MaxPool2d(2, 2)\n",
        "        #self.conv5 = nn.Conv2d(256, 512, 3)\n",
        "        #self.conv6 = nn.Conv2d(512, 1024, 3)\n",
        "        #self.conv7 = nn.Conv2d(1024, 10, 3)\n",
        "        self.conv1 = nn.Sequential(nn.Conv2d(in_channels=1,out_channels=10,kernel_size=(3,3),padding=0),\n",
        "                                   nn.ReLU(),\n",
        "                                   #nn.BatchNorm2d(num_features=10),\n",
        "                                   GhostBatchNorm(10,2)\n",
        "                                   #nn.Dropout(0.1)\n",
        "                                   )\n",
        "\n",
        "        self.conv2 = nn.Sequential(nn.Conv2d(in_channels=10,out_channels=16,kernel_size=(3,3),padding=0),\n",
        "                                   nn.ReLU(),\n",
        "                                   #nn.BatchNorm2d(num_features=16),\n",
        "                                   GhostBatchNorm(16,2)\n",
        "                                   #nn.Dropout(0.1)\n",
        "        )\n",
        "        self.conv3 = nn.Sequential(nn.Conv2d(in_channels=16,out_channels=20,kernel_size=(3,3),padding=0),\n",
        "                                   nn.ReLU(),\n",
        "                                   #nn.BatchNorm2d(num_features=20),\n",
        "                                   GhostBatchNorm(20,2)\n",
        "                                   #nn.Dropout(0.1)\n",
        "                                   )                          \n",
        "        \n",
        "        self.pool1 =  nn.MaxPool2d(2,2)\n",
        "         \n",
        "        \n",
        "        \n",
        "        self.conv4 = nn.Sequential(nn.Conv2d(in_channels=20,out_channels=10,kernel_size=(1,1),padding=0),\n",
        "                                   nn.ReLU(),\n",
        "                                   #nn.BatchNorm2d(num_features=10),\n",
        "                                   GhostBatchNorm(10,2),\n",
        "                                   nn.Dropout(0.1)\n",
        "                                   ) \n",
        "        \n",
        "        #self.pool2 =  nn.MaxPool2d(2,2)\n",
        "\n",
        "        self.conv5 = nn.Sequential(nn.Conv2d(in_channels=10,out_channels=20,kernel_size=(3,3),padding=0),\n",
        "                                   nn.ReLU(),\n",
        "                                   nn.BatchNorm2d(num_features=20),\n",
        "                                   GhostBatchNorm(20,2)\n",
        "                                   #nn.Dropout(0.1)\n",
        "                                   ) \n",
        "        \n",
        "        self.conv6 = nn.Sequential(nn.Conv2d(in_channels=20,out_channels=16,kernel_size=(3,3),padding=0),\n",
        "                                   nn.ReLU(),\n",
        "                                   #nn.BatchNorm2d(num_features=16),\n",
        "                                   GhostBatchNorm(16,2)\n",
        "                                   #nn.Dropout(0.1)\n",
        "                                   ) \n",
        "        self.conv7 = nn.Sequential(nn.Conv2d(in_channels=16,out_channels=10,kernel_size=(1,1),padding=0)\n",
        "                                   #nn.ReLU()\n",
        "                                   #nn.BatchNorm2d(num_features=10)\n",
        "                                   #nn.DroupOut2d()\n",
        "                                   )\n",
        "        self.gap  =  nn.Sequential(nn.AvgPool2d(kernel_size=7)) \n",
        "\n",
        "        \n",
        "        \n",
        "        \n",
        "        self.dropout = nn.Dropout(0.1)\n",
        "\n",
        "              \n",
        "        \n",
        "\n",
        "\n",
        "\n",
        "    def forward(self, x):\n",
        "        #x = self.pool1(F.relu(self.conv2(F.relu(self.conv1(x)))))\n",
        "        #x = self.pool2(F.relu(self.conv4(F.relu(self.conv3(x)))))\n",
        "        #x = F.relu(self.conv6(F.relu(self.conv5(x))))\n",
        "        #x = F.relu(self.conv7(x))\n",
        "        #x = x.view(-1, 10)\n",
        "        x = self.conv1(x)\n",
        "        x = self.conv2(x)\n",
        "        \n",
        "        x = self.conv3(x)\n",
        "        x = self.pool1(x)\n",
        "        x = self.dropout(x)\n",
        "        x = self.conv4(x)\n",
        "        #x = self.pool2(x)\n",
        "        x = self.conv5(x)\n",
        "        x = self.conv6(x)\n",
        "        \n",
        "        x = self.conv7(x)\n",
        "        x = self.gap(x)\n",
        "        \n",
        "\n",
        "        x = x.view(-1, 10)\n",
        "        \n",
        "\n",
        "\n",
        "\n",
        "        return F.log_softmax(x)"
      ],
      "execution_count": 0,
      "outputs": []
    },
    {
      "cell_type": "markdown",
      "metadata": {
        "id": "Xb4U7hLWZAXp",
        "colab_type": "text"
      },
      "source": [
        "Summary of our model architecture.\n",
        "\n",
        "1. Used Batch Normalization at every layer and dropout after max pooling layer\n",
        "\n",
        "2. Used GAP of 7*7 at the end"
      ]
    },
    {
      "cell_type": "code",
      "metadata": {
        "id": "59exS33y-wcw",
        "colab_type": "code",
        "colab": {}
      },
      "source": [
        "class Net2(nn.Module):\n",
        "    def __init__(self):\n",
        "        super(Net2, self).__init__()\n",
        "        #self.conv1 = nn.Conv2d(1, 32, 3, padding=1) #input -? OUtput? RF\n",
        "        #self.conv2 = nn.Conv2d(32, 64, 3, padding=1)\n",
        "        #self.pool1 = nn.MaxPool2d(2, 2)\n",
        "        #self.conv3 = nn.Conv2d(64, 128, 3, padding=1)\n",
        "        #self.conv4 = nn.Conv2d(128, 256, 3, padding=1)\n",
        "        #self.pool2 = nn.MaxPool2d(2, 2)\n",
        "        #self.conv5 = nn.Conv2d(256, 512, 3)\n",
        "        #self.conv6 = nn.Conv2d(512, 1024, 3)\n",
        "        #self.conv7 = nn.Conv2d(1024, 10, 3)\n",
        "        self.conv1 = nn.Sequential(nn.Conv2d(in_channels=1,out_channels=10,kernel_size=(3,3),padding=0),\n",
        "                                   nn.ReLU(),\n",
        "                                   nn.BatchNorm2d(num_features=10),\n",
        "                                   #GhostBatchNorm(10,2)\n",
        "                                   #nn.Dropout(0.1)\n",
        "                                   )\n",
        "\n",
        "        self.conv2 = nn.Sequential(nn.Conv2d(in_channels=10,out_channels=16,kernel_size=(3,3),padding=0),\n",
        "                                   nn.ReLU(),\n",
        "                                   nn.BatchNorm2d(num_features=16),\n",
        "                                   #GhostBatchNorm(16,2)\n",
        "                                   #nn.Dropout(0.1)\n",
        "        )\n",
        "        self.conv3 = nn.Sequential(nn.Conv2d(in_channels=16,out_channels=20,kernel_size=(3,3),padding=0),\n",
        "                                   nn.ReLU(),\n",
        "                                   nn.BatchNorm2d(num_features=20),\n",
        "                                   #GhostBatchNorm(20,2)\n",
        "                                   #nn.Dropout(0.1)\n",
        "                                   )                          \n",
        "        \n",
        "        self.pool1 =  nn.MaxPool2d(2,2)\n",
        "         \n",
        "        \n",
        "        \n",
        "        self.conv4 = nn.Sequential(nn.Conv2d(in_channels=20,out_channels=10,kernel_size=(1,1),padding=0),\n",
        "                                   nn.ReLU(),\n",
        "                                   nn.BatchNorm2d(num_features=10),\n",
        "                                   #GhostBatchNorm(10,2),\n",
        "                                   nn.Dropout(0.1)\n",
        "                                   ) \n",
        "        \n",
        "        #self.pool2 =  nn.MaxPool2d(2,2)\n",
        "\n",
        "        self.conv5 = nn.Sequential(nn.Conv2d(in_channels=10,out_channels=20,kernel_size=(3,3),padding=0),\n",
        "                                   nn.ReLU(),\n",
        "                                   nn.BatchNorm2d(num_features=20),\n",
        "                                   #GhostBatchNorm(20,2)\n",
        "                                   #nn.Dropout(0.1)\n",
        "                                   ) \n",
        "        \n",
        "        self.conv6 = nn.Sequential(nn.Conv2d(in_channels=20,out_channels=16,kernel_size=(3,3),padding=0),\n",
        "                                   nn.ReLU(),\n",
        "                                   nn.BatchNorm2d(num_features=16),\n",
        "                                   #GhostBatchNorm(16,2)\n",
        "                                   #nn.Dropout(0.1)\n",
        "                                   ) \n",
        "        self.conv7 = nn.Sequential(nn.Conv2d(in_channels=16,out_channels=10,kernel_size=(1,1),padding=0)\n",
        "                                   #nn.ReLU()\n",
        "                                   #nn.BatchNorm2d(num_features=10)\n",
        "                                   #nn.DroupOut2d()\n",
        "                                   )\n",
        "        self.gap  =  nn.Sequential(nn.AvgPool2d(kernel_size=7)) \n",
        "\n",
        "        \n",
        "        \n",
        "        \n",
        "        self.dropout = nn.Dropout(0.1)\n",
        "\n",
        "              \n",
        "        \n",
        "\n",
        "\n",
        "\n",
        "    def forward(self, x):\n",
        "        #x = self.pool1(F.relu(self.conv2(F.relu(self.conv1(x)))))\n",
        "        #x = self.pool2(F.relu(self.conv4(F.relu(self.conv3(x)))))\n",
        "        #x = F.relu(self.conv6(F.relu(self.conv5(x))))\n",
        "        #x = F.relu(self.conv7(x))\n",
        "        #x = x.view(-1, 10)\n",
        "        x = self.conv1(x)\n",
        "        x = self.conv2(x)\n",
        "        \n",
        "        x = self.conv3(x)\n",
        "        x = self.pool1(x)\n",
        "        x = self.dropout(x)\n",
        "        x = self.conv4(x)\n",
        "        #x = self.pool2(x)\n",
        "        x = self.conv5(x)\n",
        "        x = self.conv6(x)\n",
        "        \n",
        "        x = self.conv7(x)\n",
        "        x = self.gap(x)\n",
        "        \n",
        "\n",
        "        x = x.view(-1, 10)\n",
        "        \n",
        "\n",
        "\n",
        "\n",
        "        return F.log_softmax(x)\n",
        "\n"
      ],
      "execution_count": 0,
      "outputs": []
    },
    {
      "cell_type": "code",
      "metadata": {
        "colab_type": "code",
        "id": "xdydjYTZFyi3",
        "colab": {}
      },
      "source": [
        "def summary_of_model1():\n",
        "    !pip install torchsummary\n",
        "    from torchsummary import summary\n",
        "    use_cuda = torch.cuda.is_available()\n",
        "    device = torch.device(\"cuda\" if use_cuda else \"cpu\")\n",
        "    model = Net().to(device)\n",
        "    summary(model, input_size=(1, 28, 28))\n",
        "    return model\n",
        "\n",
        "def summary_of_model2():\n",
        "    !pip install torchsummary\n",
        "    from torchsummary import summary\n",
        "    use_cuda = torch.cuda.is_available()\n",
        "    device = torch.device(\"cuda\" if use_cuda else \"cpu\")\n",
        "    model = Net2().to(device)\n",
        "    summary(model, input_size=(1, 28, 28))\n",
        "    return model\n"
      ],
      "execution_count": 0,
      "outputs": []
    },
    {
      "cell_type": "markdown",
      "metadata": {
        "id": "OI0pU9G0ZQm5",
        "colab_type": "text"
      },
      "source": [
        "Apply RamdomRotation to image by 7 degree for getting better accuracy tried \n",
        "\n",
        "with other degrees like 5,6 and 10 this was best . \n",
        "\n",
        " converting the image to tensor and normalizing the pixel of image.Used Random Affine image augmentation techniques.\n",
        "\n",
        "We are doing image Augmentation on the train dataset not on testing dataset.\n",
        "Used ColorJitter with different combination of parameters as well as resize function of transform but didnot gave better results in terms of accuracy so commented it."
      ]
    },
    {
      "cell_type": "code",
      "metadata": {
        "id": "DqTWLaM5GHgH",
        "colab_type": "code",
        "colab": {}
      },
      "source": [
        "\n",
        "\n",
        "def loading_of_dataset1():\n",
        "    torch.manual_seed(1)\n",
        "    batch_size = 256\n",
        "\n",
        "    kwargs = {'num_workers': 1, 'pin_memory': True} #if use_cuda else {}\n",
        "    train_loader = torch.utils.data.DataLoader(\n",
        "    datasets.MNIST('../data', train=True, download=True,\n",
        "                    transform=transforms.Compose([\n",
        "                        #transforms.Resize((30,30)),                          \n",
        "                        transforms.RandomRotation((-7.0,7.0),fill=(1,)),\n",
        "                        transforms.RandomAffine(degrees=10, translate=(0.1,0.1), scale=(0.9, 1.1)),\n",
        "                        #transforms.ColorJitter(brightness=0.1, contrast=0.1,saturation=0.1,hue=0.1),                          \n",
        "                        transforms.ToTensor(),\n",
        "                        transforms.Normalize((0.1307,), (0.3081,))\n",
        "                    ])),\n",
        "    batch_size=batch_size, shuffle=True, **kwargs)\n",
        "    test_loader = torch.utils.data.DataLoader(\n",
        "    datasets.MNIST('../data', train=False, transform=transforms.Compose([\n",
        "                        transforms.ToTensor(),\n",
        "                        transforms.Normalize((0.1307,), (0.3081,))\n",
        "                    ])),\n",
        "    batch_size=batch_size, shuffle=True, **kwargs)\n",
        "    return train_loader,test_loader  \n",
        "  \n",
        "def loading_of_dataset2():\n",
        "    torch.manual_seed(1)\n",
        "    batch_size = 128\n",
        "\n",
        "    kwargs = {'num_workers': 1, 'pin_memory': True} #if use_cuda else {}\n",
        "    train_loader = torch.utils.data.DataLoader(\n",
        "       datasets.MNIST('../data', train=True, download=True,\n",
        "                        transform=transforms.Compose([\n",
        "                            #transforms.Resize((30,30)),                          \n",
        "                            transforms.RandomRotation((-7.0,7.0),fill=(1,)),\n",
        "                            transforms.RandomAffine(degrees=10, translate=(0.1,0.1), scale=(0.9, 1.1)),\n",
        "                            #transforms.ColorJitter(brightness=0.1, contrast=0.1,saturation=0.1,hue=0.1),                          \n",
        "                            transforms.ToTensor(),\n",
        "                            transforms.Normalize((0.1307,), (0.3081,))\n",
        "                        ])),\n",
        "\n",
        "        batch_size=batch_size, shuffle=True, **kwargs)\n",
        "    test_loader = torch.utils.data.DataLoader(\n",
        "        datasets.MNIST('../data', train=False, transform=transforms.Compose([\n",
        "                            transforms.ToTensor(),\n",
        "                            transforms.Normalize((0.1307,), (0.3081,))\n",
        "                        ])),\n",
        "        batch_size=batch_size, shuffle=True, **kwargs)   \n",
        "    return train_loader,test_loader"
      ],
      "execution_count": 0,
      "outputs": []
    },
    {
      "cell_type": "code",
      "metadata": {
        "id": "BuwBZZ6Ha4lC",
        "colab_type": "code",
        "colab": {}
      },
      "source": [
        "%matplotlib inline\n",
        "import matplotlib.pyplot as plt\n",
        "import numpy as np"
      ],
      "execution_count": 0,
      "outputs": []
    },
    {
      "cell_type": "code",
      "metadata": {
        "id": "8fDefDhaFlwH",
        "colab_type": "code",
        "colab": {}
      },
      "source": [
        "from tqdm import tqdm\n",
        "train_losses=[]\n",
        "#test_losses=[]\n",
        "train_acc=[]\n",
        "test_acc=[]\n",
        "t_loss=[]\n",
        "total_loss=[]\n",
        "total_acc=[]\n",
        "def train(model, device, train_loader, optimizer, epoch,scheduler,L1lambda=None):\n",
        "    model.train()\n",
        "    pbar = tqdm(train_loader)\n",
        "    correct = 0\n",
        "    processed = 0\n",
        "    for batch_idx, (data, target) in enumerate(pbar):\n",
        "        data, target = data.to(device), target.to(device)\n",
        "        optimizer.zero_grad()\n",
        "        y_pred = model(data)\n",
        "        loss = F.nll_loss(y_pred, target)\n",
        "        #l1_critic=nn.L1Loss(size_average=False)\n",
        "        #reg_loss= 0\n",
        "        #for param in model.parameters():\n",
        "        \n",
        "         #   reg_loss = reg_loss + l1_critic(param)\n",
        "        #factor=0.0005  \n",
        "        #loss=loss + (factor*reg_loss)\n",
        "        if L1lambda:\n",
        "           with torch.enable_grad():\n",
        "             l1_loss=0\n",
        "             for param in model.parameters():\n",
        "               l1_loss+=torch.sum(param.abs())\n",
        "             loss+=L1lambda*l1_loss  \n",
        "        train_losses.append(loss)\n",
        "        loss.backward()\n",
        "        optimizer.step()\n",
        "\n",
        "        pred=y_pred.argmax(dim=1,keepdim=True)\n",
        "        correct+=pred.eq(target.view_as(pred)).sum().item()\n",
        "        processed+=len(data)\n",
        "        pbar.set_description(desc= f'loss={loss.item()} batch_id={batch_idx} Accuracy={100*correct/processed:0.2f}')\n",
        "        train_acc.append(100*correct/processed)\n",
        "\n",
        "\n",
        "def test(model, device, test_loader):\n",
        "    model.eval()\n",
        "    test_loss = 0\n",
        "    correct = 0\n",
        "    with torch.no_grad():\n",
        "        for data, target in test_loader:\n",
        "            data, target = data.to(device), target.to(device)\n",
        "            output = model(data)\n",
        "            test_loss += F.nll_loss(output, target, reduction='sum').item()  # sum up batch loss\n",
        "            pred = output.argmax(dim=1, keepdim=True)  # get the index of the max log-probability\n",
        "            #print(\"predicted\",pred)\n",
        "            #print(\"target\",target)\n",
        "            #print()\n",
        "            correct += pred.eq(target.view_as(pred)).sum().item()\n",
        "            #figure = plt.figure()\n",
        "            #no_of_images=25\n",
        "            #count=0\n",
        "            #for index in range(1,no_of_images+1):\n",
        "             #    for a in np.arange(25):\n",
        "             #        if(pred[a]!=target[a]):\n",
        "             #           plt.subplot(5,5,index)\n",
        "             #\n",
        "             #          plt.axis('off')\n",
        "             #          plt.imshow(data[index].cpu().numpy().squeeze(),cmap='gray_r')\n",
        "             #           count=count+1\n",
        "\n",
        "              #          if(count==25):\n",
        "              #            break\n",
        "            #   \n",
        "            #       plt.imshow(data[index].numpy(),cmap='gray_r')\n",
        "\n",
        "\n",
        "    test_loss /= len(test_loader.dataset)\n",
        "\n",
        "    print('\\nTest set: Average loss: {:.4f}, Accuracy: {}/{} ({:.2f}%)\\n'.format(test_loss, correct, len(test_loader.dataset),100. * correct / len(test_loader.dataset)))\n",
        "    t_loss.append(test_loss)\n",
        "    test_acc.append(100. * correct / len(test_loader.dataset))\n",
        "\n",
        "\n"
      ],
      "execution_count": 0,
      "outputs": []
    },
    {
      "cell_type": "markdown",
      "metadata": {
        "id": "PlqX1HW0bIlX",
        "colab_type": "text"
      },
      "source": [
        "Using epoch of 15.Using StepLR function from lr schedular module using step_size of 5 is giving better accuracy compared to 4 and 6.This is basically done by Hit and Trial."
      ]
    },
    {
      "cell_type": "markdown",
      "metadata": {
        "id": "37MpTOLDaC-2",
        "colab_type": "text"
      },
      "source": [
        "Findong 25 misclassified images using Ghost Batch Normalization in the model"
      ]
    },
    {
      "cell_type": "code",
      "metadata": {
        "id": "FFiwbbhHFy5H",
        "colab_type": "code",
        "colab": {}
      },
      "source": [
        "def misclassified_images():\n",
        "    train_loader,test_loader=loading_of_dataset1()\n",
        "    dataiter = iter(test_loader)\n",
        "    #data,target = dataiter.next()\n",
        "    #data, target = data.to(device), target.to(device)\n",
        "    #output = model(data)\n",
        "    #test_loss += F.nll_loss(output, target, reduction='sum').item()  # sum up batch loss\n",
        "    #pred = output.argmax(dim=1, keepdim=True)  # get the index of the max log-probability\n",
        "    #print(pred)\n",
        "    #print()\n",
        "    #correct += pred.eq(target.view_as(pred)).sum().item()\n",
        "    figure = plt.figure()\n",
        "    plt.title('Misclassified images when using GBN')\n",
        "    #no_of_images=25\n",
        "    count=0\n",
        "    print(\"with GBN misclassified image\")\n",
        "    while(count<25):\n",
        "          data,target = dataiter.next()\n",
        "          device = 'cuda' if torch.cuda.is_available() else 'cpu'\n",
        "          model=summary_of_model1()\n",
        "          model_save_name = 'S6_Assignment_Misclasssified_GBN.pt'\n",
        "          path = F\"/content/gdrive/My Drive/{model_save_name}\"\n",
        "          model.load_state_dict(torch.load(path))  #loading the model\n",
        "          model.eval()\n",
        "          data, target = data.to(device), target.to(device)\n",
        "          output = model(data)\n",
        "          #test_loss += F.nll_loss(output, target, reduction='sum').item()  # sum up batch loss\n",
        "          pred = output.argmax(dim=1, keepdim=True)  # get the index of the max log-probability\n",
        "          \n",
        "          for a in range(256):\n",
        "              if(pred[a]!=target[a]):\n",
        "                 #print(\"pred\",pred[a])\n",
        "                 #print(\"targ\",target[a])\n",
        "                 plt.subplot(5,5,count+1)\n",
        "                 plt.axis('off')\n",
        "                 \n",
        "                 plt.imshow(data[a].cpu().numpy().squeeze(),cmap='gray_r')\n",
        "                 count=count+1\n",
        "\n",
        "              if(count==25):\n",
        "                  break\n"
      ],
      "execution_count": 0,
      "outputs": []
    },
    {
      "cell_type": "markdown",
      "metadata": {
        "id": "jS7IHuMkZcbk",
        "colab_type": "text"
      },
      "source": [
        "Findong 25 misclassified images using Batch Normalization in the model"
      ]
    },
    {
      "cell_type": "code",
      "metadata": {
        "id": "Cwcom2WxcrRx",
        "colab_type": "code",
        "colab": {}
      },
      "source": [
        "def misclassified_images_BN():\n",
        "    train_loader,test_loader=loading_of_dataset2()\n",
        "    dataiter = iter(test_loader)\n",
        "    #data,target = dataiter.next()\n",
        "    #data, target = data.to(device), target.to(device)\n",
        "    #output = model(data)\n",
        "    #test_loss += F.nll_loss(output, target, reduction='sum').item()  # sum up batch loss\n",
        "    #pred = output.argmax(dim=1, keepdim=True)  # get the index of the max log-probability\n",
        "    #print(pred)\n",
        "    #print()\n",
        "    #correct += pred.eq(target.view_as(pred)).sum().item()\n",
        "    figure = plt.figure()\n",
        "    plt.title('Misclassified images when using BN')\n",
        "    #no_of_images=25\n",
        "    count=0\n",
        "    print(\"with BN misclassified image\")\n",
        "   \n",
        "    while(count<25):\n",
        "          data,target = dataiter.next()\n",
        "          device = 'cuda' if torch.cuda.is_available() else 'cpu'\n",
        "          model=summary_of_model2()\n",
        "          model_save_name = 'S6_Assignment_Misclasssified_BN.pt' \n",
        "          path = F\"/content/gdrive/My Drive/{model_save_name}\"\n",
        "          model.load_state_dict(torch.load(path))  # loading the model\n",
        "          model.eval()\n",
        "          data, target = data.to(device), target.to(device)\n",
        "          output = model(data)\n",
        "          #test_loss += F.nll_loss(output, target, reduction='sum').item()  # sum up batch loss\n",
        "          pred = output.argmax(dim=1, keepdim=True)\n",
        "            # get the index of the max log-probability\n",
        "\n",
        "          \n",
        "          for a in range(128):\n",
        "              if(pred[a]!=target[a]):\n",
        "                 #print(\"pred\",pred[a])\n",
        "                 #print(\"targ\",target[a])\n",
        "                 plt.subplot(5,5,count+1)\n",
        "                 plt.axis('off')\n",
        "                 \n",
        "                 plt.imshow(data[a].cpu().numpy().squeeze(),cmap='gray_r')\n",
        "                 count=count+1\n",
        "\n",
        "              if(count==25):\n",
        "                  break\n",
        "\n"
      ],
      "execution_count": 0,
      "outputs": []
    },
    {
      "cell_type": "markdown",
      "metadata": {
        "id": "9zpq_4PFf4pQ",
        "colab_type": "text"
      },
      "source": [
        "**Target:**\n",
        "1. Getting an accuracy of 99.4 with less than 10k parametrs under 15 epochs.\n",
        "Results:\n",
        "1. Parameters: 9736 \n",
        "2. Best Train Accuracy:98.09\n",
        "3. Best Test Accuracy: 99.45\n",
        "\n",
        "**Analysis:**\n",
        "\n",
        "1. The model is doing pretty well not overfitting as well as getting consistent accuracy.\n",
        "\n",
        "2. Seeing image sample ,we get to know we can add slight rotation for better accuracy.\n",
        "3. Doing image augmentation and choosing the step size of LR schedular wisely can improve the accuracy.\n",
        "\n",
        "4. Adding too many image augmentation techniques work in a negative way reduces the accuracy or have not much impact"
      ]
    },
    {
      "cell_type": "code",
      "metadata": {
        "id": "So5uk4EkHW6R",
        "colab_type": "code",
        "colab": {}
      },
      "source": [
        "from torch.optim.lr_scheduler import StepLR\n",
        "\n",
        "def l1_l2_with_GBN():\n",
        "    global t_loss\n",
        "    global test_acc\n",
        "    device= 'cuda' if torch.cuda.is_available() else 'cpu'\n",
        "    #model = Net().to(device)\n",
        "    model=summary_of_model1()\n",
        "    train_loader,test_loader=loading_of_dataset1()\n",
        "    optimizer = optim.SGD(model.parameters(), lr=0.01, momentum=0.9,weight_decay=1e-5)\n",
        "    scheduler= StepLR(optimizer,step_size=5,gamma=0.1)\n",
        "    print(\"....L1_L2_GBN...\")\n",
        "    for epoch in range(1,25):\n",
        "        train(model, device, train_loader, optimizer, epoch,scheduler,L1lambda=1e-5)\n",
        "        test(model, device, test_loader)\n",
        "    total_loss.extend([t_loss])\n",
        "    t_loss=[]\n",
        "    total_acc.extend([test_acc])\n",
        "    test_acc=[]   \n",
        "\n",
        "def l1_with_GBN():\n",
        "\n",
        "    global t_loss\n",
        "    global test_acc\n",
        "    device= 'cuda' if torch.cuda.is_available() else 'cpu'\n",
        "    #model=Net().to(device)\n",
        "    model=summary_of_model1()\n",
        "    train_loader,test_loader=loading_of_dataset1()\n",
        "    optimizer = optim.SGD(model.parameters(),lr=0.01,momentum=0.9)\n",
        "    scheduler= StepLR(optimizer,step_size=5,gamma=0.1)\n",
        "    print(\"...L1_with_GBN..\")\n",
        "    for epoch in range(1, 25):\n",
        "        train(model, device, train_loader, optimizer, epoch,scheduler,L1lambda=1e-5)\n",
        "        test(model, device, test_loader)\n",
        "    total_loss.extend([t_loss])\n",
        "    t_loss=[]\n",
        "    total_acc.extend([test_acc])\n",
        "    test_acc=[]\n",
        "def l2_with_GBN():\n",
        "    global t_loss\n",
        "    global test_acc\n",
        "    device= 'cuda' if torch.cuda.is_available() else 'cpu'\n",
        "    #model=Net().to(device)\n",
        "    model=summary_of_model1()\n",
        "    train_loader,test_loader=loading_of_dataset1()\n",
        "    optimizer = optim.SGD(model.parameters(),lr=0.01,momentum=0.9,weight_decay=1e-5)\n",
        "    scheduler= StepLR(optimizer,step_size=5,gamma=0.1)\n",
        "    print(\"...L2_with_GBN..\")\n",
        "    for epoch in range(1,25):\n",
        "        train(model, device, train_loader, optimizer, epoch,scheduler)\n",
        "        test(model, device, test_loader)\n",
        "    total_loss.extend([t_loss])\n",
        "    t_loss=[]\n",
        "    total_acc.extend([test_acc])\n",
        "    test_acc=[]    \n",
        "\n",
        "def without_l1_l2_GBN():\n",
        "    global t_loss\n",
        "    global test_acc\n",
        "     \n",
        "    device = 'cuda' if torch.cuda.is_available() else 'cpu'\n",
        "    #model=Net().to(device)\n",
        "    model=summary_of_model1()\n",
        "    train_loader,test_loader=loading_of_dataset1()\n",
        "    optimizer = optim.SGD(model.parameters(),lr=0.01,momentum=0.9)\n",
        "    scheduler= StepLR(optimizer,step_size=5,gamma=0.1)\n",
        "    print(\"...without_L1_L2_GBN..\")\n",
        "    for epoch in range(1, 25):\n",
        "        train(model, device, train_loader, optimizer, epoch,scheduler)\n",
        "        test(model, device, test_loader)\n",
        "    \n",
        "        \n",
        "    total_loss.extend([t_loss])\n",
        "    t_loss=[]\n",
        "    total_acc.extend([test_acc])\n",
        "    test_acc=[]\n",
        "def BN_without_L1_L2():\n",
        "    global t_loss\n",
        "    global test_acc\n",
        "    device= 'cuda' if torch.cuda.is_available() else 'cpu'\n",
        "    #model=Net2().to(device)\n",
        "    model=summary_of_model2()\n",
        "    train_loader,test_loader=loading_of_dataset2()\n",
        "    optimizer = optim.SGD(model.parameters(),lr=0.01,momentum=0.9)\n",
        "    scheduler= StepLR(optimizer,step_size=5,gamma=0.1)\n",
        "    print(\"...without_L1_L2_BN..\")\n",
        "    for epoch in range(1,25):\n",
        "        train(model, device, train_loader, optimizer, epoch,scheduler)\n",
        "        test(model, device, test_loader)\n",
        "    #misclassified_images_BN() \n",
        "    #torch.save(model,\"a.pt\")\n",
        "    total_loss.extend([t_loss])\n",
        "    t_loss=[]\n",
        "    total_acc.extend([test_acc])\n",
        "    test_acc=[]\n",
        "def l1_with_BN():\n",
        "    global t_loss\n",
        "    global test_acc\n",
        "    device= 'cuda' if torch.cuda.is_available() else 'cpu'\n",
        "    #model=Net2().to(device)\n",
        "    model=summary_of_model2()\n",
        "    train_loader,test_loader=loading_of_dataset2()\n",
        "    optimizer = optim.SGD(model.parameters(),lr=0.01,momentum=0.9)\n",
        "    scheduler= StepLR(optimizer,step_size=5,gamma=0.1)\n",
        "    print(\"...L1_with_BN..\")\n",
        "    for epoch in range(1,25):\n",
        "        train(model, device, train_loader, optimizer, epoch,scheduler,L1lambda=1e-5)\n",
        "        test(model, device, test_loader)\n",
        "    total_loss.extend([t_loss])\n",
        "    t_loss=[]\n",
        "    total_acc.extend([test_acc])\n",
        "    test_acc=[]\n",
        "def l1_l2_with_BN():\n",
        "    global t_loss\n",
        "    global test_acc\n",
        "    device= 'cuda' if torch.cuda.is_available() else 'cpu'\n",
        "    #model = Net2().to(device)\n",
        "    model=summary_of_model2()\n",
        "    train_loader,test_loader=loading_of_dataset2()\n",
        "    optimizer = optim.SGD(model.parameters(), lr=0.01, momentum=0.9,weight_decay=1e-5)\n",
        "    scheduler= StepLR(optimizer,step_size=5,gamma=0.1)\n",
        "    print(\"....L1_L2_BN...\")\n",
        "    for epoch in range(1,25):\n",
        "        train(model, device, train_loader, optimizer, epoch,scheduler,L1lambda=1e-5)\n",
        "        test(model, device, test_loader)\n",
        "    total_loss.extend([t_loss])\n",
        "    t_loss=[]\n",
        "    total_acc.extend([test_acc])\n",
        "    test_acc=[]    \n",
        "def l2_with_BN():\n",
        "    global t_loss\n",
        "    global test_acc\n",
        "    device= 'cuda' if torch.cuda.is_available() else 'cpu'\n",
        "    #model=Net2().to(device)\n",
        "    model=summary_of_model2()\n",
        "    train_loader,test_loader=loading_of_dataset2()\n",
        "    optimizer = optim.SGD(model.parameters(),lr=0.01,momentum=0.9,weight_decay=1e-5)\n",
        "    scheduler= StepLR(optimizer,step_size=5,gamma=0.1)\n",
        "    print(\"...L2_with_BN..\")\n",
        "    for epoch in range(1,25):\n",
        "        train(model, device, train_loader, optimizer, epoch,scheduler)\n",
        "        test(model, device, test_loader)\n",
        "    total_loss.extend([t_loss])\n",
        "    t_loss=[]\n",
        "    total_acc.extend([test_acc])\n",
        "    test_acc=[]\n",
        "\n",
        "\n",
        "    \n",
        "#l1_critic=nn.L1Loss(size_average=False)\n",
        "#reg_loss= 0\n",
        "#for param in model.parameters():\n",
        " #   print(param)\n",
        " #   reg_loss = reg_loss + l1_critic(param)\n",
        "#factor=0.0005  \n",
        "#loss=loss + (factor*reg_loss)\n",
        "\n",
        "#for epoch in range(1, 5):\n",
        " #   train(model, device, train_loader, optimizer, epoch,scheduler,L1lambda=1e-5)\n",
        "  #  test(model, device, test_loader)"
      ],
      "execution_count": 0,
      "outputs": []
    },
    {
      "cell_type": "code",
      "metadata": {
        "id": "cBCbf_e-1KQn",
        "colab_type": "code",
        "outputId": "9a561442-36b3-4939-f788-00edbca6205f",
        "colab": {
          "base_uri": "https://localhost:8080/",
          "height": 1000
        }
      },
      "source": [
        "l1_l2_with_GBN()\n",
        "l1_with_GBN()\n",
        "l2_with_GBN()\n",
        "without_l1_l2_GBN()\n",
        "BN_without_L1_L2()\n",
        "l1_with_BN()\n",
        "l2_with_BN()\n",
        "l1_l2_with_BN()\n",
        "\n",
        "\n",
        "\n"
      ],
      "execution_count": 0,
      "outputs": [
        {
          "output_type": "stream",
          "text": [
            "Requirement already satisfied: torchsummary in /usr/local/lib/python3.6/dist-packages (1.5.1)\n"
          ],
          "name": "stdout"
        },
        {
          "output_type": "stream",
          "text": [
            "/usr/local/lib/python3.6/dist-packages/ipykernel_launcher.py:102: UserWarning: Implicit dimension choice for log_softmax has been deprecated. Change the call to include dim=X as an argument.\n",
            "\r  0%|          | 0/235 [00:00<?, ?it/s]"
          ],
          "name": "stderr"
        },
        {
          "output_type": "stream",
          "text": [
            "----------------------------------------------------------------\n",
            "        Layer (type)               Output Shape         Param #\n",
            "================================================================\n",
            "            Conv2d-1           [-1, 10, 26, 26]             100\n",
            "              ReLU-2           [-1, 10, 26, 26]               0\n",
            "    GhostBatchNorm-3           [-1, 10, 26, 26]              20\n",
            "            Conv2d-4           [-1, 16, 24, 24]           1,456\n",
            "              ReLU-5           [-1, 16, 24, 24]               0\n",
            "    GhostBatchNorm-6           [-1, 16, 24, 24]              32\n",
            "            Conv2d-7           [-1, 20, 22, 22]           2,900\n",
            "              ReLU-8           [-1, 20, 22, 22]               0\n",
            "    GhostBatchNorm-9           [-1, 20, 22, 22]              40\n",
            "        MaxPool2d-10           [-1, 20, 11, 11]               0\n",
            "          Dropout-11           [-1, 20, 11, 11]               0\n",
            "           Conv2d-12           [-1, 10, 11, 11]             210\n",
            "             ReLU-13           [-1, 10, 11, 11]               0\n",
            "   GhostBatchNorm-14           [-1, 10, 11, 11]              20\n",
            "          Dropout-15           [-1, 10, 11, 11]               0\n",
            "           Conv2d-16             [-1, 20, 9, 9]           1,820\n",
            "             ReLU-17             [-1, 20, 9, 9]               0\n",
            "      BatchNorm2d-18             [-1, 20, 9, 9]              40\n",
            "   GhostBatchNorm-19             [-1, 20, 9, 9]              40\n",
            "           Conv2d-20             [-1, 16, 7, 7]           2,896\n",
            "             ReLU-21             [-1, 16, 7, 7]               0\n",
            "   GhostBatchNorm-22             [-1, 16, 7, 7]              32\n",
            "           Conv2d-23             [-1, 10, 7, 7]             170\n",
            "        AvgPool2d-24             [-1, 10, 1, 1]               0\n",
            "================================================================\n",
            "Total params: 9,776\n",
            "Trainable params: 9,776\n",
            "Non-trainable params: 0\n",
            "----------------------------------------------------------------\n",
            "Input size (MB): 0.00\n",
            "Forward/backward pass size (MB): 0.73\n",
            "Params size (MB): 0.04\n",
            "Estimated Total Size (MB): 0.77\n",
            "----------------------------------------------------------------\n",
            "....L1_L2_GBN...\n"
          ],
          "name": "stdout"
        },
        {
          "output_type": "stream",
          "text": [
            "loss=0.4441702961921692 batch_id=234 Accuracy=63.30: 100%|██████████| 235/235 [00:21<00:00, 11.16it/s]\n",
            "  0%|          | 0/235 [00:00<?, ?it/s]"
          ],
          "name": "stderr"
        },
        {
          "output_type": "stream",
          "text": [
            "\n",
            "Test set: Average loss: 0.2866, Accuracy: 9497/10000 (94.97%)\n",
            "\n"
          ],
          "name": "stdout"
        },
        {
          "output_type": "stream",
          "text": [
            "loss=0.2559341788291931 batch_id=234 Accuracy=92.33: 100%|██████████| 235/235 [00:21<00:00, 11.12it/s]\n",
            "  0%|          | 0/235 [00:00<?, ?it/s]"
          ],
          "name": "stderr"
        },
        {
          "output_type": "stream",
          "text": [
            "\n",
            "Test set: Average loss: 0.1044, Accuracy: 9732/10000 (97.32%)\n",
            "\n"
          ],
          "name": "stdout"
        },
        {
          "output_type": "stream",
          "text": [
            "loss=0.16789299249649048 batch_id=234 Accuracy=94.90: 100%|██████████| 235/235 [00:20<00:00, 11.20it/s]\n",
            "  0%|          | 0/235 [00:00<?, ?it/s]"
          ],
          "name": "stderr"
        },
        {
          "output_type": "stream",
          "text": [
            "\n",
            "Test set: Average loss: 0.0680, Accuracy: 9817/10000 (98.17%)\n",
            "\n"
          ],
          "name": "stdout"
        },
        {
          "output_type": "stream",
          "text": [
            "loss=0.17097720503807068 batch_id=234 Accuracy=95.81: 100%|██████████| 235/235 [00:21<00:00, 11.00it/s]\n",
            "  0%|          | 0/235 [00:00<?, ?it/s]"
          ],
          "name": "stderr"
        },
        {
          "output_type": "stream",
          "text": [
            "\n",
            "Test set: Average loss: 0.0567, Accuracy: 9843/10000 (98.43%)\n",
            "\n"
          ],
          "name": "stdout"
        },
        {
          "output_type": "stream",
          "text": [
            "loss=0.12832237780094147 batch_id=234 Accuracy=96.46: 100%|██████████| 235/235 [00:20<00:00, 11.19it/s]\n",
            "  0%|          | 0/235 [00:00<?, ?it/s]"
          ],
          "name": "stderr"
        },
        {
          "output_type": "stream",
          "text": [
            "\n",
            "Test set: Average loss: 0.0467, Accuracy: 9871/10000 (98.71%)\n",
            "\n"
          ],
          "name": "stdout"
        },
        {
          "output_type": "stream",
          "text": [
            "loss=0.1010247990489006 batch_id=234 Accuracy=96.72: 100%|██████████| 235/235 [00:21<00:00, 11.14it/s]\n",
            "  0%|          | 0/235 [00:00<?, ?it/s]"
          ],
          "name": "stderr"
        },
        {
          "output_type": "stream",
          "text": [
            "\n",
            "Test set: Average loss: 0.0433, Accuracy: 9877/10000 (98.77%)\n",
            "\n"
          ],
          "name": "stdout"
        },
        {
          "output_type": "stream",
          "text": [
            "loss=0.08179076761007309 batch_id=234 Accuracy=96.94: 100%|██████████| 235/235 [00:21<00:00, 11.09it/s]\n",
            "  0%|          | 0/235 [00:00<?, ?it/s]"
          ],
          "name": "stderr"
        },
        {
          "output_type": "stream",
          "text": [
            "\n",
            "Test set: Average loss: 0.0388, Accuracy: 9886/10000 (98.86%)\n",
            "\n"
          ],
          "name": "stdout"
        },
        {
          "output_type": "stream",
          "text": [
            "loss=0.11132227629423141 batch_id=234 Accuracy=97.08: 100%|██████████| 235/235 [00:21<00:00, 11.10it/s]\n",
            "  0%|          | 0/235 [00:00<?, ?it/s]"
          ],
          "name": "stderr"
        },
        {
          "output_type": "stream",
          "text": [
            "\n",
            "Test set: Average loss: 0.0333, Accuracy: 9904/10000 (99.04%)\n",
            "\n"
          ],
          "name": "stdout"
        },
        {
          "output_type": "stream",
          "text": [
            "loss=0.07644447684288025 batch_id=234 Accuracy=97.32: 100%|██████████| 235/235 [00:20<00:00, 11.21it/s]\n",
            "  0%|          | 0/235 [00:00<?, ?it/s]"
          ],
          "name": "stderr"
        },
        {
          "output_type": "stream",
          "text": [
            "\n",
            "Test set: Average loss: 0.0336, Accuracy: 9898/10000 (98.98%)\n",
            "\n"
          ],
          "name": "stdout"
        },
        {
          "output_type": "stream",
          "text": [
            "loss=0.16286581754684448 batch_id=234 Accuracy=97.35: 100%|██████████| 235/235 [00:21<00:00, 11.08it/s]\n",
            "  0%|          | 0/235 [00:00<?, ?it/s]"
          ],
          "name": "stderr"
        },
        {
          "output_type": "stream",
          "text": [
            "\n",
            "Test set: Average loss: 0.0301, Accuracy: 9913/10000 (99.13%)\n",
            "\n"
          ],
          "name": "stdout"
        },
        {
          "output_type": "stream",
          "text": [
            "loss=0.07229629904031754 batch_id=234 Accuracy=97.55: 100%|██████████| 235/235 [00:21<00:00, 11.02it/s]\n",
            "  0%|          | 0/235 [00:00<?, ?it/s]"
          ],
          "name": "stderr"
        },
        {
          "output_type": "stream",
          "text": [
            "\n",
            "Test set: Average loss: 0.0335, Accuracy: 9900/10000 (99.00%)\n",
            "\n"
          ],
          "name": "stdout"
        },
        {
          "output_type": "stream",
          "text": [
            "loss=0.10717732459306717 batch_id=234 Accuracy=97.61: 100%|██████████| 235/235 [00:20<00:00, 11.22it/s]\n",
            "  0%|          | 0/235 [00:00<?, ?it/s]"
          ],
          "name": "stderr"
        },
        {
          "output_type": "stream",
          "text": [
            "\n",
            "Test set: Average loss: 0.0306, Accuracy: 9907/10000 (99.07%)\n",
            "\n"
          ],
          "name": "stdout"
        },
        {
          "output_type": "stream",
          "text": [
            "loss=0.06183671951293945 batch_id=234 Accuracy=97.58: 100%|██████████| 235/235 [00:21<00:00, 10.99it/s]\n",
            "  0%|          | 0/235 [00:00<?, ?it/s]"
          ],
          "name": "stderr"
        },
        {
          "output_type": "stream",
          "text": [
            "\n",
            "Test set: Average loss: 0.0281, Accuracy: 9914/10000 (99.14%)\n",
            "\n"
          ],
          "name": "stdout"
        },
        {
          "output_type": "stream",
          "text": [
            "loss=0.09443007409572601 batch_id=234 Accuracy=97.78: 100%|██████████| 235/235 [00:21<00:00, 11.11it/s]\n",
            "  0%|          | 0/235 [00:00<?, ?it/s]"
          ],
          "name": "stderr"
        },
        {
          "output_type": "stream",
          "text": [
            "\n",
            "Test set: Average loss: 0.0313, Accuracy: 9903/10000 (99.03%)\n",
            "\n"
          ],
          "name": "stdout"
        },
        {
          "output_type": "stream",
          "text": [
            "loss=0.06973723322153091 batch_id=234 Accuracy=97.84: 100%|██████████| 235/235 [00:21<00:00, 11.13it/s]\n",
            "  0%|          | 0/235 [00:00<?, ?it/s]"
          ],
          "name": "stderr"
        },
        {
          "output_type": "stream",
          "text": [
            "\n",
            "Test set: Average loss: 0.0259, Accuracy: 9923/10000 (99.23%)\n",
            "\n"
          ],
          "name": "stdout"
        },
        {
          "output_type": "stream",
          "text": [
            "loss=0.04631683975458145 batch_id=234 Accuracy=97.86: 100%|██████████| 235/235 [00:21<00:00, 11.12it/s]\n",
            "  0%|          | 0/235 [00:00<?, ?it/s]"
          ],
          "name": "stderr"
        },
        {
          "output_type": "stream",
          "text": [
            "\n",
            "Test set: Average loss: 0.0279, Accuracy: 9917/10000 (99.17%)\n",
            "\n"
          ],
          "name": "stdout"
        },
        {
          "output_type": "stream",
          "text": [
            "loss=0.1398596316576004 batch_id=234 Accuracy=97.89: 100%|██████████| 235/235 [00:21<00:00, 11.12it/s]\n",
            "  0%|          | 0/235 [00:00<?, ?it/s]"
          ],
          "name": "stderr"
        },
        {
          "output_type": "stream",
          "text": [
            "\n",
            "Test set: Average loss: 0.0258, Accuracy: 9917/10000 (99.17%)\n",
            "\n"
          ],
          "name": "stdout"
        },
        {
          "output_type": "stream",
          "text": [
            "loss=0.07972083985805511 batch_id=234 Accuracy=98.00: 100%|██████████| 235/235 [00:21<00:00, 11.13it/s]\n",
            "  0%|          | 0/235 [00:00<?, ?it/s]"
          ],
          "name": "stderr"
        },
        {
          "output_type": "stream",
          "text": [
            "\n",
            "Test set: Average loss: 0.0261, Accuracy: 9913/10000 (99.13%)\n",
            "\n"
          ],
          "name": "stdout"
        },
        {
          "output_type": "stream",
          "text": [
            "loss=0.09285181015729904 batch_id=234 Accuracy=98.02: 100%|██████████| 235/235 [00:21<00:00, 11.16it/s]\n",
            "  0%|          | 0/235 [00:00<?, ?it/s]"
          ],
          "name": "stderr"
        },
        {
          "output_type": "stream",
          "text": [
            "\n",
            "Test set: Average loss: 0.0266, Accuracy: 9918/10000 (99.18%)\n",
            "\n"
          ],
          "name": "stdout"
        },
        {
          "output_type": "stream",
          "text": [
            "loss=0.04374822974205017 batch_id=234 Accuracy=97.97: 100%|██████████| 235/235 [00:21<00:00, 11.08it/s]\n",
            "  0%|          | 0/235 [00:00<?, ?it/s]"
          ],
          "name": "stderr"
        },
        {
          "output_type": "stream",
          "text": [
            "\n",
            "Test set: Average loss: 0.0246, Accuracy: 9919/10000 (99.19%)\n",
            "\n"
          ],
          "name": "stdout"
        },
        {
          "output_type": "stream",
          "text": [
            "loss=0.0556538924574852 batch_id=234 Accuracy=98.12: 100%|██████████| 235/235 [00:21<00:00, 11.10it/s]\n",
            "  0%|          | 0/235 [00:00<?, ?it/s]"
          ],
          "name": "stderr"
        },
        {
          "output_type": "stream",
          "text": [
            "\n",
            "Test set: Average loss: 0.0248, Accuracy: 9920/10000 (99.20%)\n",
            "\n"
          ],
          "name": "stdout"
        },
        {
          "output_type": "stream",
          "text": [
            "loss=0.061025649309158325 batch_id=234 Accuracy=98.11: 100%|██████████| 235/235 [00:21<00:00, 11.13it/s]\n",
            "  0%|          | 0/235 [00:00<?, ?it/s]"
          ],
          "name": "stderr"
        },
        {
          "output_type": "stream",
          "text": [
            "\n",
            "Test set: Average loss: 0.0249, Accuracy: 9923/10000 (99.23%)\n",
            "\n"
          ],
          "name": "stdout"
        },
        {
          "output_type": "stream",
          "text": [
            "loss=0.08884978294372559 batch_id=234 Accuracy=98.16: 100%|██████████| 235/235 [00:20<00:00, 11.21it/s]\n",
            "  0%|          | 0/235 [00:00<?, ?it/s]"
          ],
          "name": "stderr"
        },
        {
          "output_type": "stream",
          "text": [
            "\n",
            "Test set: Average loss: 0.0229, Accuracy: 9929/10000 (99.29%)\n",
            "\n"
          ],
          "name": "stdout"
        },
        {
          "output_type": "stream",
          "text": [
            "loss=0.07663780450820923 batch_id=234 Accuracy=98.16: 100%|██████████| 235/235 [00:21<00:00, 11.11it/s]\n"
          ],
          "name": "stderr"
        },
        {
          "output_type": "stream",
          "text": [
            "\n",
            "Test set: Average loss: 0.0241, Accuracy: 9916/10000 (99.16%)\n",
            "\n",
            "Requirement already satisfied: torchsummary in /usr/local/lib/python3.6/dist-packages (1.5.1)\n"
          ],
          "name": "stdout"
        },
        {
          "output_type": "stream",
          "text": [
            "\r  0%|          | 0/235 [00:00<?, ?it/s]"
          ],
          "name": "stderr"
        },
        {
          "output_type": "stream",
          "text": [
            "----------------------------------------------------------------\n",
            "        Layer (type)               Output Shape         Param #\n",
            "================================================================\n",
            "            Conv2d-1           [-1, 10, 26, 26]             100\n",
            "              ReLU-2           [-1, 10, 26, 26]               0\n",
            "    GhostBatchNorm-3           [-1, 10, 26, 26]              20\n",
            "            Conv2d-4           [-1, 16, 24, 24]           1,456\n",
            "              ReLU-5           [-1, 16, 24, 24]               0\n",
            "    GhostBatchNorm-6           [-1, 16, 24, 24]              32\n",
            "            Conv2d-7           [-1, 20, 22, 22]           2,900\n",
            "              ReLU-8           [-1, 20, 22, 22]               0\n",
            "    GhostBatchNorm-9           [-1, 20, 22, 22]              40\n",
            "        MaxPool2d-10           [-1, 20, 11, 11]               0\n",
            "          Dropout-11           [-1, 20, 11, 11]               0\n",
            "           Conv2d-12           [-1, 10, 11, 11]             210\n",
            "             ReLU-13           [-1, 10, 11, 11]               0\n",
            "   GhostBatchNorm-14           [-1, 10, 11, 11]              20\n",
            "          Dropout-15           [-1, 10, 11, 11]               0\n",
            "           Conv2d-16             [-1, 20, 9, 9]           1,820\n",
            "             ReLU-17             [-1, 20, 9, 9]               0\n",
            "      BatchNorm2d-18             [-1, 20, 9, 9]              40\n",
            "   GhostBatchNorm-19             [-1, 20, 9, 9]              40\n",
            "           Conv2d-20             [-1, 16, 7, 7]           2,896\n",
            "             ReLU-21             [-1, 16, 7, 7]               0\n",
            "   GhostBatchNorm-22             [-1, 16, 7, 7]              32\n",
            "           Conv2d-23             [-1, 10, 7, 7]             170\n",
            "        AvgPool2d-24             [-1, 10, 1, 1]               0\n",
            "================================================================\n",
            "Total params: 9,776\n",
            "Trainable params: 9,776\n",
            "Non-trainable params: 0\n",
            "----------------------------------------------------------------\n",
            "Input size (MB): 0.00\n",
            "Forward/backward pass size (MB): 0.73\n",
            "Params size (MB): 0.04\n",
            "Estimated Total Size (MB): 0.77\n",
            "----------------------------------------------------------------\n",
            "...L1_with_GBN..\n"
          ],
          "name": "stdout"
        },
        {
          "output_type": "stream",
          "text": [
            "loss=0.4445681869983673 batch_id=234 Accuracy=65.16: 100%|██████████| 235/235 [00:21<00:00, 11.08it/s]\n",
            "  0%|          | 0/235 [00:00<?, ?it/s]"
          ],
          "name": "stderr"
        },
        {
          "output_type": "stream",
          "text": [
            "\n",
            "Test set: Average loss: 0.2781, Accuracy: 9427/10000 (94.27%)\n",
            "\n"
          ],
          "name": "stdout"
        },
        {
          "output_type": "stream",
          "text": [
            "loss=0.2899813652038574 batch_id=234 Accuracy=92.72: 100%|██████████| 235/235 [00:21<00:00, 11.08it/s]\n",
            "  0%|          | 0/235 [00:00<?, ?it/s]"
          ],
          "name": "stderr"
        },
        {
          "output_type": "stream",
          "text": [
            "\n",
            "Test set: Average loss: 0.1283, Accuracy: 9679/10000 (96.79%)\n",
            "\n"
          ],
          "name": "stdout"
        },
        {
          "output_type": "stream",
          "text": [
            "loss=0.2236204296350479 batch_id=234 Accuracy=94.90: 100%|██████████| 235/235 [00:21<00:00, 11.14it/s]\n",
            "  0%|          | 0/235 [00:00<?, ?it/s]"
          ],
          "name": "stderr"
        },
        {
          "output_type": "stream",
          "text": [
            "\n",
            "Test set: Average loss: 0.0708, Accuracy: 9815/10000 (98.15%)\n",
            "\n"
          ],
          "name": "stdout"
        },
        {
          "output_type": "stream",
          "text": [
            "loss=0.21520067751407623 batch_id=234 Accuracy=95.83: 100%|██████████| 235/235 [00:21<00:00, 11.11it/s]\n",
            "  0%|          | 0/235 [00:00<?, ?it/s]"
          ],
          "name": "stderr"
        },
        {
          "output_type": "stream",
          "text": [
            "\n",
            "Test set: Average loss: 0.0617, Accuracy: 9832/10000 (98.32%)\n",
            "\n"
          ],
          "name": "stdout"
        },
        {
          "output_type": "stream",
          "text": [
            "loss=0.09435456246137619 batch_id=234 Accuracy=96.50: 100%|██████████| 235/235 [00:20<00:00, 11.26it/s]\n",
            "  0%|          | 0/235 [00:00<?, ?it/s]"
          ],
          "name": "stderr"
        },
        {
          "output_type": "stream",
          "text": [
            "\n",
            "Test set: Average loss: 0.0489, Accuracy: 9854/10000 (98.54%)\n",
            "\n"
          ],
          "name": "stdout"
        },
        {
          "output_type": "stream",
          "text": [
            "loss=0.08653382211923599 batch_id=234 Accuracy=96.74: 100%|██████████| 235/235 [00:21<00:00, 11.08it/s]\n",
            "  0%|          | 0/235 [00:00<?, ?it/s]"
          ],
          "name": "stderr"
        },
        {
          "output_type": "stream",
          "text": [
            "\n",
            "Test set: Average loss: 0.0437, Accuracy: 9880/10000 (98.80%)\n",
            "\n"
          ],
          "name": "stdout"
        },
        {
          "output_type": "stream",
          "text": [
            "loss=0.06937625259160995 batch_id=234 Accuracy=96.92: 100%|██████████| 235/235 [00:21<00:00, 11.16it/s]\n",
            "  0%|          | 0/235 [00:00<?, ?it/s]"
          ],
          "name": "stderr"
        },
        {
          "output_type": "stream",
          "text": [
            "\n",
            "Test set: Average loss: 0.0416, Accuracy: 9886/10000 (98.86%)\n",
            "\n"
          ],
          "name": "stdout"
        },
        {
          "output_type": "stream",
          "text": [
            "loss=0.1334158033132553 batch_id=234 Accuracy=97.17: 100%|██████████| 235/235 [00:21<00:00, 11.07it/s]\n",
            "  0%|          | 0/235 [00:00<?, ?it/s]"
          ],
          "name": "stderr"
        },
        {
          "output_type": "stream",
          "text": [
            "\n",
            "Test set: Average loss: 0.0426, Accuracy: 9879/10000 (98.79%)\n",
            "\n"
          ],
          "name": "stdout"
        },
        {
          "output_type": "stream",
          "text": [
            "loss=0.1081891655921936 batch_id=234 Accuracy=97.32: 100%|██████████| 235/235 [00:21<00:00, 11.10it/s]\n",
            "  0%|          | 0/235 [00:00<?, ?it/s]"
          ],
          "name": "stderr"
        },
        {
          "output_type": "stream",
          "text": [
            "\n",
            "Test set: Average loss: 0.0395, Accuracy: 9884/10000 (98.84%)\n",
            "\n"
          ],
          "name": "stdout"
        },
        {
          "output_type": "stream",
          "text": [
            "loss=0.18172253668308258 batch_id=234 Accuracy=97.48: 100%|██████████| 235/235 [00:21<00:00, 11.10it/s]\n",
            "  0%|          | 0/235 [00:00<?, ?it/s]"
          ],
          "name": "stderr"
        },
        {
          "output_type": "stream",
          "text": [
            "\n",
            "Test set: Average loss: 0.0377, Accuracy: 9889/10000 (98.89%)\n",
            "\n"
          ],
          "name": "stdout"
        },
        {
          "output_type": "stream",
          "text": [
            "loss=0.06754405051469803 batch_id=234 Accuracy=97.59: 100%|██████████| 235/235 [00:21<00:00, 11.04it/s]\n",
            "  0%|          | 0/235 [00:00<?, ?it/s]"
          ],
          "name": "stderr"
        },
        {
          "output_type": "stream",
          "text": [
            "\n",
            "Test set: Average loss: 0.0374, Accuracy: 9886/10000 (98.86%)\n",
            "\n"
          ],
          "name": "stdout"
        },
        {
          "output_type": "stream",
          "text": [
            "loss=0.11327221989631653 batch_id=234 Accuracy=97.57: 100%|██████████| 235/235 [00:21<00:00, 11.16it/s]\n",
            "  0%|          | 0/235 [00:00<?, ?it/s]"
          ],
          "name": "stderr"
        },
        {
          "output_type": "stream",
          "text": [
            "\n",
            "Test set: Average loss: 0.0294, Accuracy: 9910/10000 (99.10%)\n",
            "\n"
          ],
          "name": "stdout"
        },
        {
          "output_type": "stream",
          "text": [
            "loss=0.046242356300354004 batch_id=234 Accuracy=97.68: 100%|██████████| 235/235 [00:20<00:00, 11.22it/s]\n",
            "  0%|          | 0/235 [00:00<?, ?it/s]"
          ],
          "name": "stderr"
        },
        {
          "output_type": "stream",
          "text": [
            "\n",
            "Test set: Average loss: 0.0289, Accuracy: 9925/10000 (99.25%)\n",
            "\n"
          ],
          "name": "stdout"
        },
        {
          "output_type": "stream",
          "text": [
            "loss=0.11236312240362167 batch_id=234 Accuracy=97.72: 100%|██████████| 235/235 [00:21<00:00, 11.15it/s]\n",
            "  0%|          | 0/235 [00:00<?, ?it/s]"
          ],
          "name": "stderr"
        },
        {
          "output_type": "stream",
          "text": [
            "\n",
            "Test set: Average loss: 0.0263, Accuracy: 9914/10000 (99.14%)\n",
            "\n"
          ],
          "name": "stdout"
        },
        {
          "output_type": "stream",
          "text": [
            "loss=0.09256329387426376 batch_id=234 Accuracy=97.87: 100%|██████████| 235/235 [00:21<00:00, 11.05it/s]\n",
            "  0%|          | 0/235 [00:00<?, ?it/s]"
          ],
          "name": "stderr"
        },
        {
          "output_type": "stream",
          "text": [
            "\n",
            "Test set: Average loss: 0.0291, Accuracy: 9918/10000 (99.18%)\n",
            "\n"
          ],
          "name": "stdout"
        },
        {
          "output_type": "stream",
          "text": [
            "loss=0.03479928895831108 batch_id=234 Accuracy=97.94: 100%|██████████| 235/235 [00:21<00:00, 11.08it/s]\n"
          ],
          "name": "stderr"
        },
        {
          "output_type": "stream",
          "text": [
            "\n",
            "Test set: Average loss: 0.0285, Accuracy: 9914/10000 (99.14%)\n",
            "\n"
          ],
          "name": "stdout"
        },
        {
          "output_type": "stream",
          "text": [
            "loss=0.16035699844360352 batch_id=234 Accuracy=97.83: 100%|██████████| 235/235 [00:21<00:00, 11.13it/s]\n",
            "  0%|          | 0/235 [00:00<?, ?it/s]"
          ],
          "name": "stderr"
        },
        {
          "output_type": "stream",
          "text": [
            "\n",
            "Test set: Average loss: 0.0272, Accuracy: 9920/10000 (99.20%)\n",
            "\n"
          ],
          "name": "stdout"
        },
        {
          "output_type": "stream",
          "text": [
            "loss=0.06942440569400787 batch_id=234 Accuracy=98.08: 100%|██████████| 235/235 [00:21<00:00, 11.19it/s]\n",
            "  0%|          | 0/235 [00:00<?, ?it/s]"
          ],
          "name": "stderr"
        },
        {
          "output_type": "stream",
          "text": [
            "\n",
            "Test set: Average loss: 0.0271, Accuracy: 9916/10000 (99.16%)\n",
            "\n"
          ],
          "name": "stdout"
        },
        {
          "output_type": "stream",
          "text": [
            "loss=0.0671703964471817 batch_id=234 Accuracy=98.02: 100%|██████████| 235/235 [00:20<00:00, 11.26it/s]\n",
            "  0%|          | 0/235 [00:00<?, ?it/s]"
          ],
          "name": "stderr"
        },
        {
          "output_type": "stream",
          "text": [
            "\n",
            "Test set: Average loss: 0.0271, Accuracy: 9908/10000 (99.08%)\n",
            "\n"
          ],
          "name": "stdout"
        },
        {
          "output_type": "stream",
          "text": [
            "loss=0.0609840452671051 batch_id=234 Accuracy=98.03: 100%|██████████| 235/235 [00:21<00:00, 11.18it/s]\n",
            "  0%|          | 0/235 [00:00<?, ?it/s]"
          ],
          "name": "stderr"
        },
        {
          "output_type": "stream",
          "text": [
            "\n",
            "Test set: Average loss: 0.0226, Accuracy: 9931/10000 (99.31%)\n",
            "\n"
          ],
          "name": "stdout"
        },
        {
          "output_type": "stream",
          "text": [
            "loss=0.08305767178535461 batch_id=234 Accuracy=98.11: 100%|██████████| 235/235 [00:21<00:00, 11.13it/s]\n",
            "  0%|          | 0/235 [00:00<?, ?it/s]"
          ],
          "name": "stderr"
        },
        {
          "output_type": "stream",
          "text": [
            "\n",
            "Test set: Average loss: 0.0226, Accuracy: 9936/10000 (99.36%)\n",
            "\n"
          ],
          "name": "stdout"
        },
        {
          "output_type": "stream",
          "text": [
            "loss=0.06260472536087036 batch_id=234 Accuracy=98.15: 100%|██████████| 235/235 [00:21<00:00, 10.99it/s]\n",
            "  0%|          | 0/235 [00:00<?, ?it/s]"
          ],
          "name": "stderr"
        },
        {
          "output_type": "stream",
          "text": [
            "\n",
            "Test set: Average loss: 0.0277, Accuracy: 9906/10000 (99.06%)\n",
            "\n"
          ],
          "name": "stdout"
        },
        {
          "output_type": "stream",
          "text": [
            "loss=0.07730823755264282 batch_id=234 Accuracy=98.14: 100%|██████████| 235/235 [00:20<00:00, 11.23it/s]\n",
            "  0%|          | 0/235 [00:00<?, ?it/s]"
          ],
          "name": "stderr"
        },
        {
          "output_type": "stream",
          "text": [
            "\n",
            "Test set: Average loss: 0.0225, Accuracy: 9921/10000 (99.21%)\n",
            "\n"
          ],
          "name": "stdout"
        },
        {
          "output_type": "stream",
          "text": [
            "loss=0.09007225185632706 batch_id=234 Accuracy=98.19: 100%|██████████| 235/235 [00:20<00:00, 11.30it/s]\n"
          ],
          "name": "stderr"
        },
        {
          "output_type": "stream",
          "text": [
            "\n",
            "Test set: Average loss: 0.0218, Accuracy: 9934/10000 (99.34%)\n",
            "\n",
            "Requirement already satisfied: torchsummary in /usr/local/lib/python3.6/dist-packages (1.5.1)\n"
          ],
          "name": "stdout"
        },
        {
          "output_type": "stream",
          "text": [
            "\r  0%|          | 0/235 [00:00<?, ?it/s]"
          ],
          "name": "stderr"
        },
        {
          "output_type": "stream",
          "text": [
            "----------------------------------------------------------------\n",
            "        Layer (type)               Output Shape         Param #\n",
            "================================================================\n",
            "            Conv2d-1           [-1, 10, 26, 26]             100\n",
            "              ReLU-2           [-1, 10, 26, 26]               0\n",
            "    GhostBatchNorm-3           [-1, 10, 26, 26]              20\n",
            "            Conv2d-4           [-1, 16, 24, 24]           1,456\n",
            "              ReLU-5           [-1, 16, 24, 24]               0\n",
            "    GhostBatchNorm-6           [-1, 16, 24, 24]              32\n",
            "            Conv2d-7           [-1, 20, 22, 22]           2,900\n",
            "              ReLU-8           [-1, 20, 22, 22]               0\n",
            "    GhostBatchNorm-9           [-1, 20, 22, 22]              40\n",
            "        MaxPool2d-10           [-1, 20, 11, 11]               0\n",
            "          Dropout-11           [-1, 20, 11, 11]               0\n",
            "           Conv2d-12           [-1, 10, 11, 11]             210\n",
            "             ReLU-13           [-1, 10, 11, 11]               0\n",
            "   GhostBatchNorm-14           [-1, 10, 11, 11]              20\n",
            "          Dropout-15           [-1, 10, 11, 11]               0\n",
            "           Conv2d-16             [-1, 20, 9, 9]           1,820\n",
            "             ReLU-17             [-1, 20, 9, 9]               0\n",
            "      BatchNorm2d-18             [-1, 20, 9, 9]              40\n",
            "   GhostBatchNorm-19             [-1, 20, 9, 9]              40\n",
            "           Conv2d-20             [-1, 16, 7, 7]           2,896\n",
            "             ReLU-21             [-1, 16, 7, 7]               0\n",
            "   GhostBatchNorm-22             [-1, 16, 7, 7]              32\n",
            "           Conv2d-23             [-1, 10, 7, 7]             170\n",
            "        AvgPool2d-24             [-1, 10, 1, 1]               0\n",
            "================================================================\n",
            "Total params: 9,776\n",
            "Trainable params: 9,776\n",
            "Non-trainable params: 0\n",
            "----------------------------------------------------------------\n",
            "Input size (MB): 0.00\n",
            "Forward/backward pass size (MB): 0.73\n",
            "Params size (MB): 0.04\n",
            "Estimated Total Size (MB): 0.77\n",
            "----------------------------------------------------------------\n",
            "...L2_with_GBN..\n"
          ],
          "name": "stdout"
        },
        {
          "output_type": "stream",
          "text": [
            "loss=0.43824681639671326 batch_id=234 Accuracy=65.08: 100%|██████████| 235/235 [00:20<00:00, 11.52it/s]\n",
            "  0%|          | 0/235 [00:00<?, ?it/s]"
          ],
          "name": "stderr"
        },
        {
          "output_type": "stream",
          "text": [
            "\n",
            "Test set: Average loss: 0.2725, Accuracy: 9461/10000 (94.61%)\n",
            "\n"
          ],
          "name": "stdout"
        },
        {
          "output_type": "stream",
          "text": [
            "loss=0.27802374958992004 batch_id=234 Accuracy=92.73: 100%|██████████| 235/235 [00:20<00:00, 11.59it/s]\n",
            "  0%|          | 0/235 [00:00<?, ?it/s]"
          ],
          "name": "stderr"
        },
        {
          "output_type": "stream",
          "text": [
            "\n",
            "Test set: Average loss: 0.1239, Accuracy: 9683/10000 (96.83%)\n",
            "\n"
          ],
          "name": "stdout"
        },
        {
          "output_type": "stream",
          "text": [
            "loss=0.22432343661785126 batch_id=234 Accuracy=94.91: 100%|██████████| 235/235 [00:20<00:00, 11.55it/s]\n",
            "  0%|          | 0/235 [00:00<?, ?it/s]"
          ],
          "name": "stderr"
        },
        {
          "output_type": "stream",
          "text": [
            "\n",
            "Test set: Average loss: 0.0719, Accuracy: 9817/10000 (98.17%)\n",
            "\n"
          ],
          "name": "stdout"
        },
        {
          "output_type": "stream",
          "text": [
            "loss=0.22669412195682526 batch_id=234 Accuracy=95.83: 100%|██████████| 235/235 [00:19<00:00, 11.81it/s]\n",
            "  0%|          | 0/235 [00:00<?, ?it/s]"
          ],
          "name": "stderr"
        },
        {
          "output_type": "stream",
          "text": [
            "\n",
            "Test set: Average loss: 0.0594, Accuracy: 9841/10000 (98.41%)\n",
            "\n"
          ],
          "name": "stdout"
        },
        {
          "output_type": "stream",
          "text": [
            "loss=0.09261006861925125 batch_id=234 Accuracy=96.44: 100%|██████████| 235/235 [00:20<00:00, 11.53it/s]\n",
            "  0%|          | 0/235 [00:00<?, ?it/s]"
          ],
          "name": "stderr"
        },
        {
          "output_type": "stream",
          "text": [
            "\n",
            "Test set: Average loss: 0.0518, Accuracy: 9848/10000 (98.48%)\n",
            "\n"
          ],
          "name": "stdout"
        },
        {
          "output_type": "stream",
          "text": [
            "loss=0.07329242676496506 batch_id=234 Accuracy=96.66: 100%|██████████| 235/235 [00:20<00:00, 11.61it/s]\n",
            "  0%|          | 0/235 [00:00<?, ?it/s]"
          ],
          "name": "stderr"
        },
        {
          "output_type": "stream",
          "text": [
            "\n",
            "Test set: Average loss: 0.0458, Accuracy: 9875/10000 (98.75%)\n",
            "\n"
          ],
          "name": "stdout"
        },
        {
          "output_type": "stream",
          "text": [
            "loss=0.058290377259254456 batch_id=234 Accuracy=96.92: 100%|██████████| 235/235 [00:20<00:00, 11.65it/s]\n",
            "  0%|          | 0/235 [00:00<?, ?it/s]"
          ],
          "name": "stderr"
        },
        {
          "output_type": "stream",
          "text": [
            "\n",
            "Test set: Average loss: 0.0412, Accuracy: 9883/10000 (98.83%)\n",
            "\n"
          ],
          "name": "stdout"
        },
        {
          "output_type": "stream",
          "text": [
            "loss=0.11218943446874619 batch_id=234 Accuracy=97.13: 100%|██████████| 235/235 [00:20<00:00, 11.62it/s]\n",
            "  0%|          | 0/235 [00:00<?, ?it/s]"
          ],
          "name": "stderr"
        },
        {
          "output_type": "stream",
          "text": [
            "\n",
            "Test set: Average loss: 0.0394, Accuracy: 9892/10000 (98.92%)\n",
            "\n"
          ],
          "name": "stdout"
        },
        {
          "output_type": "stream",
          "text": [
            "loss=0.11518696695566177 batch_id=234 Accuracy=97.23: 100%|██████████| 235/235 [00:20<00:00, 11.59it/s]\n",
            "  0%|          | 0/235 [00:00<?, ?it/s]"
          ],
          "name": "stderr"
        },
        {
          "output_type": "stream",
          "text": [
            "\n",
            "Test set: Average loss: 0.0405, Accuracy: 9879/10000 (98.79%)\n",
            "\n"
          ],
          "name": "stdout"
        },
        {
          "output_type": "stream",
          "text": [
            "loss=0.17335574328899384 batch_id=234 Accuracy=97.40: 100%|██████████| 235/235 [00:20<00:00, 11.62it/s]\n",
            "  0%|          | 0/235 [00:00<?, ?it/s]"
          ],
          "name": "stderr"
        },
        {
          "output_type": "stream",
          "text": [
            "\n",
            "Test set: Average loss: 0.0329, Accuracy: 9901/10000 (99.01%)\n",
            "\n"
          ],
          "name": "stdout"
        },
        {
          "output_type": "stream",
          "text": [
            "loss=0.0512215681374073 batch_id=234 Accuracy=97.48: 100%|██████████| 235/235 [00:20<00:00, 11.59it/s]\n",
            "  0%|          | 0/235 [00:00<?, ?it/s]"
          ],
          "name": "stderr"
        },
        {
          "output_type": "stream",
          "text": [
            "\n",
            "Test set: Average loss: 0.0380, Accuracy: 9882/10000 (98.82%)\n",
            "\n"
          ],
          "name": "stdout"
        },
        {
          "output_type": "stream",
          "text": [
            "loss=0.12207566946744919 batch_id=234 Accuracy=97.61: 100%|██████████| 235/235 [00:20<00:00, 11.49it/s]\n",
            "  0%|          | 0/235 [00:00<?, ?it/s]"
          ],
          "name": "stderr"
        },
        {
          "output_type": "stream",
          "text": [
            "\n",
            "Test set: Average loss: 0.0328, Accuracy: 9906/10000 (99.06%)\n",
            "\n"
          ],
          "name": "stdout"
        },
        {
          "output_type": "stream",
          "text": [
            "loss=0.03740213066339493 batch_id=234 Accuracy=97.65: 100%|██████████| 235/235 [00:20<00:00, 11.49it/s]\n",
            "  0%|          | 0/235 [00:00<?, ?it/s]"
          ],
          "name": "stderr"
        },
        {
          "output_type": "stream",
          "text": [
            "\n",
            "Test set: Average loss: 0.0323, Accuracy: 9909/10000 (99.09%)\n",
            "\n"
          ],
          "name": "stdout"
        },
        {
          "output_type": "stream",
          "text": [
            "loss=0.10637090355157852 batch_id=234 Accuracy=97.76: 100%|██████████| 235/235 [00:20<00:00, 11.19it/s]\n",
            "  0%|          | 0/235 [00:00<?, ?it/s]"
          ],
          "name": "stderr"
        },
        {
          "output_type": "stream",
          "text": [
            "\n",
            "Test set: Average loss: 0.0260, Accuracy: 9919/10000 (99.19%)\n",
            "\n"
          ],
          "name": "stdout"
        },
        {
          "output_type": "stream",
          "text": [
            "loss=0.09844023734331131 batch_id=234 Accuracy=97.90: 100%|██████████| 235/235 [00:21<00:00, 10.99it/s]\n",
            "  0%|          | 0/235 [00:00<?, ?it/s]"
          ],
          "name": "stderr"
        },
        {
          "output_type": "stream",
          "text": [
            "\n",
            "Test set: Average loss: 0.0282, Accuracy: 9909/10000 (99.09%)\n",
            "\n"
          ],
          "name": "stdout"
        },
        {
          "output_type": "stream",
          "text": [
            "loss=0.027541102841496468 batch_id=234 Accuracy=97.85: 100%|██████████| 235/235 [00:21<00:00, 11.03it/s]\n",
            "  0%|          | 0/235 [00:00<?, ?it/s]"
          ],
          "name": "stderr"
        },
        {
          "output_type": "stream",
          "text": [
            "\n",
            "Test set: Average loss: 0.0302, Accuracy: 9905/10000 (99.05%)\n",
            "\n"
          ],
          "name": "stdout"
        },
        {
          "output_type": "stream",
          "text": [
            "loss=0.16134148836135864 batch_id=234 Accuracy=97.83: 100%|██████████| 235/235 [00:20<00:00, 11.38it/s]\n",
            "  0%|          | 0/235 [00:00<?, ?it/s]"
          ],
          "name": "stderr"
        },
        {
          "output_type": "stream",
          "text": [
            "\n",
            "Test set: Average loss: 0.0268, Accuracy: 9910/10000 (99.10%)\n",
            "\n"
          ],
          "name": "stdout"
        },
        {
          "output_type": "stream",
          "text": [
            "loss=0.04878707230091095 batch_id=234 Accuracy=97.98: 100%|██████████| 235/235 [00:20<00:00, 11.21it/s]\n",
            "  0%|          | 0/235 [00:00<?, ?it/s]"
          ],
          "name": "stderr"
        },
        {
          "output_type": "stream",
          "text": [
            "\n",
            "Test set: Average loss: 0.0264, Accuracy: 9912/10000 (99.12%)\n",
            "\n"
          ],
          "name": "stdout"
        },
        {
          "output_type": "stream",
          "text": [
            "loss=0.06879734247922897 batch_id=234 Accuracy=98.03: 100%|██████████| 235/235 [00:20<00:00, 11.29it/s]\n",
            "  0%|          | 0/235 [00:00<?, ?it/s]"
          ],
          "name": "stderr"
        },
        {
          "output_type": "stream",
          "text": [
            "\n",
            "Test set: Average loss: 0.0289, Accuracy: 9898/10000 (98.98%)\n",
            "\n"
          ],
          "name": "stdout"
        },
        {
          "output_type": "stream",
          "text": [
            "loss=0.06476537138223648 batch_id=234 Accuracy=97.98: 100%|██████████| 235/235 [00:21<00:00, 11.06it/s]\n",
            "  0%|          | 0/235 [00:00<?, ?it/s]"
          ],
          "name": "stderr"
        },
        {
          "output_type": "stream",
          "text": [
            "\n",
            "Test set: Average loss: 0.0250, Accuracy: 9919/10000 (99.19%)\n",
            "\n"
          ],
          "name": "stdout"
        },
        {
          "output_type": "stream",
          "text": [
            "loss=0.08821777254343033 batch_id=234 Accuracy=98.04: 100%|██████████| 235/235 [00:20<00:00, 11.28it/s]\n",
            "  0%|          | 0/235 [00:00<?, ?it/s]"
          ],
          "name": "stderr"
        },
        {
          "output_type": "stream",
          "text": [
            "\n",
            "Test set: Average loss: 0.0250, Accuracy: 9923/10000 (99.23%)\n",
            "\n"
          ],
          "name": "stdout"
        },
        {
          "output_type": "stream",
          "text": [
            "loss=0.06142197176814079 batch_id=234 Accuracy=98.15: 100%|██████████| 235/235 [00:20<00:00, 11.25it/s]\n",
            "  0%|          | 0/235 [00:00<?, ?it/s]"
          ],
          "name": "stderr"
        },
        {
          "output_type": "stream",
          "text": [
            "\n",
            "Test set: Average loss: 0.0276, Accuracy: 9905/10000 (99.05%)\n",
            "\n"
          ],
          "name": "stdout"
        },
        {
          "output_type": "stream",
          "text": [
            "loss=0.08278016000986099 batch_id=234 Accuracy=98.17: 100%|██████████| 235/235 [00:20<00:00, 11.26it/s]\n",
            "  0%|          | 0/235 [00:00<?, ?it/s]"
          ],
          "name": "stderr"
        },
        {
          "output_type": "stream",
          "text": [
            "\n",
            "Test set: Average loss: 0.0219, Accuracy: 9928/10000 (99.28%)\n",
            "\n"
          ],
          "name": "stdout"
        },
        {
          "output_type": "stream",
          "text": [
            "loss=0.09547046571969986 batch_id=234 Accuracy=98.16: 100%|██████████| 235/235 [00:20<00:00, 11.44it/s]\n"
          ],
          "name": "stderr"
        },
        {
          "output_type": "stream",
          "text": [
            "\n",
            "Test set: Average loss: 0.0218, Accuracy: 9934/10000 (99.34%)\n",
            "\n",
            "Requirement already satisfied: torchsummary in /usr/local/lib/python3.6/dist-packages (1.5.1)\n"
          ],
          "name": "stdout"
        },
        {
          "output_type": "stream",
          "text": [
            "\r  0%|          | 0/235 [00:00<?, ?it/s]"
          ],
          "name": "stderr"
        },
        {
          "output_type": "stream",
          "text": [
            "----------------------------------------------------------------\n",
            "        Layer (type)               Output Shape         Param #\n",
            "================================================================\n",
            "            Conv2d-1           [-1, 10, 26, 26]             100\n",
            "              ReLU-2           [-1, 10, 26, 26]               0\n",
            "    GhostBatchNorm-3           [-1, 10, 26, 26]              20\n",
            "            Conv2d-4           [-1, 16, 24, 24]           1,456\n",
            "              ReLU-5           [-1, 16, 24, 24]               0\n",
            "    GhostBatchNorm-6           [-1, 16, 24, 24]              32\n",
            "            Conv2d-7           [-1, 20, 22, 22]           2,900\n",
            "              ReLU-8           [-1, 20, 22, 22]               0\n",
            "    GhostBatchNorm-9           [-1, 20, 22, 22]              40\n",
            "        MaxPool2d-10           [-1, 20, 11, 11]               0\n",
            "          Dropout-11           [-1, 20, 11, 11]               0\n",
            "           Conv2d-12           [-1, 10, 11, 11]             210\n",
            "             ReLU-13           [-1, 10, 11, 11]               0\n",
            "   GhostBatchNorm-14           [-1, 10, 11, 11]              20\n",
            "          Dropout-15           [-1, 10, 11, 11]               0\n",
            "           Conv2d-16             [-1, 20, 9, 9]           1,820\n",
            "             ReLU-17             [-1, 20, 9, 9]               0\n",
            "      BatchNorm2d-18             [-1, 20, 9, 9]              40\n",
            "   GhostBatchNorm-19             [-1, 20, 9, 9]              40\n",
            "           Conv2d-20             [-1, 16, 7, 7]           2,896\n",
            "             ReLU-21             [-1, 16, 7, 7]               0\n",
            "   GhostBatchNorm-22             [-1, 16, 7, 7]              32\n",
            "           Conv2d-23             [-1, 10, 7, 7]             170\n",
            "        AvgPool2d-24             [-1, 10, 1, 1]               0\n",
            "================================================================\n",
            "Total params: 9,776\n",
            "Trainable params: 9,776\n",
            "Non-trainable params: 0\n",
            "----------------------------------------------------------------\n",
            "Input size (MB): 0.00\n",
            "Forward/backward pass size (MB): 0.73\n",
            "Params size (MB): 0.04\n",
            "Estimated Total Size (MB): 0.77\n",
            "----------------------------------------------------------------\n",
            "...without_L1_L2_GBN..\n"
          ],
          "name": "stdout"
        },
        {
          "output_type": "stream",
          "text": [
            "loss=0.43906649947166443 batch_id=234 Accuracy=65.16: 100%|██████████| 235/235 [00:20<00:00, 11.62it/s]\n",
            "  0%|          | 0/235 [00:00<?, ?it/s]"
          ],
          "name": "stderr"
        },
        {
          "output_type": "stream",
          "text": [
            "\n",
            "Test set: Average loss: 0.2765, Accuracy: 9442/10000 (94.42%)\n",
            "\n"
          ],
          "name": "stdout"
        },
        {
          "output_type": "stream",
          "text": [
            "loss=0.2749742567539215 batch_id=234 Accuracy=92.67: 100%|██████████| 235/235 [00:20<00:00, 11.69it/s]\n",
            "  0%|          | 0/235 [00:00<?, ?it/s]"
          ],
          "name": "stderr"
        },
        {
          "output_type": "stream",
          "text": [
            "\n",
            "Test set: Average loss: 0.1237, Accuracy: 9687/10000 (96.87%)\n",
            "\n"
          ],
          "name": "stdout"
        },
        {
          "output_type": "stream",
          "text": [
            "loss=0.21571843326091766 batch_id=234 Accuracy=94.93: 100%|██████████| 235/235 [00:19<00:00, 11.83it/s]\n",
            "  0%|          | 0/235 [00:00<?, ?it/s]"
          ],
          "name": "stderr"
        },
        {
          "output_type": "stream",
          "text": [
            "\n",
            "Test set: Average loss: 0.0749, Accuracy: 9803/10000 (98.03%)\n",
            "\n"
          ],
          "name": "stdout"
        },
        {
          "output_type": "stream",
          "text": [
            "loss=0.24240435659885406 batch_id=234 Accuracy=95.84: 100%|██████████| 235/235 [00:19<00:00, 11.82it/s]\n",
            "  0%|          | 0/235 [00:00<?, ?it/s]"
          ],
          "name": "stderr"
        },
        {
          "output_type": "stream",
          "text": [
            "\n",
            "Test set: Average loss: 0.0670, Accuracy: 9810/10000 (98.10%)\n",
            "\n"
          ],
          "name": "stdout"
        },
        {
          "output_type": "stream",
          "text": [
            "loss=0.09401511400938034 batch_id=234 Accuracy=96.45: 100%|██████████| 235/235 [00:19<00:00, 11.86it/s]\n",
            "  0%|          | 0/235 [00:00<?, ?it/s]"
          ],
          "name": "stderr"
        },
        {
          "output_type": "stream",
          "text": [
            "\n",
            "Test set: Average loss: 0.0523, Accuracy: 9840/10000 (98.40%)\n",
            "\n"
          ],
          "name": "stdout"
        },
        {
          "output_type": "stream",
          "text": [
            "loss=0.08411741256713867 batch_id=234 Accuracy=96.68: 100%|██████████| 235/235 [00:19<00:00, 11.75it/s]\n",
            "  0%|          | 0/235 [00:00<?, ?it/s]"
          ],
          "name": "stderr"
        },
        {
          "output_type": "stream",
          "text": [
            "\n",
            "Test set: Average loss: 0.0507, Accuracy: 9854/10000 (98.54%)\n",
            "\n"
          ],
          "name": "stdout"
        },
        {
          "output_type": "stream",
          "text": [
            "loss=0.05387285351753235 batch_id=234 Accuracy=96.93: 100%|██████████| 235/235 [00:19<00:00, 11.80it/s]\n",
            "  0%|          | 0/235 [00:00<?, ?it/s]"
          ],
          "name": "stderr"
        },
        {
          "output_type": "stream",
          "text": [
            "\n",
            "Test set: Average loss: 0.0408, Accuracy: 9888/10000 (98.88%)\n",
            "\n"
          ],
          "name": "stdout"
        },
        {
          "output_type": "stream",
          "text": [
            "loss=0.11695945262908936 batch_id=234 Accuracy=97.14: 100%|██████████| 235/235 [00:20<00:00, 11.73it/s]\n",
            "  0%|          | 0/235 [00:00<?, ?it/s]"
          ],
          "name": "stderr"
        },
        {
          "output_type": "stream",
          "text": [
            "\n",
            "Test set: Average loss: 0.0422, Accuracy: 9877/10000 (98.77%)\n",
            "\n"
          ],
          "name": "stdout"
        },
        {
          "output_type": "stream",
          "text": [
            "loss=0.10956084728240967 batch_id=234 Accuracy=97.22: 100%|██████████| 235/235 [00:20<00:00, 11.62it/s]\n",
            "  0%|          | 0/235 [00:00<?, ?it/s]"
          ],
          "name": "stderr"
        },
        {
          "output_type": "stream",
          "text": [
            "\n",
            "Test set: Average loss: 0.0403, Accuracy: 9878/10000 (98.78%)\n",
            "\n"
          ],
          "name": "stdout"
        },
        {
          "output_type": "stream",
          "text": [
            "loss=0.1608528047800064 batch_id=234 Accuracy=97.40: 100%|██████████| 235/235 [00:20<00:00, 11.58it/s]\n",
            "  0%|          | 0/235 [00:00<?, ?it/s]"
          ],
          "name": "stderr"
        },
        {
          "output_type": "stream",
          "text": [
            "\n",
            "Test set: Average loss: 0.0324, Accuracy: 9898/10000 (98.98%)\n",
            "\n"
          ],
          "name": "stdout"
        },
        {
          "output_type": "stream",
          "text": [
            "loss=0.0494467057287693 batch_id=234 Accuracy=97.53: 100%|██████████| 235/235 [00:20<00:00, 11.56it/s]\n",
            "  0%|          | 0/235 [00:00<?, ?it/s]"
          ],
          "name": "stderr"
        },
        {
          "output_type": "stream",
          "text": [
            "\n",
            "Test set: Average loss: 0.0375, Accuracy: 9885/10000 (98.85%)\n",
            "\n"
          ],
          "name": "stdout"
        },
        {
          "output_type": "stream",
          "text": [
            "loss=0.10347362607717514 batch_id=234 Accuracy=97.59: 100%|██████████| 235/235 [00:20<00:00, 11.67it/s]\n",
            "  0%|          | 0/235 [00:00<?, ?it/s]"
          ],
          "name": "stderr"
        },
        {
          "output_type": "stream",
          "text": [
            "\n",
            "Test set: Average loss: 0.0328, Accuracy: 9898/10000 (98.98%)\n",
            "\n"
          ],
          "name": "stdout"
        },
        {
          "output_type": "stream",
          "text": [
            "loss=0.03609444946050644 batch_id=234 Accuracy=97.58: 100%|██████████| 235/235 [00:19<00:00, 11.84it/s]\n",
            "  0%|          | 0/235 [00:00<?, ?it/s]"
          ],
          "name": "stderr"
        },
        {
          "output_type": "stream",
          "text": [
            "\n",
            "Test set: Average loss: 0.0300, Accuracy: 9918/10000 (99.18%)\n",
            "\n"
          ],
          "name": "stdout"
        },
        {
          "output_type": "stream",
          "text": [
            "loss=0.11803317815065384 batch_id=234 Accuracy=97.76: 100%|██████████| 235/235 [00:19<00:00, 11.77it/s]\n",
            "  0%|          | 0/235 [00:00<?, ?it/s]"
          ],
          "name": "stderr"
        },
        {
          "output_type": "stream",
          "text": [
            "\n",
            "Test set: Average loss: 0.0277, Accuracy: 9910/10000 (99.10%)\n",
            "\n"
          ],
          "name": "stdout"
        },
        {
          "output_type": "stream",
          "text": [
            "loss=0.10056626051664352 batch_id=234 Accuracy=97.92: 100%|██████████| 235/235 [00:19<00:00, 11.95it/s]\n",
            "  0%|          | 0/235 [00:00<?, ?it/s]"
          ],
          "name": "stderr"
        },
        {
          "output_type": "stream",
          "text": [
            "\n",
            "Test set: Average loss: 0.0309, Accuracy: 9902/10000 (99.02%)\n",
            "\n"
          ],
          "name": "stdout"
        },
        {
          "output_type": "stream",
          "text": [
            "loss=0.026241302490234375 batch_id=234 Accuracy=97.83: 100%|██████████| 235/235 [00:19<00:00, 12.15it/s]\n",
            "  0%|          | 0/235 [00:00<?, ?it/s]"
          ],
          "name": "stderr"
        },
        {
          "output_type": "stream",
          "text": [
            "\n",
            "Test set: Average loss: 0.0278, Accuracy: 9916/10000 (99.16%)\n",
            "\n"
          ],
          "name": "stdout"
        },
        {
          "output_type": "stream",
          "text": [
            "loss=0.16031582653522491 batch_id=234 Accuracy=97.83: 100%|██████████| 235/235 [00:19<00:00, 12.03it/s]\n",
            "  0%|          | 0/235 [00:00<?, ?it/s]"
          ],
          "name": "stderr"
        },
        {
          "output_type": "stream",
          "text": [
            "\n",
            "Test set: Average loss: 0.0255, Accuracy: 9920/10000 (99.20%)\n",
            "\n"
          ],
          "name": "stdout"
        },
        {
          "output_type": "stream",
          "text": [
            "loss=0.059062521904706955 batch_id=234 Accuracy=98.02: 100%|██████████| 235/235 [00:19<00:00, 12.11it/s]\n",
            "  0%|          | 0/235 [00:00<?, ?it/s]"
          ],
          "name": "stderr"
        },
        {
          "output_type": "stream",
          "text": [
            "\n",
            "Test set: Average loss: 0.0267, Accuracy: 9913/10000 (99.13%)\n",
            "\n"
          ],
          "name": "stdout"
        },
        {
          "output_type": "stream",
          "text": [
            "loss=0.05358072742819786 batch_id=234 Accuracy=98.03: 100%|██████████| 235/235 [00:19<00:00, 12.03it/s]\n",
            "  0%|          | 0/235 [00:00<?, ?it/s]"
          ],
          "name": "stderr"
        },
        {
          "output_type": "stream",
          "text": [
            "\n",
            "Test set: Average loss: 0.0268, Accuracy: 9915/10000 (99.15%)\n",
            "\n"
          ],
          "name": "stdout"
        },
        {
          "output_type": "stream",
          "text": [
            "loss=0.05522153899073601 batch_id=234 Accuracy=98.04: 100%|██████████| 235/235 [00:19<00:00, 11.91it/s]\n",
            "  0%|          | 0/235 [00:00<?, ?it/s]"
          ],
          "name": "stderr"
        },
        {
          "output_type": "stream",
          "text": [
            "\n",
            "Test set: Average loss: 0.0233, Accuracy: 9926/10000 (99.26%)\n",
            "\n"
          ],
          "name": "stdout"
        },
        {
          "output_type": "stream",
          "text": [
            "loss=0.07852035760879517 batch_id=234 Accuracy=98.09: 100%|██████████| 235/235 [00:20<00:00, 11.64it/s]\n",
            "  0%|          | 0/235 [00:00<?, ?it/s]"
          ],
          "name": "stderr"
        },
        {
          "output_type": "stream",
          "text": [
            "\n",
            "Test set: Average loss: 0.0229, Accuracy: 9926/10000 (99.26%)\n",
            "\n"
          ],
          "name": "stdout"
        },
        {
          "output_type": "stream",
          "text": [
            "loss=0.04162953421473503 batch_id=234 Accuracy=98.10: 100%|██████████| 235/235 [00:19<00:00, 11.76it/s]\n",
            "  0%|          | 0/235 [00:00<?, ?it/s]"
          ],
          "name": "stderr"
        },
        {
          "output_type": "stream",
          "text": [
            "\n",
            "Test set: Average loss: 0.0258, Accuracy: 9916/10000 (99.16%)\n",
            "\n"
          ],
          "name": "stdout"
        },
        {
          "output_type": "stream",
          "text": [
            "loss=0.07143493741750717 batch_id=234 Accuracy=98.17: 100%|██████████| 235/235 [00:20<00:00, 11.70it/s]\n",
            "  0%|          | 0/235 [00:00<?, ?it/s]"
          ],
          "name": "stderr"
        },
        {
          "output_type": "stream",
          "text": [
            "\n",
            "Test set: Average loss: 0.0215, Accuracy: 9935/10000 (99.35%)\n",
            "\n"
          ],
          "name": "stdout"
        },
        {
          "output_type": "stream",
          "text": [
            "loss=0.0737735703587532 batch_id=234 Accuracy=98.23: 100%|██████████| 235/235 [00:20<00:00, 11.47it/s]\n"
          ],
          "name": "stderr"
        },
        {
          "output_type": "stream",
          "text": [
            "\n",
            "Test set: Average loss: 0.0231, Accuracy: 9930/10000 (99.30%)\n",
            "\n",
            "Requirement already satisfied: torchsummary in /usr/local/lib/python3.6/dist-packages (1.5.1)\n"
          ],
          "name": "stdout"
        },
        {
          "output_type": "stream",
          "text": [
            "\r  0%|          | 0/469 [00:00<?, ?it/s]"
          ],
          "name": "stderr"
        },
        {
          "output_type": "stream",
          "text": [
            "----------------------------------------------------------------\n",
            "        Layer (type)               Output Shape         Param #\n",
            "================================================================\n",
            "            Conv2d-1           [-1, 10, 26, 26]             100\n",
            "              ReLU-2           [-1, 10, 26, 26]               0\n",
            "       BatchNorm2d-3           [-1, 10, 26, 26]              20\n",
            "            Conv2d-4           [-1, 16, 24, 24]           1,456\n",
            "              ReLU-5           [-1, 16, 24, 24]               0\n",
            "       BatchNorm2d-6           [-1, 16, 24, 24]              32\n",
            "            Conv2d-7           [-1, 20, 22, 22]           2,900\n",
            "              ReLU-8           [-1, 20, 22, 22]               0\n",
            "       BatchNorm2d-9           [-1, 20, 22, 22]              40\n",
            "        MaxPool2d-10           [-1, 20, 11, 11]               0\n",
            "          Dropout-11           [-1, 20, 11, 11]               0\n",
            "           Conv2d-12           [-1, 10, 11, 11]             210\n",
            "             ReLU-13           [-1, 10, 11, 11]               0\n",
            "      BatchNorm2d-14           [-1, 10, 11, 11]              20\n",
            "          Dropout-15           [-1, 10, 11, 11]               0\n",
            "           Conv2d-16             [-1, 20, 9, 9]           1,820\n",
            "             ReLU-17             [-1, 20, 9, 9]               0\n",
            "      BatchNorm2d-18             [-1, 20, 9, 9]              40\n",
            "           Conv2d-19             [-1, 16, 7, 7]           2,896\n",
            "             ReLU-20             [-1, 16, 7, 7]               0\n",
            "      BatchNorm2d-21             [-1, 16, 7, 7]              32\n",
            "           Conv2d-22             [-1, 10, 7, 7]             170\n",
            "        AvgPool2d-23             [-1, 10, 1, 1]               0\n",
            "================================================================\n",
            "Total params: 9,736\n",
            "Trainable params: 9,736\n",
            "Non-trainable params: 0\n",
            "----------------------------------------------------------------\n",
            "Input size (MB): 0.00\n",
            "Forward/backward pass size (MB): 0.72\n",
            "Params size (MB): 0.04\n",
            "Estimated Total Size (MB): 0.76\n",
            "----------------------------------------------------------------\n",
            "...without_L1_L2_BN..\n"
          ],
          "name": "stdout"
        },
        {
          "output_type": "stream",
          "text": [
            "loss=0.16302160918712616 batch_id=468 Accuracy=78.26: 100%|██████████| 469/469 [00:22<00:00, 21.03it/s]\n",
            "  0%|          | 0/469 [00:00<?, ?it/s]"
          ],
          "name": "stderr"
        },
        {
          "output_type": "stream",
          "text": [
            "\n",
            "Test set: Average loss: 0.1222, Accuracy: 9662/10000 (96.62%)\n",
            "\n"
          ],
          "name": "stdout"
        },
        {
          "output_type": "stream",
          "text": [
            "loss=0.18495289981365204 batch_id=468 Accuracy=95.02: 100%|██████████| 469/469 [00:22<00:00, 21.16it/s]\n",
            "  0%|          | 0/469 [00:00<?, ?it/s]"
          ],
          "name": "stderr"
        },
        {
          "output_type": "stream",
          "text": [
            "\n",
            "Test set: Average loss: 0.0660, Accuracy: 9809/10000 (98.09%)\n",
            "\n"
          ],
          "name": "stdout"
        },
        {
          "output_type": "stream",
          "text": [
            "loss=0.13267846405506134 batch_id=468 Accuracy=96.27: 100%|██████████| 469/469 [00:22<00:00, 20.92it/s]\n",
            "  0%|          | 0/469 [00:00<?, ?it/s]"
          ],
          "name": "stderr"
        },
        {
          "output_type": "stream",
          "text": [
            "\n",
            "Test set: Average loss: 0.0482, Accuracy: 9864/10000 (98.64%)\n",
            "\n"
          ],
          "name": "stdout"
        },
        {
          "output_type": "stream",
          "text": [
            "loss=0.10638672113418579 batch_id=468 Accuracy=96.82: 100%|██████████| 469/469 [00:22<00:00, 20.87it/s]\n",
            "  0%|          | 0/469 [00:00<?, ?it/s]"
          ],
          "name": "stderr"
        },
        {
          "output_type": "stream",
          "text": [
            "\n",
            "Test set: Average loss: 0.0364, Accuracy: 9891/10000 (98.91%)\n",
            "\n"
          ],
          "name": "stdout"
        },
        {
          "output_type": "stream",
          "text": [
            "loss=0.06981467455625534 batch_id=468 Accuracy=97.18: 100%|██████████| 469/469 [00:22<00:00, 21.05it/s]\n",
            "  0%|          | 0/469 [00:00<?, ?it/s]"
          ],
          "name": "stderr"
        },
        {
          "output_type": "stream",
          "text": [
            "\n",
            "Test set: Average loss: 0.0329, Accuracy: 9893/10000 (98.93%)\n",
            "\n"
          ],
          "name": "stdout"
        },
        {
          "output_type": "stream",
          "text": [
            "loss=0.04676245525479317 batch_id=468 Accuracy=97.38: 100%|██████████| 469/469 [00:22<00:00, 20.91it/s]\n",
            "  0%|          | 0/469 [00:00<?, ?it/s]"
          ],
          "name": "stderr"
        },
        {
          "output_type": "stream",
          "text": [
            "\n",
            "Test set: Average loss: 0.0325, Accuracy: 9901/10000 (99.01%)\n",
            "\n"
          ],
          "name": "stdout"
        },
        {
          "output_type": "stream",
          "text": [
            "loss=0.042976200580596924 batch_id=468 Accuracy=97.52: 100%|██████████| 469/469 [00:22<00:00, 21.04it/s]\n",
            "  0%|          | 0/469 [00:00<?, ?it/s]"
          ],
          "name": "stderr"
        },
        {
          "output_type": "stream",
          "text": [
            "\n",
            "Test set: Average loss: 0.0276, Accuracy: 9917/10000 (99.17%)\n",
            "\n"
          ],
          "name": "stdout"
        },
        {
          "output_type": "stream",
          "text": [
            "loss=0.08771032094955444 batch_id=468 Accuracy=97.53: 100%|██████████| 469/469 [00:22<00:00, 20.89it/s]\n",
            "  0%|          | 0/469 [00:00<?, ?it/s]"
          ],
          "name": "stderr"
        },
        {
          "output_type": "stream",
          "text": [
            "\n",
            "Test set: Average loss: 0.0278, Accuracy: 9915/10000 (99.15%)\n",
            "\n"
          ],
          "name": "stdout"
        },
        {
          "output_type": "stream",
          "text": [
            "loss=0.0938059464097023 batch_id=468 Accuracy=97.75: 100%|██████████| 469/469 [00:22<00:00, 20.94it/s]\n",
            "  0%|          | 0/469 [00:00<?, ?it/s]"
          ],
          "name": "stderr"
        },
        {
          "output_type": "stream",
          "text": [
            "\n",
            "Test set: Average loss: 0.0290, Accuracy: 9913/10000 (99.13%)\n",
            "\n"
          ],
          "name": "stdout"
        },
        {
          "output_type": "stream",
          "text": [
            "loss=0.09368280321359634 batch_id=468 Accuracy=97.86: 100%|██████████| 469/469 [00:22<00:00, 20.84it/s]\n",
            "  0%|          | 0/469 [00:00<?, ?it/s]"
          ],
          "name": "stderr"
        },
        {
          "output_type": "stream",
          "text": [
            "\n",
            "Test set: Average loss: 0.0258, Accuracy: 9930/10000 (99.30%)\n",
            "\n"
          ],
          "name": "stdout"
        },
        {
          "output_type": "stream",
          "text": [
            "loss=0.055321868509054184 batch_id=468 Accuracy=97.92: 100%|██████████| 469/469 [00:22<00:00, 21.08it/s]\n",
            "  0%|          | 0/469 [00:00<?, ?it/s]"
          ],
          "name": "stderr"
        },
        {
          "output_type": "stream",
          "text": [
            "\n",
            "Test set: Average loss: 0.0301, Accuracy: 9905/10000 (99.05%)\n",
            "\n"
          ],
          "name": "stdout"
        },
        {
          "output_type": "stream",
          "text": [
            "loss=0.052344679832458496 batch_id=468 Accuracy=98.01: 100%|██████████| 469/469 [00:22<00:00, 20.84it/s]\n",
            "  0%|          | 0/469 [00:00<?, ?it/s]"
          ],
          "name": "stderr"
        },
        {
          "output_type": "stream",
          "text": [
            "\n",
            "Test set: Average loss: 0.0264, Accuracy: 9914/10000 (99.14%)\n",
            "\n"
          ],
          "name": "stdout"
        },
        {
          "output_type": "stream",
          "text": [
            "loss=0.028814157471060753 batch_id=468 Accuracy=98.07: 100%|██████████| 469/469 [00:22<00:00, 20.72it/s]\n",
            "  0%|          | 0/469 [00:00<?, ?it/s]"
          ],
          "name": "stderr"
        },
        {
          "output_type": "stream",
          "text": [
            "\n",
            "Test set: Average loss: 0.0241, Accuracy: 9922/10000 (99.22%)\n",
            "\n"
          ],
          "name": "stdout"
        },
        {
          "output_type": "stream",
          "text": [
            "loss=0.07785680145025253 batch_id=468 Accuracy=98.11: 100%|██████████| 469/469 [00:22<00:00, 20.85it/s]\n",
            "  0%|          | 0/469 [00:00<?, ?it/s]"
          ],
          "name": "stderr"
        },
        {
          "output_type": "stream",
          "text": [
            "\n",
            "Test set: Average loss: 0.0214, Accuracy: 9927/10000 (99.27%)\n",
            "\n"
          ],
          "name": "stdout"
        },
        {
          "output_type": "stream",
          "text": [
            "loss=0.04753771424293518 batch_id=468 Accuracy=98.23: 100%|██████████| 469/469 [00:22<00:00, 20.76it/s]\n",
            "  0%|          | 0/469 [00:00<?, ?it/s]"
          ],
          "name": "stderr"
        },
        {
          "output_type": "stream",
          "text": [
            "\n",
            "Test set: Average loss: 0.0235, Accuracy: 9920/10000 (99.20%)\n",
            "\n"
          ],
          "name": "stdout"
        },
        {
          "output_type": "stream",
          "text": [
            "loss=0.01753692887723446 batch_id=468 Accuracy=98.24: 100%|██████████| 469/469 [00:22<00:00, 20.76it/s]\n",
            "  0%|          | 0/469 [00:00<?, ?it/s]"
          ],
          "name": "stderr"
        },
        {
          "output_type": "stream",
          "text": [
            "\n",
            "Test set: Average loss: 0.0249, Accuracy: 9920/10000 (99.20%)\n",
            "\n"
          ],
          "name": "stdout"
        },
        {
          "output_type": "stream",
          "text": [
            "loss=0.12928037345409393 batch_id=468 Accuracy=98.20: 100%|██████████| 469/469 [00:22<00:00, 20.79it/s]\n",
            "  0%|          | 0/469 [00:00<?, ?it/s]"
          ],
          "name": "stderr"
        },
        {
          "output_type": "stream",
          "text": [
            "\n",
            "Test set: Average loss: 0.0210, Accuracy: 9929/10000 (99.29%)\n",
            "\n"
          ],
          "name": "stdout"
        },
        {
          "output_type": "stream",
          "text": [
            "loss=0.04813725873827934 batch_id=468 Accuracy=98.30: 100%|██████████| 469/469 [00:22<00:00, 20.98it/s]\n",
            "  0%|          | 0/469 [00:00<?, ?it/s]"
          ],
          "name": "stderr"
        },
        {
          "output_type": "stream",
          "text": [
            "\n",
            "Test set: Average loss: 0.0198, Accuracy: 9935/10000 (99.35%)\n",
            "\n"
          ],
          "name": "stdout"
        },
        {
          "output_type": "stream",
          "text": [
            "loss=0.06621123850345612 batch_id=468 Accuracy=98.31: 100%|██████████| 469/469 [00:22<00:00, 20.76it/s]\n",
            "  0%|          | 0/469 [00:00<?, ?it/s]"
          ],
          "name": "stderr"
        },
        {
          "output_type": "stream",
          "text": [
            "\n",
            "Test set: Average loss: 0.0218, Accuracy: 9932/10000 (99.32%)\n",
            "\n"
          ],
          "name": "stdout"
        },
        {
          "output_type": "stream",
          "text": [
            "loss=0.03343324363231659 batch_id=468 Accuracy=98.43: 100%|██████████| 469/469 [00:22<00:00, 21.25it/s]\n",
            "  0%|          | 0/469 [00:00<?, ?it/s]"
          ],
          "name": "stderr"
        },
        {
          "output_type": "stream",
          "text": [
            "\n",
            "Test set: Average loss: 0.0205, Accuracy: 9924/10000 (99.24%)\n",
            "\n"
          ],
          "name": "stdout"
        },
        {
          "output_type": "stream",
          "text": [
            "loss=0.052775442600250244 batch_id=468 Accuracy=98.38: 100%|██████████| 469/469 [00:22<00:00, 20.98it/s]\n",
            "  0%|          | 0/469 [00:00<?, ?it/s]"
          ],
          "name": "stderr"
        },
        {
          "output_type": "stream",
          "text": [
            "\n",
            "Test set: Average loss: 0.0205, Accuracy: 9937/10000 (99.37%)\n",
            "\n"
          ],
          "name": "stdout"
        },
        {
          "output_type": "stream",
          "text": [
            "loss=0.025986144319176674 batch_id=468 Accuracy=98.37: 100%|██████████| 469/469 [00:22<00:00, 20.80it/s]\n",
            "  0%|          | 0/469 [00:00<?, ?it/s]"
          ],
          "name": "stderr"
        },
        {
          "output_type": "stream",
          "text": [
            "\n",
            "Test set: Average loss: 0.0223, Accuracy: 9927/10000 (99.27%)\n",
            "\n"
          ],
          "name": "stdout"
        },
        {
          "output_type": "stream",
          "text": [
            "loss=0.04284128174185753 batch_id=468 Accuracy=98.42: 100%|██████████| 469/469 [00:22<00:00, 20.40it/s]\n",
            "  0%|          | 0/469 [00:00<?, ?it/s]"
          ],
          "name": "stderr"
        },
        {
          "output_type": "stream",
          "text": [
            "\n",
            "Test set: Average loss: 0.0194, Accuracy: 9935/10000 (99.35%)\n",
            "\n"
          ],
          "name": "stdout"
        },
        {
          "output_type": "stream",
          "text": [
            "loss=0.04165610671043396 batch_id=468 Accuracy=98.45: 100%|██████████| 469/469 [00:22<00:00, 20.43it/s]\n"
          ],
          "name": "stderr"
        },
        {
          "output_type": "stream",
          "text": [
            "\n",
            "Test set: Average loss: 0.0174, Accuracy: 9943/10000 (99.43%)\n",
            "\n",
            "Requirement already satisfied: torchsummary in /usr/local/lib/python3.6/dist-packages (1.5.1)\n"
          ],
          "name": "stdout"
        },
        {
          "output_type": "stream",
          "text": [
            "\r  0%|          | 0/469 [00:00<?, ?it/s]"
          ],
          "name": "stderr"
        },
        {
          "output_type": "stream",
          "text": [
            "----------------------------------------------------------------\n",
            "        Layer (type)               Output Shape         Param #\n",
            "================================================================\n",
            "            Conv2d-1           [-1, 10, 26, 26]             100\n",
            "              ReLU-2           [-1, 10, 26, 26]               0\n",
            "       BatchNorm2d-3           [-1, 10, 26, 26]              20\n",
            "            Conv2d-4           [-1, 16, 24, 24]           1,456\n",
            "              ReLU-5           [-1, 16, 24, 24]               0\n",
            "       BatchNorm2d-6           [-1, 16, 24, 24]              32\n",
            "            Conv2d-7           [-1, 20, 22, 22]           2,900\n",
            "              ReLU-8           [-1, 20, 22, 22]               0\n",
            "       BatchNorm2d-9           [-1, 20, 22, 22]              40\n",
            "        MaxPool2d-10           [-1, 20, 11, 11]               0\n",
            "          Dropout-11           [-1, 20, 11, 11]               0\n",
            "           Conv2d-12           [-1, 10, 11, 11]             210\n",
            "             ReLU-13           [-1, 10, 11, 11]               0\n",
            "      BatchNorm2d-14           [-1, 10, 11, 11]              20\n",
            "          Dropout-15           [-1, 10, 11, 11]               0\n",
            "           Conv2d-16             [-1, 20, 9, 9]           1,820\n",
            "             ReLU-17             [-1, 20, 9, 9]               0\n",
            "      BatchNorm2d-18             [-1, 20, 9, 9]              40\n",
            "           Conv2d-19             [-1, 16, 7, 7]           2,896\n",
            "             ReLU-20             [-1, 16, 7, 7]               0\n",
            "      BatchNorm2d-21             [-1, 16, 7, 7]              32\n",
            "           Conv2d-22             [-1, 10, 7, 7]             170\n",
            "        AvgPool2d-23             [-1, 10, 1, 1]               0\n",
            "================================================================\n",
            "Total params: 9,736\n",
            "Trainable params: 9,736\n",
            "Non-trainable params: 0\n",
            "----------------------------------------------------------------\n",
            "Input size (MB): 0.00\n",
            "Forward/backward pass size (MB): 0.72\n",
            "Params size (MB): 0.04\n",
            "Estimated Total Size (MB): 0.76\n",
            "----------------------------------------------------------------\n",
            "...L1_with_BN..\n"
          ],
          "name": "stdout"
        },
        {
          "output_type": "stream",
          "text": [
            "loss=0.15621255338191986 batch_id=468 Accuracy=78.28: 100%|██████████| 469/469 [00:24<00:00, 19.31it/s]\n",
            "  0%|          | 0/469 [00:00<?, ?it/s]"
          ],
          "name": "stderr"
        },
        {
          "output_type": "stream",
          "text": [
            "\n",
            "Test set: Average loss: 0.1508, Accuracy: 9557/10000 (95.57%)\n",
            "\n"
          ],
          "name": "stdout"
        },
        {
          "output_type": "stream",
          "text": [
            "loss=0.19265778362751007 batch_id=468 Accuracy=95.06: 100%|██████████| 469/469 [00:23<00:00, 19.80it/s]\n",
            "  0%|          | 0/469 [00:00<?, ?it/s]"
          ],
          "name": "stderr"
        },
        {
          "output_type": "stream",
          "text": [
            "\n",
            "Test set: Average loss: 0.0666, Accuracy: 9817/10000 (98.17%)\n",
            "\n"
          ],
          "name": "stdout"
        },
        {
          "output_type": "stream",
          "text": [
            "loss=0.13124151527881622 batch_id=468 Accuracy=96.33: 100%|██████████| 469/469 [00:23<00:00, 19.64it/s]\n",
            "  0%|          | 0/469 [00:00<?, ?it/s]"
          ],
          "name": "stderr"
        },
        {
          "output_type": "stream",
          "text": [
            "\n",
            "Test set: Average loss: 0.0497, Accuracy: 9859/10000 (98.59%)\n",
            "\n"
          ],
          "name": "stdout"
        },
        {
          "output_type": "stream",
          "text": [
            "loss=0.09610054641962051 batch_id=468 Accuracy=96.86: 100%|██████████| 469/469 [00:23<00:00, 19.54it/s]\n",
            "  0%|          | 0/469 [00:00<?, ?it/s]"
          ],
          "name": "stderr"
        },
        {
          "output_type": "stream",
          "text": [
            "\n",
            "Test set: Average loss: 0.0359, Accuracy: 9891/10000 (98.91%)\n",
            "\n"
          ],
          "name": "stdout"
        },
        {
          "output_type": "stream",
          "text": [
            "loss=0.09024965763092041 batch_id=468 Accuracy=97.21: 100%|██████████| 469/469 [00:23<00:00, 19.77it/s]\n",
            "  0%|          | 0/469 [00:00<?, ?it/s]"
          ],
          "name": "stderr"
        },
        {
          "output_type": "stream",
          "text": [
            "\n",
            "Test set: Average loss: 0.0316, Accuracy: 9907/10000 (99.07%)\n",
            "\n"
          ],
          "name": "stdout"
        },
        {
          "output_type": "stream",
          "text": [
            "loss=0.05311637744307518 batch_id=468 Accuracy=97.44: 100%|██████████| 469/469 [00:23<00:00, 19.66it/s]\n",
            "  0%|          | 0/469 [00:00<?, ?it/s]"
          ],
          "name": "stderr"
        },
        {
          "output_type": "stream",
          "text": [
            "\n",
            "Test set: Average loss: 0.0400, Accuracy: 9880/10000 (98.80%)\n",
            "\n"
          ],
          "name": "stdout"
        },
        {
          "output_type": "stream",
          "text": [
            "loss=0.053268738090991974 batch_id=468 Accuracy=97.59: 100%|██████████| 469/469 [00:24<00:00, 19.54it/s]\n",
            "  0%|          | 0/469 [00:00<?, ?it/s]"
          ],
          "name": "stderr"
        },
        {
          "output_type": "stream",
          "text": [
            "\n",
            "Test set: Average loss: 0.0305, Accuracy: 9906/10000 (99.06%)\n",
            "\n"
          ],
          "name": "stdout"
        },
        {
          "output_type": "stream",
          "text": [
            "loss=0.09469777345657349 batch_id=468 Accuracy=97.62: 100%|██████████| 469/469 [00:24<00:00, 19.51it/s]\n",
            "  0%|          | 0/469 [00:00<?, ?it/s]"
          ],
          "name": "stderr"
        },
        {
          "output_type": "stream",
          "text": [
            "\n",
            "Test set: Average loss: 0.0278, Accuracy: 9916/10000 (99.16%)\n",
            "\n"
          ],
          "name": "stdout"
        },
        {
          "output_type": "stream",
          "text": [
            "loss=0.09723133593797684 batch_id=468 Accuracy=97.77: 100%|██████████| 469/469 [00:24<00:00, 19.36it/s]\n",
            "  0%|          | 0/469 [00:00<?, ?it/s]"
          ],
          "name": "stderr"
        },
        {
          "output_type": "stream",
          "text": [
            "\n",
            "Test set: Average loss: 0.0322, Accuracy: 9899/10000 (98.99%)\n",
            "\n"
          ],
          "name": "stdout"
        },
        {
          "output_type": "stream",
          "text": [
            "loss=0.08969871699810028 batch_id=468 Accuracy=97.82: 100%|██████████| 469/469 [00:24<00:00, 19.44it/s]\n",
            "  0%|          | 0/469 [00:00<?, ?it/s]"
          ],
          "name": "stderr"
        },
        {
          "output_type": "stream",
          "text": [
            "\n",
            "Test set: Average loss: 0.0264, Accuracy: 9920/10000 (99.20%)\n",
            "\n"
          ],
          "name": "stdout"
        },
        {
          "output_type": "stream",
          "text": [
            "loss=0.0716557502746582 batch_id=468 Accuracy=97.95: 100%|██████████| 469/469 [00:24<00:00, 19.35it/s]\n",
            "  0%|          | 0/469 [00:00<?, ?it/s]"
          ],
          "name": "stderr"
        },
        {
          "output_type": "stream",
          "text": [
            "\n",
            "Test set: Average loss: 0.0290, Accuracy: 9908/10000 (99.08%)\n",
            "\n"
          ],
          "name": "stdout"
        },
        {
          "output_type": "stream",
          "text": [
            "loss=0.04914524406194687 batch_id=468 Accuracy=98.01: 100%|██████████| 469/469 [00:24<00:00, 19.27it/s]\n",
            "  0%|          | 0/469 [00:00<?, ?it/s]"
          ],
          "name": "stderr"
        },
        {
          "output_type": "stream",
          "text": [
            "\n",
            "Test set: Average loss: 0.0237, Accuracy: 9920/10000 (99.20%)\n",
            "\n"
          ],
          "name": "stdout"
        },
        {
          "output_type": "stream",
          "text": [
            "loss=0.04413262754678726 batch_id=468 Accuracy=98.12: 100%|██████████| 469/469 [00:24<00:00, 19.08it/s]\n",
            "  0%|          | 0/469 [00:00<?, ?it/s]"
          ],
          "name": "stderr"
        },
        {
          "output_type": "stream",
          "text": [
            "\n",
            "Test set: Average loss: 0.0240, Accuracy: 9924/10000 (99.24%)\n",
            "\n"
          ],
          "name": "stdout"
        },
        {
          "output_type": "stream",
          "text": [
            "loss=0.07611232995986938 batch_id=468 Accuracy=98.15: 100%|██████████| 469/469 [00:24<00:00, 19.51it/s]\n",
            "  0%|          | 0/469 [00:00<?, ?it/s]"
          ],
          "name": "stderr"
        },
        {
          "output_type": "stream",
          "text": [
            "\n",
            "Test set: Average loss: 0.0217, Accuracy: 9934/10000 (99.34%)\n",
            "\n"
          ],
          "name": "stdout"
        },
        {
          "output_type": "stream",
          "text": [
            "loss=0.05931569263339043 batch_id=468 Accuracy=98.19: 100%|██████████| 469/469 [00:23<00:00, 19.75it/s]\n",
            "  0%|          | 0/469 [00:00<?, ?it/s]"
          ],
          "name": "stderr"
        },
        {
          "output_type": "stream",
          "text": [
            "\n",
            "Test set: Average loss: 0.0269, Accuracy: 9911/10000 (99.11%)\n",
            "\n"
          ],
          "name": "stdout"
        },
        {
          "output_type": "stream",
          "text": [
            "loss=0.02357994019985199 batch_id=468 Accuracy=98.20: 100%|██████████| 469/469 [00:23<00:00, 19.69it/s]\n",
            "  0%|          | 0/469 [00:00<?, ?it/s]"
          ],
          "name": "stderr"
        },
        {
          "output_type": "stream",
          "text": [
            "\n",
            "Test set: Average loss: 0.0230, Accuracy: 9928/10000 (99.28%)\n",
            "\n"
          ],
          "name": "stdout"
        },
        {
          "output_type": "stream",
          "text": [
            "loss=0.12914980947971344 batch_id=468 Accuracy=98.25: 100%|██████████| 469/469 [00:22<00:00, 20.49it/s]\n",
            "  0%|          | 0/469 [00:00<?, ?it/s]"
          ],
          "name": "stderr"
        },
        {
          "output_type": "stream",
          "text": [
            "\n",
            "Test set: Average loss: 0.0220, Accuracy: 9928/10000 (99.28%)\n",
            "\n"
          ],
          "name": "stdout"
        },
        {
          "output_type": "stream",
          "text": [
            "loss=0.03768245875835419 batch_id=468 Accuracy=98.31: 100%|██████████| 469/469 [00:22<00:00, 20.40it/s]\n",
            "  0%|          | 0/469 [00:00<?, ?it/s]"
          ],
          "name": "stderr"
        },
        {
          "output_type": "stream",
          "text": [
            "\n",
            "Test set: Average loss: 0.0219, Accuracy: 9934/10000 (99.34%)\n",
            "\n"
          ],
          "name": "stdout"
        },
        {
          "output_type": "stream",
          "text": [
            "loss=0.06635458022356033 batch_id=468 Accuracy=98.34: 100%|██████████| 469/469 [00:23<00:00, 20.34it/s]\n",
            "  0%|          | 0/469 [00:00<?, ?it/s]"
          ],
          "name": "stderr"
        },
        {
          "output_type": "stream",
          "text": [
            "\n",
            "Test set: Average loss: 0.0215, Accuracy: 9932/10000 (99.32%)\n",
            "\n"
          ],
          "name": "stdout"
        },
        {
          "output_type": "stream",
          "text": [
            "loss=0.045471858233213425 batch_id=468 Accuracy=98.32: 100%|██████████| 469/469 [00:23<00:00, 20.33it/s]\n",
            "  0%|          | 0/469 [00:00<?, ?it/s]"
          ],
          "name": "stderr"
        },
        {
          "output_type": "stream",
          "text": [
            "\n",
            "Test set: Average loss: 0.0224, Accuracy: 9928/10000 (99.28%)\n",
            "\n"
          ],
          "name": "stdout"
        },
        {
          "output_type": "stream",
          "text": [
            "loss=0.07549839466810226 batch_id=468 Accuracy=98.38: 100%|██████████| 469/469 [00:22<00:00, 20.50it/s]\n",
            "  0%|          | 0/469 [00:00<?, ?it/s]"
          ],
          "name": "stderr"
        },
        {
          "output_type": "stream",
          "text": [
            "\n",
            "Test set: Average loss: 0.0247, Accuracy: 9919/10000 (99.19%)\n",
            "\n"
          ],
          "name": "stdout"
        },
        {
          "output_type": "stream",
          "text": [
            "loss=0.03823750838637352 batch_id=468 Accuracy=98.41: 100%|██████████| 469/469 [00:23<00:00, 20.34it/s]\n",
            "  0%|          | 0/469 [00:00<?, ?it/s]"
          ],
          "name": "stderr"
        },
        {
          "output_type": "stream",
          "text": [
            "\n",
            "Test set: Average loss: 0.0224, Accuracy: 9934/10000 (99.34%)\n",
            "\n"
          ],
          "name": "stdout"
        },
        {
          "output_type": "stream",
          "text": [
            "loss=0.05238131061196327 batch_id=468 Accuracy=98.44: 100%|██████████| 469/469 [00:22<00:00, 20.56it/s]\n",
            "  0%|          | 0/469 [00:00<?, ?it/s]"
          ],
          "name": "stderr"
        },
        {
          "output_type": "stream",
          "text": [
            "\n",
            "Test set: Average loss: 0.0202, Accuracy: 9932/10000 (99.32%)\n",
            "\n"
          ],
          "name": "stdout"
        },
        {
          "output_type": "stream",
          "text": [
            "loss=0.04896922409534454 batch_id=468 Accuracy=98.46: 100%|██████████| 469/469 [00:23<00:00, 20.37it/s]\n"
          ],
          "name": "stderr"
        },
        {
          "output_type": "stream",
          "text": [
            "\n",
            "Test set: Average loss: 0.0193, Accuracy: 9941/10000 (99.41%)\n",
            "\n",
            "Requirement already satisfied: torchsummary in /usr/local/lib/python3.6/dist-packages (1.5.1)\n"
          ],
          "name": "stdout"
        },
        {
          "output_type": "stream",
          "text": [
            "\r  0%|          | 0/469 [00:00<?, ?it/s]"
          ],
          "name": "stderr"
        },
        {
          "output_type": "stream",
          "text": [
            "----------------------------------------------------------------\n",
            "        Layer (type)               Output Shape         Param #\n",
            "================================================================\n",
            "            Conv2d-1           [-1, 10, 26, 26]             100\n",
            "              ReLU-2           [-1, 10, 26, 26]               0\n",
            "       BatchNorm2d-3           [-1, 10, 26, 26]              20\n",
            "            Conv2d-4           [-1, 16, 24, 24]           1,456\n",
            "              ReLU-5           [-1, 16, 24, 24]               0\n",
            "       BatchNorm2d-6           [-1, 16, 24, 24]              32\n",
            "            Conv2d-7           [-1, 20, 22, 22]           2,900\n",
            "              ReLU-8           [-1, 20, 22, 22]               0\n",
            "       BatchNorm2d-9           [-1, 20, 22, 22]              40\n",
            "        MaxPool2d-10           [-1, 20, 11, 11]               0\n",
            "          Dropout-11           [-1, 20, 11, 11]               0\n",
            "           Conv2d-12           [-1, 10, 11, 11]             210\n",
            "             ReLU-13           [-1, 10, 11, 11]               0\n",
            "      BatchNorm2d-14           [-1, 10, 11, 11]              20\n",
            "          Dropout-15           [-1, 10, 11, 11]               0\n",
            "           Conv2d-16             [-1, 20, 9, 9]           1,820\n",
            "             ReLU-17             [-1, 20, 9, 9]               0\n",
            "      BatchNorm2d-18             [-1, 20, 9, 9]              40\n",
            "           Conv2d-19             [-1, 16, 7, 7]           2,896\n",
            "             ReLU-20             [-1, 16, 7, 7]               0\n",
            "      BatchNorm2d-21             [-1, 16, 7, 7]              32\n",
            "           Conv2d-22             [-1, 10, 7, 7]             170\n",
            "        AvgPool2d-23             [-1, 10, 1, 1]               0\n",
            "================================================================\n",
            "Total params: 9,736\n",
            "Trainable params: 9,736\n",
            "Non-trainable params: 0\n",
            "----------------------------------------------------------------\n",
            "Input size (MB): 0.00\n",
            "Forward/backward pass size (MB): 0.72\n",
            "Params size (MB): 0.04\n",
            "Estimated Total Size (MB): 0.76\n",
            "----------------------------------------------------------------\n",
            "...L2_with_BN..\n"
          ],
          "name": "stdout"
        },
        {
          "output_type": "stream",
          "text": [
            "loss=0.16456028819084167 batch_id=468 Accuracy=78.22: 100%|██████████| 469/469 [00:21<00:00, 21.42it/s]\n",
            "  0%|          | 0/469 [00:00<?, ?it/s]"
          ],
          "name": "stderr"
        },
        {
          "output_type": "stream",
          "text": [
            "\n",
            "Test set: Average loss: 0.1385, Accuracy: 9600/10000 (96.00%)\n",
            "\n"
          ],
          "name": "stdout"
        },
        {
          "output_type": "stream",
          "text": [
            "loss=0.17436005175113678 batch_id=468 Accuracy=94.95: 100%|██████████| 469/469 [00:21<00:00, 21.46it/s]\n",
            "  0%|          | 0/469 [00:00<?, ?it/s]"
          ],
          "name": "stderr"
        },
        {
          "output_type": "stream",
          "text": [
            "\n",
            "Test set: Average loss: 0.0664, Accuracy: 9812/10000 (98.12%)\n",
            "\n"
          ],
          "name": "stdout"
        },
        {
          "output_type": "stream",
          "text": [
            "loss=0.11675912141799927 batch_id=468 Accuracy=96.25: 100%|██████████| 469/469 [00:21<00:00, 21.75it/s]\n",
            "  0%|          | 0/469 [00:00<?, ?it/s]"
          ],
          "name": "stderr"
        },
        {
          "output_type": "stream",
          "text": [
            "\n",
            "Test set: Average loss: 0.0484, Accuracy: 9870/10000 (98.70%)\n",
            "\n"
          ],
          "name": "stdout"
        },
        {
          "output_type": "stream",
          "text": [
            "loss=0.08954782038927078 batch_id=468 Accuracy=96.82: 100%|██████████| 469/469 [00:22<00:00, 20.55it/s]\n",
            "  0%|          | 0/469 [00:00<?, ?it/s]"
          ],
          "name": "stderr"
        },
        {
          "output_type": "stream",
          "text": [
            "\n",
            "Test set: Average loss: 0.0364, Accuracy: 9884/10000 (98.84%)\n",
            "\n"
          ],
          "name": "stdout"
        },
        {
          "output_type": "stream",
          "text": [
            "loss=0.08232947438955307 batch_id=468 Accuracy=97.25: 100%|██████████| 469/469 [00:22<00:00, 20.65it/s]\n",
            "  0%|          | 0/469 [00:00<?, ?it/s]"
          ],
          "name": "stderr"
        },
        {
          "output_type": "stream",
          "text": [
            "\n",
            "Test set: Average loss: 0.0348, Accuracy: 9892/10000 (98.92%)\n",
            "\n"
          ],
          "name": "stdout"
        },
        {
          "output_type": "stream",
          "text": [
            "loss=0.04805659130215645 batch_id=468 Accuracy=97.35: 100%|██████████| 469/469 [00:21<00:00, 21.57it/s]\n",
            "  0%|          | 0/469 [00:00<?, ?it/s]"
          ],
          "name": "stderr"
        },
        {
          "output_type": "stream",
          "text": [
            "\n",
            "Test set: Average loss: 0.0358, Accuracy: 9896/10000 (98.96%)\n",
            "\n"
          ],
          "name": "stdout"
        },
        {
          "output_type": "stream",
          "text": [
            "loss=0.04392601177096367 batch_id=468 Accuracy=97.55: 100%|██████████| 469/469 [00:21<00:00, 21.78it/s]\n",
            "  0%|          | 0/469 [00:00<?, ?it/s]"
          ],
          "name": "stderr"
        },
        {
          "output_type": "stream",
          "text": [
            "\n",
            "Test set: Average loss: 0.0299, Accuracy: 9915/10000 (99.15%)\n",
            "\n"
          ],
          "name": "stdout"
        },
        {
          "output_type": "stream",
          "text": [
            "loss=0.08304809778928757 batch_id=468 Accuracy=97.59: 100%|██████████| 469/469 [00:21<00:00, 21.89it/s]\n",
            "  0%|          | 0/469 [00:00<?, ?it/s]"
          ],
          "name": "stderr"
        },
        {
          "output_type": "stream",
          "text": [
            "\n",
            "Test set: Average loss: 0.0292, Accuracy: 9913/10000 (99.13%)\n",
            "\n"
          ],
          "name": "stdout"
        },
        {
          "output_type": "stream",
          "text": [
            "loss=0.07915476709604263 batch_id=468 Accuracy=97.78: 100%|██████████| 469/469 [00:21<00:00, 21.82it/s]\n",
            "  0%|          | 0/469 [00:00<?, ?it/s]"
          ],
          "name": "stderr"
        },
        {
          "output_type": "stream",
          "text": [
            "\n",
            "Test set: Average loss: 0.0284, Accuracy: 9911/10000 (99.11%)\n",
            "\n"
          ],
          "name": "stdout"
        },
        {
          "output_type": "stream",
          "text": [
            "loss=0.09283164143562317 batch_id=468 Accuracy=97.79: 100%|██████████| 469/469 [00:21<00:00, 21.91it/s]\n",
            "  0%|          | 0/469 [00:00<?, ?it/s]"
          ],
          "name": "stderr"
        },
        {
          "output_type": "stream",
          "text": [
            "\n",
            "Test set: Average loss: 0.0244, Accuracy: 9929/10000 (99.29%)\n",
            "\n"
          ],
          "name": "stdout"
        },
        {
          "output_type": "stream",
          "text": [
            "loss=0.05333665385842323 batch_id=468 Accuracy=97.94: 100%|██████████| 469/469 [00:21<00:00, 21.70it/s]\n",
            "  0%|          | 0/469 [00:00<?, ?it/s]"
          ],
          "name": "stderr"
        },
        {
          "output_type": "stream",
          "text": [
            "\n",
            "Test set: Average loss: 0.0336, Accuracy: 9896/10000 (98.96%)\n",
            "\n"
          ],
          "name": "stdout"
        },
        {
          "output_type": "stream",
          "text": [
            "loss=0.04488907381892204 batch_id=468 Accuracy=98.00: 100%|██████████| 469/469 [00:22<00:00, 21.30it/s]\n",
            "  0%|          | 0/469 [00:00<?, ?it/s]"
          ],
          "name": "stderr"
        },
        {
          "output_type": "stream",
          "text": [
            "\n",
            "Test set: Average loss: 0.0268, Accuracy: 9916/10000 (99.16%)\n",
            "\n"
          ],
          "name": "stdout"
        },
        {
          "output_type": "stream",
          "text": [
            "loss=0.03343191742897034 batch_id=468 Accuracy=98.05: 100%|██████████| 469/469 [00:22<00:00, 21.06it/s]\n",
            "  0%|          | 0/469 [00:00<?, ?it/s]"
          ],
          "name": "stderr"
        },
        {
          "output_type": "stream",
          "text": [
            "\n",
            "Test set: Average loss: 0.0260, Accuracy: 9916/10000 (99.16%)\n",
            "\n"
          ],
          "name": "stdout"
        },
        {
          "output_type": "stream",
          "text": [
            "loss=0.06590848416090012 batch_id=468 Accuracy=98.10: 100%|██████████| 469/469 [00:22<00:00, 21.17it/s]\n",
            "  0%|          | 0/469 [00:00<?, ?it/s]"
          ],
          "name": "stderr"
        },
        {
          "output_type": "stream",
          "text": [
            "\n",
            "Test set: Average loss: 0.0213, Accuracy: 9929/10000 (99.29%)\n",
            "\n"
          ],
          "name": "stdout"
        },
        {
          "output_type": "stream",
          "text": [
            "loss=0.04782448336482048 batch_id=468 Accuracy=98.21: 100%|██████████| 469/469 [00:22<00:00, 21.04it/s]\n",
            "  0%|          | 0/469 [00:00<?, ?it/s]"
          ],
          "name": "stderr"
        },
        {
          "output_type": "stream",
          "text": [
            "\n",
            "Test set: Average loss: 0.0238, Accuracy: 9921/10000 (99.21%)\n",
            "\n"
          ],
          "name": "stdout"
        },
        {
          "output_type": "stream",
          "text": [
            "loss=0.019272491335868835 batch_id=468 Accuracy=98.24: 100%|██████████| 469/469 [00:21<00:00, 21.40it/s]\n",
            "  0%|          | 0/469 [00:00<?, ?it/s]"
          ],
          "name": "stderr"
        },
        {
          "output_type": "stream",
          "text": [
            "\n",
            "Test set: Average loss: 0.0251, Accuracy: 9910/10000 (99.10%)\n",
            "\n"
          ],
          "name": "stdout"
        },
        {
          "output_type": "stream",
          "text": [
            "loss=0.15017449855804443 batch_id=468 Accuracy=98.21: 100%|██████████| 469/469 [00:22<00:00, 21.24it/s]\n",
            "  0%|          | 0/469 [00:00<?, ?it/s]"
          ],
          "name": "stderr"
        },
        {
          "output_type": "stream",
          "text": [
            "\n",
            "Test set: Average loss: 0.0227, Accuracy: 9929/10000 (99.29%)\n",
            "\n"
          ],
          "name": "stdout"
        },
        {
          "output_type": "stream",
          "text": [
            "loss=0.050983648747205734 batch_id=468 Accuracy=98.33: 100%|██████████| 469/469 [00:21<00:00, 21.42it/s]\n",
            "  0%|          | 0/469 [00:00<?, ?it/s]"
          ],
          "name": "stderr"
        },
        {
          "output_type": "stream",
          "text": [
            "\n",
            "Test set: Average loss: 0.0207, Accuracy: 9932/10000 (99.32%)\n",
            "\n"
          ],
          "name": "stdout"
        },
        {
          "output_type": "stream",
          "text": [
            "loss=0.08126199245452881 batch_id=468 Accuracy=98.35: 100%|██████████| 469/469 [00:21<00:00, 21.61it/s]\n",
            "  0%|          | 0/469 [00:00<?, ?it/s]"
          ],
          "name": "stderr"
        },
        {
          "output_type": "stream",
          "text": [
            "\n",
            "Test set: Average loss: 0.0210, Accuracy: 9933/10000 (99.33%)\n",
            "\n"
          ],
          "name": "stdout"
        },
        {
          "output_type": "stream",
          "text": [
            "loss=0.037429407238960266 batch_id=468 Accuracy=98.34: 100%|██████████| 469/469 [00:21<00:00, 21.65it/s]\n",
            "  0%|          | 0/469 [00:00<?, ?it/s]"
          ],
          "name": "stderr"
        },
        {
          "output_type": "stream",
          "text": [
            "\n",
            "Test set: Average loss: 0.0199, Accuracy: 9930/10000 (99.30%)\n",
            "\n"
          ],
          "name": "stdout"
        },
        {
          "output_type": "stream",
          "text": [
            "loss=0.08099908381700516 batch_id=468 Accuracy=98.42: 100%|██████████| 469/469 [00:21<00:00, 21.76it/s]\n",
            "  0%|          | 0/469 [00:00<?, ?it/s]"
          ],
          "name": "stderr"
        },
        {
          "output_type": "stream",
          "text": [
            "\n",
            "Test set: Average loss: 0.0211, Accuracy: 9934/10000 (99.34%)\n",
            "\n"
          ],
          "name": "stdout"
        },
        {
          "output_type": "stream",
          "text": [
            "loss=0.02855241857469082 batch_id=468 Accuracy=98.40: 100%|██████████| 469/469 [00:21<00:00, 22.09it/s]\n",
            "  0%|          | 0/469 [00:00<?, ?it/s]"
          ],
          "name": "stderr"
        },
        {
          "output_type": "stream",
          "text": [
            "\n",
            "Test set: Average loss: 0.0214, Accuracy: 9931/10000 (99.31%)\n",
            "\n"
          ],
          "name": "stdout"
        },
        {
          "output_type": "stream",
          "text": [
            "loss=0.06021091341972351 batch_id=468 Accuracy=98.48: 100%|██████████| 469/469 [00:21<00:00, 21.99it/s]\n",
            "  0%|          | 0/469 [00:00<?, ?it/s]"
          ],
          "name": "stderr"
        },
        {
          "output_type": "stream",
          "text": [
            "\n",
            "Test set: Average loss: 0.0185, Accuracy: 9938/10000 (99.38%)\n",
            "\n"
          ],
          "name": "stdout"
        },
        {
          "output_type": "stream",
          "text": [
            "loss=0.0465521477162838 batch_id=468 Accuracy=98.41: 100%|██████████| 469/469 [00:21<00:00, 21.44it/s]\n"
          ],
          "name": "stderr"
        },
        {
          "output_type": "stream",
          "text": [
            "\n",
            "Test set: Average loss: 0.0199, Accuracy: 9931/10000 (99.31%)\n",
            "\n",
            "Requirement already satisfied: torchsummary in /usr/local/lib/python3.6/dist-packages (1.5.1)\n"
          ],
          "name": "stdout"
        },
        {
          "output_type": "stream",
          "text": [
            "\r  0%|          | 0/469 [00:00<?, ?it/s]"
          ],
          "name": "stderr"
        },
        {
          "output_type": "stream",
          "text": [
            "----------------------------------------------------------------\n",
            "        Layer (type)               Output Shape         Param #\n",
            "================================================================\n",
            "            Conv2d-1           [-1, 10, 26, 26]             100\n",
            "              ReLU-2           [-1, 10, 26, 26]               0\n",
            "       BatchNorm2d-3           [-1, 10, 26, 26]              20\n",
            "            Conv2d-4           [-1, 16, 24, 24]           1,456\n",
            "              ReLU-5           [-1, 16, 24, 24]               0\n",
            "       BatchNorm2d-6           [-1, 16, 24, 24]              32\n",
            "            Conv2d-7           [-1, 20, 22, 22]           2,900\n",
            "              ReLU-8           [-1, 20, 22, 22]               0\n",
            "       BatchNorm2d-9           [-1, 20, 22, 22]              40\n",
            "        MaxPool2d-10           [-1, 20, 11, 11]               0\n",
            "          Dropout-11           [-1, 20, 11, 11]               0\n",
            "           Conv2d-12           [-1, 10, 11, 11]             210\n",
            "             ReLU-13           [-1, 10, 11, 11]               0\n",
            "      BatchNorm2d-14           [-1, 10, 11, 11]              20\n",
            "          Dropout-15           [-1, 10, 11, 11]               0\n",
            "           Conv2d-16             [-1, 20, 9, 9]           1,820\n",
            "             ReLU-17             [-1, 20, 9, 9]               0\n",
            "      BatchNorm2d-18             [-1, 20, 9, 9]              40\n",
            "           Conv2d-19             [-1, 16, 7, 7]           2,896\n",
            "             ReLU-20             [-1, 16, 7, 7]               0\n",
            "      BatchNorm2d-21             [-1, 16, 7, 7]              32\n",
            "           Conv2d-22             [-1, 10, 7, 7]             170\n",
            "        AvgPool2d-23             [-1, 10, 1, 1]               0\n",
            "================================================================\n",
            "Total params: 9,736\n",
            "Trainable params: 9,736\n",
            "Non-trainable params: 0\n",
            "----------------------------------------------------------------\n",
            "Input size (MB): 0.00\n",
            "Forward/backward pass size (MB): 0.72\n",
            "Params size (MB): 0.04\n",
            "Estimated Total Size (MB): 0.76\n",
            "----------------------------------------------------------------\n",
            "....L1_L2_BN...\n"
          ],
          "name": "stdout"
        },
        {
          "output_type": "stream",
          "text": [
            "loss=0.15286126732826233 batch_id=468 Accuracy=78.24: 100%|██████████| 469/469 [00:22<00:00, 20.86it/s]\n",
            "  0%|          | 0/469 [00:00<?, ?it/s]"
          ],
          "name": "stderr"
        },
        {
          "output_type": "stream",
          "text": [
            "\n",
            "Test set: Average loss: 0.1433, Accuracy: 9590/10000 (95.90%)\n",
            "\n"
          ],
          "name": "stdout"
        },
        {
          "output_type": "stream",
          "text": [
            "loss=0.20463526248931885 batch_id=468 Accuracy=95.05: 100%|██████████| 469/469 [00:22<00:00, 21.12it/s]\n",
            "  0%|          | 0/469 [00:00<?, ?it/s]"
          ],
          "name": "stderr"
        },
        {
          "output_type": "stream",
          "text": [
            "\n",
            "Test set: Average loss: 0.0664, Accuracy: 9819/10000 (98.19%)\n",
            "\n"
          ],
          "name": "stdout"
        },
        {
          "output_type": "stream",
          "text": [
            "loss=0.1316075176000595 batch_id=468 Accuracy=96.25: 100%|██████████| 469/469 [00:22<00:00, 21.07it/s]\n",
            "  0%|          | 0/469 [00:00<?, ?it/s]"
          ],
          "name": "stderr"
        },
        {
          "output_type": "stream",
          "text": [
            "\n",
            "Test set: Average loss: 0.0495, Accuracy: 9855/10000 (98.55%)\n",
            "\n"
          ],
          "name": "stdout"
        },
        {
          "output_type": "stream",
          "text": [
            "loss=0.08410387486219406 batch_id=468 Accuracy=96.82: 100%|██████████| 469/469 [00:22<00:00, 20.59it/s]\n",
            "  0%|          | 0/469 [00:00<?, ?it/s]"
          ],
          "name": "stderr"
        },
        {
          "output_type": "stream",
          "text": [
            "\n",
            "Test set: Average loss: 0.0375, Accuracy: 9897/10000 (98.97%)\n",
            "\n"
          ],
          "name": "stdout"
        },
        {
          "output_type": "stream",
          "text": [
            "loss=0.10291458666324615 batch_id=468 Accuracy=97.19: 100%|██████████| 469/469 [00:22<00:00, 21.12it/s]\n",
            "  0%|          | 0/469 [00:00<?, ?it/s]"
          ],
          "name": "stderr"
        },
        {
          "output_type": "stream",
          "text": [
            "\n",
            "Test set: Average loss: 0.0324, Accuracy: 9904/10000 (99.04%)\n",
            "\n"
          ],
          "name": "stdout"
        },
        {
          "output_type": "stream",
          "text": [
            "loss=0.050491537898778915 batch_id=468 Accuracy=97.40: 100%|██████████| 469/469 [00:22<00:00, 20.89it/s]\n",
            "  0%|          | 0/469 [00:00<?, ?it/s]"
          ],
          "name": "stderr"
        },
        {
          "output_type": "stream",
          "text": [
            "\n",
            "Test set: Average loss: 0.0353, Accuracy: 9896/10000 (98.96%)\n",
            "\n"
          ],
          "name": "stdout"
        },
        {
          "output_type": "stream",
          "text": [
            "loss=0.060420647263526917 batch_id=468 Accuracy=97.61: 100%|██████████| 469/469 [00:22<00:00, 20.62it/s]\n",
            "  0%|          | 0/469 [00:00<?, ?it/s]"
          ],
          "name": "stderr"
        },
        {
          "output_type": "stream",
          "text": [
            "\n",
            "Test set: Average loss: 0.0285, Accuracy: 9919/10000 (99.19%)\n",
            "\n"
          ],
          "name": "stdout"
        },
        {
          "output_type": "stream",
          "text": [
            "loss=0.08804500102996826 batch_id=468 Accuracy=97.61: 100%|██████████| 469/469 [00:22<00:00, 20.88it/s]\n",
            "  0%|          | 0/469 [00:00<?, ?it/s]"
          ],
          "name": "stderr"
        },
        {
          "output_type": "stream",
          "text": [
            "\n",
            "Test set: Average loss: 0.0282, Accuracy: 9913/10000 (99.13%)\n",
            "\n"
          ],
          "name": "stdout"
        },
        {
          "output_type": "stream",
          "text": [
            "loss=0.10425014793872833 batch_id=468 Accuracy=97.72: 100%|██████████| 469/469 [00:22<00:00, 21.03it/s]\n",
            "  0%|          | 0/469 [00:00<?, ?it/s]"
          ],
          "name": "stderr"
        },
        {
          "output_type": "stream",
          "text": [
            "\n",
            "Test set: Average loss: 0.0287, Accuracy: 9914/10000 (99.14%)\n",
            "\n"
          ],
          "name": "stdout"
        },
        {
          "output_type": "stream",
          "text": [
            "loss=0.09885568916797638 batch_id=468 Accuracy=97.91: 100%|██████████| 469/469 [00:22<00:00, 21.07it/s]\n",
            "  0%|          | 0/469 [00:00<?, ?it/s]"
          ],
          "name": "stderr"
        },
        {
          "output_type": "stream",
          "text": [
            "\n",
            "Test set: Average loss: 0.0250, Accuracy: 9921/10000 (99.21%)\n",
            "\n"
          ],
          "name": "stdout"
        },
        {
          "output_type": "stream",
          "text": [
            "loss=0.0682041272521019 batch_id=468 Accuracy=97.97: 100%|██████████| 469/469 [00:22<00:00, 21.16it/s]\n",
            "  0%|          | 0/469 [00:00<?, ?it/s]"
          ],
          "name": "stderr"
        },
        {
          "output_type": "stream",
          "text": [
            "\n",
            "Test set: Average loss: 0.0310, Accuracy: 9908/10000 (99.08%)\n",
            "\n"
          ],
          "name": "stdout"
        },
        {
          "output_type": "stream",
          "text": [
            "loss=0.061298172920942307 batch_id=468 Accuracy=98.01: 100%|██████████| 469/469 [00:22<00:00, 21.12it/s]\n",
            "  0%|          | 0/469 [00:00<?, ?it/s]"
          ],
          "name": "stderr"
        },
        {
          "output_type": "stream",
          "text": [
            "\n",
            "Test set: Average loss: 0.0284, Accuracy: 9908/10000 (99.08%)\n",
            "\n"
          ],
          "name": "stdout"
        },
        {
          "output_type": "stream",
          "text": [
            "loss=0.04582083970308304 batch_id=468 Accuracy=98.12: 100%|██████████| 469/469 [00:22<00:00, 21.22it/s]\n",
            "  0%|          | 0/469 [00:00<?, ?it/s]"
          ],
          "name": "stderr"
        },
        {
          "output_type": "stream",
          "text": [
            "\n",
            "Test set: Average loss: 0.0262, Accuracy: 9915/10000 (99.15%)\n",
            "\n"
          ],
          "name": "stdout"
        },
        {
          "output_type": "stream",
          "text": [
            "loss=0.07908947765827179 batch_id=468 Accuracy=98.14: 100%|██████████| 469/469 [00:22<00:00, 20.81it/s]\n",
            "  0%|          | 0/469 [00:00<?, ?it/s]"
          ],
          "name": "stderr"
        },
        {
          "output_type": "stream",
          "text": [
            "\n",
            "Test set: Average loss: 0.0261, Accuracy: 9909/10000 (99.09%)\n",
            "\n"
          ],
          "name": "stdout"
        },
        {
          "output_type": "stream",
          "text": [
            "loss=0.058983176946640015 batch_id=468 Accuracy=98.24: 100%|██████████| 469/469 [00:22<00:00, 21.22it/s]\n",
            "  0%|          | 0/469 [00:00<?, ?it/s]"
          ],
          "name": "stderr"
        },
        {
          "output_type": "stream",
          "text": [
            "\n",
            "Test set: Average loss: 0.0257, Accuracy: 9915/10000 (99.15%)\n",
            "\n"
          ],
          "name": "stdout"
        },
        {
          "output_type": "stream",
          "text": [
            "loss=0.022234484553337097 batch_id=468 Accuracy=98.22: 100%|██████████| 469/469 [00:22<00:00, 21.23it/s]\n",
            "  0%|          | 0/469 [00:00<?, ?it/s]"
          ],
          "name": "stderr"
        },
        {
          "output_type": "stream",
          "text": [
            "\n",
            "Test set: Average loss: 0.0229, Accuracy: 9930/10000 (99.30%)\n",
            "\n"
          ],
          "name": "stdout"
        },
        {
          "output_type": "stream",
          "text": [
            "loss=0.13049264252185822 batch_id=468 Accuracy=98.25: 100%|██████████| 469/469 [00:22<00:00, 20.81it/s]\n",
            "  0%|          | 0/469 [00:00<?, ?it/s]"
          ],
          "name": "stderr"
        },
        {
          "output_type": "stream",
          "text": [
            "\n",
            "Test set: Average loss: 0.0224, Accuracy: 9919/10000 (99.19%)\n",
            "\n"
          ],
          "name": "stdout"
        },
        {
          "output_type": "stream",
          "text": [
            "loss=0.06307727098464966 batch_id=468 Accuracy=98.34: 100%|██████████| 469/469 [00:21<00:00, 22.01it/s]\n",
            "  0%|          | 0/469 [00:00<?, ?it/s]"
          ],
          "name": "stderr"
        },
        {
          "output_type": "stream",
          "text": [
            "\n",
            "Test set: Average loss: 0.0211, Accuracy: 9935/10000 (99.35%)\n",
            "\n"
          ],
          "name": "stdout"
        },
        {
          "output_type": "stream",
          "text": [
            "loss=0.09012521803379059 batch_id=468 Accuracy=98.35: 100%|██████████| 469/469 [00:21<00:00, 22.33it/s]\n",
            "  0%|          | 0/469 [00:00<?, ?it/s]"
          ],
          "name": "stderr"
        },
        {
          "output_type": "stream",
          "text": [
            "\n",
            "Test set: Average loss: 0.0214, Accuracy: 9927/10000 (99.27%)\n",
            "\n"
          ],
          "name": "stdout"
        },
        {
          "output_type": "stream",
          "text": [
            "loss=0.02803833782672882 batch_id=468 Accuracy=98.31: 100%|██████████| 469/469 [00:21<00:00, 22.23it/s]\n",
            "  0%|          | 0/469 [00:00<?, ?it/s]"
          ],
          "name": "stderr"
        },
        {
          "output_type": "stream",
          "text": [
            "\n",
            "Test set: Average loss: 0.0209, Accuracy: 9931/10000 (99.31%)\n",
            "\n"
          ],
          "name": "stdout"
        },
        {
          "output_type": "stream",
          "text": [
            "loss=0.06738437712192535 batch_id=468 Accuracy=98.34: 100%|██████████| 469/469 [00:21<00:00, 22.18it/s]\n",
            "  0%|          | 0/469 [00:00<?, ?it/s]"
          ],
          "name": "stderr"
        },
        {
          "output_type": "stream",
          "text": [
            "\n",
            "Test set: Average loss: 0.0203, Accuracy: 9937/10000 (99.37%)\n",
            "\n"
          ],
          "name": "stdout"
        },
        {
          "output_type": "stream",
          "text": [
            "loss=0.05285951867699623 batch_id=468 Accuracy=98.44: 100%|██████████| 469/469 [00:21<00:00, 22.33it/s]\n",
            "  0%|          | 0/469 [00:00<?, ?it/s]"
          ],
          "name": "stderr"
        },
        {
          "output_type": "stream",
          "text": [
            "\n",
            "Test set: Average loss: 0.0219, Accuracy: 9929/10000 (99.29%)\n",
            "\n"
          ],
          "name": "stdout"
        },
        {
          "output_type": "stream",
          "text": [
            "loss=0.08500832319259644 batch_id=468 Accuracy=98.44: 100%|██████████| 469/469 [00:21<00:00, 22.19it/s]\n",
            "  0%|          | 0/469 [00:00<?, ?it/s]"
          ],
          "name": "stderr"
        },
        {
          "output_type": "stream",
          "text": [
            "\n",
            "Test set: Average loss: 0.0182, Accuracy: 9943/10000 (99.43%)\n",
            "\n"
          ],
          "name": "stdout"
        },
        {
          "output_type": "stream",
          "text": [
            "loss=0.06465115398168564 batch_id=468 Accuracy=98.42: 100%|██████████| 469/469 [00:21<00:00, 22.17it/s]\n"
          ],
          "name": "stderr"
        },
        {
          "output_type": "stream",
          "text": [
            "\n",
            "Test set: Average loss: 0.0188, Accuracy: 9943/10000 (99.43%)\n",
            "\n"
          ],
          "name": "stdout"
        }
      ]
    },
    {
      "cell_type": "code",
      "metadata": {
        "id": "8I-BYQ_SC-Q4",
        "colab_type": "code",
        "outputId": "3d6e47b2-643f-48e6-d1b5-b18a757fb4fd",
        "colab": {
          "base_uri": "https://localhost:8080/",
          "height": 948
        }
      },
      "source": [
        "misclassified_images()"
      ],
      "execution_count": 0,
      "outputs": [
        {
          "output_type": "stream",
          "text": [
            "with GBN misclassified image\n",
            "Requirement already satisfied: torchsummary in /usr/local/lib/python3.6/dist-packages (1.5.1)\n"
          ],
          "name": "stdout"
        },
        {
          "output_type": "stream",
          "text": [
            "/usr/local/lib/python3.6/dist-packages/ipykernel_launcher.py:102: UserWarning: Implicit dimension choice for log_softmax has been deprecated. Change the call to include dim=X as an argument.\n"
          ],
          "name": "stderr"
        },
        {
          "output_type": "stream",
          "text": [
            "----------------------------------------------------------------\n",
            "        Layer (type)               Output Shape         Param #\n",
            "================================================================\n",
            "            Conv2d-1           [-1, 10, 26, 26]             100\n",
            "              ReLU-2           [-1, 10, 26, 26]               0\n",
            "    GhostBatchNorm-3           [-1, 10, 26, 26]              20\n",
            "            Conv2d-4           [-1, 16, 24, 24]           1,456\n",
            "              ReLU-5           [-1, 16, 24, 24]               0\n",
            "    GhostBatchNorm-6           [-1, 16, 24, 24]              32\n",
            "            Conv2d-7           [-1, 20, 22, 22]           2,900\n",
            "              ReLU-8           [-1, 20, 22, 22]               0\n",
            "    GhostBatchNorm-9           [-1, 20, 22, 22]              40\n",
            "        MaxPool2d-10           [-1, 20, 11, 11]               0\n",
            "          Dropout-11           [-1, 20, 11, 11]               0\n",
            "           Conv2d-12           [-1, 10, 11, 11]             210\n",
            "             ReLU-13           [-1, 10, 11, 11]               0\n",
            "   GhostBatchNorm-14           [-1, 10, 11, 11]              20\n",
            "          Dropout-15           [-1, 10, 11, 11]               0\n",
            "           Conv2d-16             [-1, 20, 9, 9]           1,820\n",
            "             ReLU-17             [-1, 20, 9, 9]               0\n",
            "      BatchNorm2d-18             [-1, 20, 9, 9]              40\n",
            "   GhostBatchNorm-19             [-1, 20, 9, 9]              40\n",
            "           Conv2d-20             [-1, 16, 7, 7]           2,896\n",
            "             ReLU-21             [-1, 16, 7, 7]               0\n",
            "   GhostBatchNorm-22             [-1, 16, 7, 7]              32\n",
            "           Conv2d-23             [-1, 10, 7, 7]             170\n",
            "        AvgPool2d-24             [-1, 10, 1, 1]               0\n",
            "================================================================\n",
            "Total params: 9,776\n",
            "Trainable params: 9,776\n",
            "Non-trainable params: 0\n",
            "----------------------------------------------------------------\n",
            "Input size (MB): 0.00\n",
            "Forward/backward pass size (MB): 0.73\n",
            "Params size (MB): 0.04\n",
            "Estimated Total Size (MB): 0.77\n",
            "----------------------------------------------------------------\n"
          ],
          "name": "stdout"
        },
        {
          "output_type": "display_data",
          "data": {
            "image/png": "[encoded data removed]",
            "text/plain": [
              "<Figure size 432x288 with 25 Axes>"
            ]
          },
          "metadata": {
            "tags": [],
            "needs_background": "light"
          }
        }
      ]
    },
    {
      "cell_type": "code",
      "metadata": {
        "id": "JJ5DKOH4Pkuq",
        "colab_type": "code",
        "outputId": "b7b0ba4e-6327-4e68-e492-0da33ffe9116",
        "colab": {
          "base_uri": "https://localhost:8080/",
          "height": 931
        }
      },
      "source": [
        "misclassified_images_BN()"
      ],
      "execution_count": 0,
      "outputs": [
        {
          "output_type": "stream",
          "text": [
            "with BN misclassified image\n",
            "Requirement already satisfied: torchsummary in /usr/local/lib/python3.6/dist-packages (1.5.1)\n"
          ],
          "name": "stdout"
        },
        {
          "output_type": "stream",
          "text": [
            "/usr/local/lib/python3.6/dist-packages/ipykernel_launcher.py:102: UserWarning: Implicit dimension choice for log_softmax has been deprecated. Change the call to include dim=X as an argument.\n"
          ],
          "name": "stderr"
        },
        {
          "output_type": "stream",
          "text": [
            "----------------------------------------------------------------\n",
            "        Layer (type)               Output Shape         Param #\n",
            "================================================================\n",
            "            Conv2d-1           [-1, 10, 26, 26]             100\n",
            "              ReLU-2           [-1, 10, 26, 26]               0\n",
            "       BatchNorm2d-3           [-1, 10, 26, 26]              20\n",
            "            Conv2d-4           [-1, 16, 24, 24]           1,456\n",
            "              ReLU-5           [-1, 16, 24, 24]               0\n",
            "       BatchNorm2d-6           [-1, 16, 24, 24]              32\n",
            "            Conv2d-7           [-1, 20, 22, 22]           2,900\n",
            "              ReLU-8           [-1, 20, 22, 22]               0\n",
            "       BatchNorm2d-9           [-1, 20, 22, 22]              40\n",
            "        MaxPool2d-10           [-1, 20, 11, 11]               0\n",
            "          Dropout-11           [-1, 20, 11, 11]               0\n",
            "           Conv2d-12           [-1, 10, 11, 11]             210\n",
            "             ReLU-13           [-1, 10, 11, 11]               0\n",
            "      BatchNorm2d-14           [-1, 10, 11, 11]              20\n",
            "          Dropout-15           [-1, 10, 11, 11]               0\n",
            "           Conv2d-16             [-1, 20, 9, 9]           1,820\n",
            "             ReLU-17             [-1, 20, 9, 9]               0\n",
            "      BatchNorm2d-18             [-1, 20, 9, 9]              40\n",
            "           Conv2d-19             [-1, 16, 7, 7]           2,896\n",
            "             ReLU-20             [-1, 16, 7, 7]               0\n",
            "      BatchNorm2d-21             [-1, 16, 7, 7]              32\n",
            "           Conv2d-22             [-1, 10, 7, 7]             170\n",
            "        AvgPool2d-23             [-1, 10, 1, 1]               0\n",
            "================================================================\n",
            "Total params: 9,736\n",
            "Trainable params: 9,736\n",
            "Non-trainable params: 0\n",
            "----------------------------------------------------------------\n",
            "Input size (MB): 0.00\n",
            "Forward/backward pass size (MB): 0.72\n",
            "Params size (MB): 0.04\n",
            "Estimated Total Size (MB): 0.76\n",
            "----------------------------------------------------------------\n"
          ],
          "name": "stdout"
        },
        {
          "output_type": "display_data",
          "data": {
            "image/png": "[encoded data removed]",
            "text/plain": [
              "<Figure size 432x288 with 25 Axes>"
            ]
          },
          "metadata": {
            "tags": [],
            "needs_background": "light"
          }
        }
      ]
    },
    {
      "cell_type": "markdown",
      "metadata": {
        "id": "BFosEdBNdDVI",
        "colab_type": "text"
      },
      "source": [
        "saving the model which contains Ghost Batch Normalization"
      ]
    },
    {
      "cell_type": "code",
      "metadata": {
        "id": "QjE1aVYT45ar",
        "colab_type": "code",
        "outputId": "9cd38f32-1439-4dc8-b0f4-f9656709e0ed",
        "colab": {
          "base_uri": "https://localhost:8080/",
          "height": 836
        }
      },
      "source": [
        "from google.colab import drive\n",
        "drive.mount('/content/gdrive')\n",
        "\n",
        "!ls /content/gdrive/My Drive\n",
        "\n",
        "model_save_name = 'S6_Assignment_Misclasssified_GBN.pt'\n",
        "path = F\"/content/gdrive/My Drive/{model_save_name}\" \n",
        "model = summary_of_model1()\n",
        "torch.save(model.state_dict(), path)\n",
        "print(\"Saving Complete\")"
      ],
      "execution_count": 0,
      "outputs": [
        {
          "output_type": "stream",
          "text": [
            "Go to this URL in a browser: https://accounts.google.com/o/oauth2/auth?client_id=947318989803-6bn6qk8qdgf4n4g3pfee6491hc0brc4i.apps.googleusercontent.com&redirect_uri=urn%3aietf%3awg%3aoauth%3a2.0%3aoob&response_type=code&scope=email%20https%3a%2f%2fwww.googleapis.com%2fauth%2fdocs.test%20https%3a%2f%2fwww.googleapis.com%2fauth%2fdrive%20https%3a%2f%2fwww.googleapis.com%2fauth%2fdrive.photos.readonly%20https%3a%2f%2fwww.googleapis.com%2fauth%2fpeopleapi.readonly\n",
            "\n",
            "Enter your authorization code:\n",
            "··········\n",
            "Mounted at /content/gdrive\n",
            "ls: cannot access '/content/gdrive/My': No such file or directory\n",
            "ls: cannot access 'Drive': No such file or directory\n",
            "Requirement already satisfied: torchsummary in /usr/local/lib/python3.6/dist-packages (1.5.1)\n",
            "----------------------------------------------------------------\n",
            "        Layer (type)               Output Shape         Param #\n",
            "================================================================\n",
            "            Conv2d-1           [-1, 10, 26, 26]             100\n",
            "              ReLU-2           [-1, 10, 26, 26]               0\n",
            "    GhostBatchNorm-3           [-1, 10, 26, 26]              20\n",
            "            Conv2d-4           [-1, 16, 24, 24]           1,456\n",
            "              ReLU-5           [-1, 16, 24, 24]               0\n",
            "    GhostBatchNorm-6           [-1, 16, 24, 24]              32\n",
            "            Conv2d-7           [-1, 20, 22, 22]           2,900\n",
            "              ReLU-8           [-1, 20, 22, 22]               0\n",
            "    GhostBatchNorm-9           [-1, 20, 22, 22]              40\n",
            "        MaxPool2d-10           [-1, 20, 11, 11]               0\n",
            "          Dropout-11           [-1, 20, 11, 11]               0\n",
            "           Conv2d-12           [-1, 10, 11, 11]             210\n",
            "             ReLU-13           [-1, 10, 11, 11]               0\n",
            "   GhostBatchNorm-14           [-1, 10, 11, 11]              20\n",
            "          Dropout-15           [-1, 10, 11, 11]               0\n",
            "           Conv2d-16             [-1, 20, 9, 9]           1,820\n",
            "             ReLU-17             [-1, 20, 9, 9]               0\n",
            "      BatchNorm2d-18             [-1, 20, 9, 9]              40\n",
            "   GhostBatchNorm-19             [-1, 20, 9, 9]              40\n",
            "           Conv2d-20             [-1, 16, 7, 7]           2,896\n",
            "             ReLU-21             [-1, 16, 7, 7]               0\n",
            "   GhostBatchNorm-22             [-1, 16, 7, 7]              32\n",
            "           Conv2d-23             [-1, 10, 7, 7]             170\n",
            "        AvgPool2d-24             [-1, 10, 1, 1]               0\n",
            "================================================================\n",
            "Total params: 9,776\n",
            "Trainable params: 9,776\n",
            "Non-trainable params: 0\n",
            "----------------------------------------------------------------\n",
            "Input size (MB): 0.00\n",
            "Forward/backward pass size (MB): 0.73\n",
            "Params size (MB): 0.04\n",
            "Estimated Total Size (MB): 0.77\n",
            "----------------------------------------------------------------\n",
            "Saving Complete\n"
          ],
          "name": "stdout"
        },
        {
          "output_type": "stream",
          "text": [
            "/usr/local/lib/python3.6/dist-packages/ipykernel_launcher.py:102: UserWarning: Implicit dimension choice for log_softmax has been deprecated. Change the call to include dim=X as an argument.\n"
          ],
          "name": "stderr"
        }
      ]
    },
    {
      "cell_type": "markdown",
      "metadata": {
        "id": "GT_nnZYBdQ-E",
        "colab_type": "text"
      },
      "source": [
        "saving the model which contains Batch Normalization"
      ]
    },
    {
      "cell_type": "code",
      "metadata": {
        "id": "OgakXPTm4sR2",
        "colab_type": "code",
        "outputId": "78d7a17b-9112-4b43-a078-4732bb356943",
        "colab": {
          "base_uri": "https://localhost:8080/",
          "height": 717
        }
      },
      "source": [
        "from google.colab import drive\n",
        "drive.mount('/content/gdrive')\n",
        "\n",
        "model_save_name = 'S6_Assignment_Misclasssified_BN.pt'\n",
        "path = F\"/content/gdrive/My Drive/{model_save_name}\" \n",
        "model = summary_of_model2()\n",
        "torch.save(model.state_dict(), path)\n",
        "print(\"Saving Complete\")"
      ],
      "execution_count": 0,
      "outputs": [
        {
          "output_type": "stream",
          "text": [
            "Drive already mounted at /content/gdrive; to attempt to forcibly remount, call drive.mount(\"/content/gdrive\", force_remount=True).\n",
            "Requirement already satisfied: torchsummary in /usr/local/lib/python3.6/dist-packages (1.5.1)\n",
            "----------------------------------------------------------------\n",
            "        Layer (type)               Output Shape         Param #\n",
            "================================================================\n",
            "            Conv2d-1           [-1, 10, 26, 26]             100\n",
            "              ReLU-2           [-1, 10, 26, 26]               0\n",
            "       BatchNorm2d-3           [-1, 10, 26, 26]              20\n",
            "            Conv2d-4           [-1, 16, 24, 24]           1,456\n",
            "              ReLU-5           [-1, 16, 24, 24]               0\n",
            "       BatchNorm2d-6           [-1, 16, 24, 24]              32\n",
            "            Conv2d-7           [-1, 20, 22, 22]           2,900\n",
            "              ReLU-8           [-1, 20, 22, 22]               0\n",
            "       BatchNorm2d-9           [-1, 20, 22, 22]              40\n",
            "        MaxPool2d-10           [-1, 20, 11, 11]               0\n",
            "          Dropout-11           [-1, 20, 11, 11]               0\n",
            "           Conv2d-12           [-1, 10, 11, 11]             210\n",
            "             ReLU-13           [-1, 10, 11, 11]               0\n",
            "      BatchNorm2d-14           [-1, 10, 11, 11]              20\n",
            "          Dropout-15           [-1, 10, 11, 11]               0\n",
            "           Conv2d-16             [-1, 20, 9, 9]           1,820\n",
            "             ReLU-17             [-1, 20, 9, 9]               0\n",
            "      BatchNorm2d-18             [-1, 20, 9, 9]              40\n",
            "           Conv2d-19             [-1, 16, 7, 7]           2,896\n",
            "             ReLU-20             [-1, 16, 7, 7]               0\n",
            "      BatchNorm2d-21             [-1, 16, 7, 7]              32\n",
            "           Conv2d-22             [-1, 10, 7, 7]             170\n",
            "        AvgPool2d-23             [-1, 10, 1, 1]               0\n",
            "================================================================\n",
            "Total params: 9,736\n",
            "Trainable params: 9,736\n",
            "Non-trainable params: 0\n",
            "----------------------------------------------------------------\n",
            "Input size (MB): 0.00\n",
            "Forward/backward pass size (MB): 0.72\n",
            "Params size (MB): 0.04\n",
            "Estimated Total Size (MB): 0.76\n",
            "----------------------------------------------------------------\n",
            "Saving Complete\n"
          ],
          "name": "stdout"
        },
        {
          "output_type": "stream",
          "text": [
            "/usr/local/lib/python3.6/dist-packages/ipykernel_launcher.py:102: UserWarning: Implicit dimension choice for log_softmax has been deprecated. Change the call to include dim=X as an argument.\n"
          ],
          "name": "stderr"
        }
      ]
    },
    {
      "cell_type": "code",
      "metadata": {
        "id": "VCmQeGbg2A7L",
        "colab_type": "code",
        "outputId": "7b8ce85a-4dd8-4b0b-ae2c-e1deac2e1e2f",
        "colab": {
          "base_uri": "https://localhost:8080/",
          "height": 1000
        }
      },
      "source": [
        "total_loss"
      ],
      "execution_count": 0,
      "outputs": [
        {
          "output_type": "execute_result",
          "data": {
            "text/plain": [
              "[[0.30341113319396973,\n",
              "  0.09960855612754822,\n",
              "  0.07638645572662353,\n",
              "  0.060093116092681885,\n",
              "  0.04903126854896545,\n",
              "  0.05475700645446777,\n",
              "  0.043077739477157595,\n",
              "  0.03756534895896912,\n",
              "  0.03834226710796356,\n",
              "  0.033648569107055666,\n",
              "  0.03558863270282745,\n",
              "  0.03332516150474548,\n",
              "  0.02754727110862732,\n",
              "  0.02852613034248352,\n",
              "  0.02997279009819031,\n",
              "  0.027509448075294495,\n",
              "  0.02701748631000519,\n",
              "  0.02866202404499054,\n",
              "  0.0268997526884079,\n",
              "  0.025098342156410217,\n",
              "  0.025827506160736084,\n",
              "  0.022522523522377016,\n",
              "  0.024531889390945433,\n",
              "  0.02393666467666626],\n",
              " [0.26661501693725587,\n",
              "  0.1178559425830841,\n",
              "  0.07571973190307617,\n",
              "  0.06114696383476257,\n",
              "  0.051901952648162844,\n",
              "  0.045434791278839114,\n",
              "  0.041456785488128665,\n",
              "  0.04285066590309143,\n",
              "  0.04453027410507202,\n",
              "  0.03784083852767944,\n",
              "  0.03687743213176727,\n",
              "  0.03395103619098663,\n",
              "  0.031182066369056703,\n",
              "  0.02730773890018463,\n",
              "  0.030255985403060914,\n",
              "  0.028180655813217163,\n",
              "  0.026719192957878113,\n",
              "  0.027681133794784547,\n",
              "  0.027425341868400573,\n",
              "  0.023126525592803954,\n",
              "  0.02515786144733429,\n",
              "  0.024991600108146668,\n",
              "  0.022832462215423583,\n",
              "  0.02319322557449341],\n",
              " [0.2779197142601013,\n",
              "  0.12271823530197143,\n",
              "  0.07159134995937347,\n",
              "  0.06034758906364441,\n",
              "  0.049592041063308716,\n",
              "  0.04611242775917053,\n",
              "  0.0407152277469635,\n",
              "  0.039946634006500246,\n",
              "  0.03853612599372864,\n",
              "  0.031859377455711366,\n",
              "  0.03310858211517334,\n",
              "  0.0332872328042984,\n",
              "  0.029687391662597658,\n",
              "  0.026755426788330077,\n",
              "  0.03033136959075928,\n",
              "  0.029090656685829164,\n",
              "  0.02644124517440796,\n",
              "  0.026455573773384096,\n",
              "  0.027363383531570435,\n",
              "  0.025347768235206604,\n",
              "  0.02499230465888977,\n",
              "  0.029398545360565187,\n",
              "  0.023843626284599306,\n",
              "  0.023124167346954345],\n",
              " [0.2823167953491211,\n",
              "  0.11914709467887878,\n",
              "  0.06825554668903351,\n",
              "  0.05888713102340698,\n",
              "  0.05139331479072571,\n",
              "  0.04814180068969726,\n",
              "  0.041077056694030764,\n",
              "  0.040333432149887084,\n",
              "  0.03831510682106018,\n",
              "  0.031941124105453494,\n",
              "  0.03721693003177643,\n",
              "  0.032393883037567135,\n",
              "  0.02871973316669464,\n",
              "  0.025685515093803405,\n",
              "  0.030320854139328002,\n",
              "  0.028727064323425294,\n",
              "  0.027163523602485657,\n",
              "  0.024058992266654967,\n",
              "  0.02833084273338318,\n",
              "  0.023050295495986937,\n",
              "  0.024096214389801026,\n",
              "  0.026844897532463073,\n",
              "  0.02113220307826996,\n",
              "  0.022114870548248292],\n",
              " [0.12727749910354613,\n",
              "  0.06688471252918243,\n",
              "  0.04831364221572876,\n",
              "  0.03614886019229889,\n",
              "  0.03145741314888,\n",
              "  0.05673904364109039,\n",
              "  0.027332790112495422,\n",
              "  0.027058723950386047,\n",
              "  0.030135978174209595,\n",
              "  0.02633766269683838,\n",
              "  0.0289061292886734,\n",
              "  0.024411243557929993,\n",
              "  0.027306901717185975,\n",
              "  0.021901823377609254,\n",
              "  0.022633875346183777,\n",
              "  0.024595724415779115,\n",
              "  0.02265211417675018,\n",
              "  0.0205554318189621,\n",
              "  0.020211252903938295,\n",
              "  0.019221776604652404,\n",
              "  0.022134933519363402,\n",
              "  0.021520935702323912,\n",
              "  0.018144531774520873,\n",
              "  0.017116320443153383],\n",
              " [0.13966186637878417,\n",
              "  0.07019919404983521,\n",
              "  0.052819365119934084,\n",
              "  0.0350351309299469,\n",
              "  0.03211755485534668,\n",
              "  0.04313800427913666,\n",
              "  0.02868398447036743,\n",
              "  0.027648093032836912,\n",
              "  0.03133070387840271,\n",
              "  0.02443165421485901,\n",
              "  0.031674618101119996,\n",
              "  0.024277925610542296,\n",
              "  0.026668633842468262,\n",
              "  0.021666450810432433,\n",
              "  0.02584573314189911,\n",
              "  0.023339491653442384,\n",
              "  0.02115834016799927,\n",
              "  0.019948615550994874,\n",
              "  0.022062374687194825,\n",
              "  0.02039599118232727,\n",
              "  0.020121320629119872,\n",
              "  0.02148906192779541,\n",
              "  0.019604233241081237,\n",
              "  0.018865090036392213],\n",
              " [0.13319686069488526,\n",
              "  0.06581685009002686,\n",
              "  0.04781506011486054,\n",
              "  0.03752744574546814,\n",
              "  0.0339649130821228,\n",
              "  0.031774211621284486,\n",
              "  0.03007055628299713,\n",
              "  0.027918212413787842,\n",
              "  0.030929455041885375,\n",
              "  0.0275412175655365,\n",
              "  0.03189502160549164,\n",
              "  0.026054308891296386,\n",
              "  0.02315186378955841,\n",
              "  0.02266461832523346,\n",
              "  0.024561272048950197,\n",
              "  0.02426705551147461,\n",
              "  0.021946687364578246,\n",
              "  0.02310248146057129,\n",
              "  0.02371253695487976,\n",
              "  0.019976463174819947,\n",
              "  0.019854190969467164,\n",
              "  0.021787477922439576,\n",
              "  0.0204649950504303,\n",
              "  0.018605687808990478],\n",
              " [0.1359421630382538,\n",
              "  0.06474259107112884,\n",
              "  0.04917387475967407,\n",
              "  0.035735384368896485,\n",
              "  0.03385748817920685,\n",
              "  0.03506378118991852,\n",
              "  0.02924649429321289,\n",
              "  0.02973780174255371,\n",
              "  0.029604275727272034,\n",
              "  0.026507443594932557,\n",
              "  0.030108570623397828,\n",
              "  0.02588544703722,\n",
              "  0.02259092562198639,\n",
              "  0.02394328441619873,\n",
              "  0.02567431163787842,\n",
              "  0.025640600538253785,\n",
              "  0.02112493200302124,\n",
              "  0.02158619701862335,\n",
              "  0.020432443141937255,\n",
              "  0.021123353481292725,\n",
              "  0.019160836482048034,\n",
              "  0.019958529686927795,\n",
              "  0.01846941990852356,\n",
              "  0.019311822748184205]]"
            ]
          },
          "metadata": {
            "tags": []
          },
          "execution_count": 20
        }
      ]
    },
    {
      "cell_type": "code",
      "metadata": {
        "id": "Rsh4BA-oMtV8",
        "colab_type": "code",
        "outputId": "a5949d30-9875-426b-93b1-bbc7ae005497",
        "colab": {
          "base_uri": "https://localhost:8080/",
          "height": 730
        }
      },
      "source": [
        "plt.figure(figsize=(20,12))\n",
        "plt.plot(total_loss[0],color='Green',label='L1_L2_with_GBN')\n",
        "plt.plot(total_loss[1],color='Red',label='L1_with_GBN')\n",
        "plt.plot(total_loss[2],color='Blue',label='L2_with_GBN')\n",
        "plt.plot(total_loss[3],color='Yellow',label='Without_L1_L2_with_GBN')\n",
        "plt.plot(total_loss[4],c='Black',marker = 's' , ls = '--' , label = 'without_L1_L2_with_BN' )\n",
        "plt.plot(total_loss[6],c='Magenta', marker = 'D' , ls = '-' , label = 'with_L2_with_BN' )\n",
        "plt.plot(total_loss[5],c='Cyan' , marker = 'o' , ls = '-.' , label = 'with_L1_with_BN')\n",
        "plt.plot(total_loss[7],c='Grey' , marker = '1' , ls = '-.' , label = 'with_L1_L2_with_BN')\n",
        "plt.xlabel('Total Epoch ')\n",
        "plt.ylabel(' Loss ')\n",
        "plt.legend(loc = 'upper left' , bbox_to_anchor = (1,1))\n",
        "\n",
        "plt.title('Total losses vs Epochs')\n",
        "plt.legend()\n",
        "plt.ylabel('Total losses')\n",
        "plt.xlabel('epochs')\n",
        "plt.show()"
      ],
      "execution_count": 0,
      "outputs": [
        {
          "output_type": "display_data",
          "data": {
            "image/png": "[encoded data removed]",
            "text/plain": [
              "<Figure size 1440x864 with 1 Axes>"
            ]
          },
          "metadata": {
            "tags": [],
            "needs_background": "light"
          }
        }
      ]
    },
    {
      "cell_type": "code",
      "metadata": {
        "id": "hok-EeItbSlg",
        "colab_type": "code",
        "outputId": "7045cfa0-106c-4d0b-f791-b8bfc634a64a",
        "colab": {
          "base_uri": "https://localhost:8080/",
          "height": 730
        }
      },
      "source": [
        "plt.figure(figsize=(20,12))\n",
        "plt.plot(total_acc[0],color='Green',label='L1_L2_with_GBN')\n",
        "plt.plot(total_acc[1],color='Red',label='L1_with_GBN')\n",
        "plt.plot(total_acc[2],color='Blue',label='L2_with_GBN')\n",
        "plt.plot(total_acc[3],color='Yellow',label='Without_L1_L2_with_GBN')\n",
        "plt.plot(total_acc[4],c='Black',marker = 's' , ls = '--' , label = 'without_L1_L2_with_BN' )\n",
        "plt.plot(total_acc[6],c='Magenta', marker = 'D' , ls = '-' , label = 'with_L2_with_BN' )\n",
        "plt.plot(total_acc[5],c='Cyan' , marker = 'o' , ls = '-.' , label = 'with_L1_with_BN')\n",
        "plt.plot(total_acc[7],c='Grey' , marker = '1' , ls = '-.' , label = 'with_L1_L2_with_BN')\n",
        "plt.xlabel('Total Epoch ')\n",
        "plt.ylabel(' Accuracy ')\n",
        "plt.legend(loc = 'upper left' , bbox_to_anchor = (1,1))\n",
        "\n",
        "plt.title('Total testing Accuracy vs Epochs')\n",
        "plt.legend()\n",
        "plt.ylabel('Total testing accuracy')\n",
        "plt.xlabel('epochs')\n",
        "plt.show()"
      ],
      "execution_count": 0,
      "outputs": [
        {
          "output_type": "display_data",
          "data": {
            "image/png": "[encoded data removed]",
            "text/plain": [
              "<Figure size 1440x864 with 1 Axes>"
            ]
          },
          "metadata": {
            "tags": [],
            "needs_background": "light"
          }
        }
      ]
    },
    {
      "cell_type": "code",
      "metadata": {
        "id": "jElttU7iCCe3",
        "colab_type": "code",
        "colab": {}
      },
      "source": [
        ""
      ],
      "execution_count": 0,
      "outputs": []
    }
  ]
}