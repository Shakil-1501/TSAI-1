{
  "nbformat": 4,
  "nbformat_minor": 0,
  "metadata": {
    "colab": {
      "name": "S7-Assignment.ipynb",
      "provenance": [],
      "collapsed_sections": [],
      "include_colab_link": true
    },
    "kernelspec": {
      "name": "python3",
      "display_name": "Python 3"
    },
    "accelerator": "GPU"
  },
  "cells": [
    {
      "cell_type": "markdown",
      "metadata": {
        "id": "view-in-github",
        "colab_type": "text"
      },
      "source": [
        "<a href=\"https://colab.research.google.com/github/jagatabhay/TSAI/blob/master/S7/S7_Assignment.ipynb\" target=\"_parent\"><img src=\"https://colab.research.google.com/assets/colab-badge.svg\" alt=\"Open In Colab\"/></a>"
      ]
    },
    {
      "cell_type": "code",
      "metadata": {
        "id": "fgcYrpfAA9U-",
        "colab_type": "code",
        "colab": {
          "base_uri": "https://localhost:8080/",
          "height": 35
        },
        "outputId": "50df0544-63b4-4b48-cf62-321e2e623767"
      },
      "source": [
        "%matplotlib inline\n",
        "import torch\n",
        "import torchvision\n",
        "import torchvision.transforms as transforms\n",
        "use_cuda = torch.cuda.is_available()\n",
        "device = torch.device(\"cuda\" if use_cuda else \"cpu\")\n",
        "print(\"Device : \",device)"
      ],
      "execution_count": 1,
      "outputs": [
        {
          "output_type": "stream",
          "text": [
            "Device :  cuda\n"
          ],
          "name": "stdout"
        }
      ]
    },
    {
      "cell_type": "code",
      "metadata": {
        "id": "HDdE2o1vGUyp",
        "colab_type": "code",
        "outputId": "43100242-fa00-4119-e391-e337b03cbe08",
        "colab": {
          "base_uri": "https://localhost:8080/",
          "height": 54
        }
      },
      "source": [
        "transform = transforms.Compose( [transforms.ToTensor(),\n",
        "                                 transforms.Normalize((0.5, 0.5, 0.5), (0.5, 0.5, 0.5))])\n",
        "\n",
        "train_transform = transforms.Compose( [transforms.RandomHorizontalFlip(p=0.5),\n",
        "                                       transforms.RandomCrop(32, padding=2),\n",
        "                                       transforms.ColorJitter(brightness=0.1, contrast=0.1,saturation=0.1,hue=0.1),\n",
        "                                       #transforms.RandomRotation( degrees = 7 ),\n",
        "                                       transforms.ToTensor(),\n",
        "                                       transforms.Normalize((0.5, 0.5, 0.5), (0.5, 0.5, 0.5))])\n",
        "\n",
        "trainset = torchvision.datasets.CIFAR10(root='./data', \n",
        "                                        train=True,\n",
        "                                        download=True,\n",
        "                                        transform = train_transform)\n",
        "\n",
        "trainloader = torch.utils.data.DataLoader(trainset,\n",
        "                                          batch_size = 4,\n",
        "                                          shuffle=True, \n",
        "                                          num_workers = 2)\n",
        "\n",
        "testset = torchvision.datasets.CIFAR10(root='./data', \n",
        "                                       train=False,\n",
        "                                       download=True, \n",
        "                                       transform=transform)\n",
        "testloader = torch.utils.data.DataLoader(testset,\n",
        "                                         batch_size = 4,\n",
        "                                         shuffle=False,\n",
        "                                         num_workers = 2)\n",
        "\n",
        "classes = ('plane', 'car', 'bird', 'cat','deer', 'dog', 'frog', 'horse', 'ship', 'truck')"
      ],
      "execution_count": 2,
      "outputs": [
        {
          "output_type": "stream",
          "text": [
            "Files already downloaded and verified\n",
            "Files already downloaded and verified\n"
          ],
          "name": "stdout"
        }
      ]
    },
    {
      "cell_type": "code",
      "metadata": {
        "id": "5plE3otuBIeZ",
        "colab_type": "code",
        "outputId": "d69ffc44-e5c4-4916-9299-1930d3559a31",
        "colab": {
          "base_uri": "https://localhost:8080/",
          "height": 156
        }
      },
      "source": [
        "import matplotlib.pyplot as plt\n",
        "import numpy as np\n",
        "\n",
        "# functions to show an image\n",
        "def imshow(img):\n",
        "    img = img / 2 + 0.5     # unnormalize\n",
        "    npimg = img.numpy()\n",
        "    plt.imshow(np.transpose(npimg, (1, 2, 0)))\n",
        "\n",
        "\n",
        "# get some random training images\n",
        "dataiter = iter(trainloader)\n",
        "images, labels = dataiter.next()\n",
        "\n",
        "# show images\n",
        "imshow(torchvision.utils.make_grid(images))\n",
        "# print labels\n",
        "print(' '.join('%5s' % classes[labels[j]] for j in range(4)))"
      ],
      "execution_count": 3,
      "outputs": [
        {
          "output_type": "stream",
          "text": [
            " ship  deer horse  bird\n"
          ],
          "name": "stdout"
        },
        {
          "output_type": "display_data",
          "data": {
            "image/png": "[encoded data removed]",
            "text/plain": [
              "<Figure size 432x288 with 1 Axes>"
            ]
          },
          "metadata": {
            "tags": [],
            "needs_background": "light"
          }
        }
      ]
    },
    {
      "cell_type": "code",
      "metadata": {
        "id": "XZiVLqykBNv7",
        "colab_type": "code",
        "colab": {}
      },
      "source": [
        "import torch.nn as nn\n",
        "import torch.nn.functional as F\n",
        "\n",
        "\n",
        "class Net(nn.Module):\n",
        "    def __init__(self):\n",
        "        super(Net, self).__init__()\n",
        "        #self.conv1 = nn.Conv2d(3, 6, 5)\n",
        "        #self.pool = nn.MaxPool2d(2, 2)\n",
        "        #self.conv2 = nn.Conv2d(6, 16, 5)\n",
        "        #self.fc1 = nn.Linear(16 * 5 * 5, 120)\n",
        "        #self.fc2 = nn.Linear(120, 84)\n",
        "        #self.fc3 = nn.Linear(84, 10)\n",
        "        self.conv1 = nn.Sequential( nn.Conv2d(3,50,3,padding = 2,dilation = 2), \n",
        "                                    nn.ReLU(),\n",
        "                                    nn.BatchNorm2d(50) ,\n",
        "                                    nn.Conv2d(50,100,3,padding = 1),\n",
        "                                    nn.ReLU() ,\n",
        "                                    nn.BatchNorm2d(100),\n",
        "                                    nn.Dropout(0.1) )\n",
        "        self.pool1 = nn.Sequential( nn.MaxPool2d(2,2) )\n",
        "        self.conv2 = nn.Sequential( nn.Conv2d(100,200,3,padding = 1, groups = 100), \n",
        "                                    nn.ReLU() ,\n",
        "                                    nn.BatchNorm2d(200),\n",
        "                                    nn.Dropout(0.1) )\n",
        "        self.pool2 = nn.Sequential( nn.MaxPool2d(2,2) )\n",
        "        self.conv3 = nn.Sequential( nn.Conv2d(200,500,3,padding = 2 ), \n",
        "                                    nn.ReLU(),\n",
        "                                    nn.BatchNorm2d(500) )\n",
        "        self.pool3 = nn.Sequential( nn.MaxPool2d(2,2) )\n",
        "        self.conv4 = nn.Sequential( nn.Conv2d(500,10,3,padding = 1),\n",
        "                                    #nn.ReLU()\n",
        "                                    #nn.BatchNorm2d(10),\n",
        "                                    #nn.Conv2d(256,10,3) \n",
        "                                    )\n",
        "        self.gap = nn.Sequential( nn.AvgPool2d(5) )\n",
        "       #self.gap = nn.Sequential( nn.nn.AvgPool2d(kernel_size = 5) )\n",
        "\n",
        "\n",
        "    def forward(self, x):\n",
        "        #x = self.pool(F.relu(self.conv1(x)))\n",
        "        #x = self.pool(F.relu(self.conv2(x)))\n",
        "        #x = x.view(-1, 16 * 5 * 5)\n",
        "        #x = F.relu(self.fc1(x))\n",
        "        #x = F.relu(self.fc2(x))\n",
        "        #x = self.fc3(x)\n",
        "        x = self.conv1(x)\n",
        "        x = self.pool1(x)\n",
        "        x = self.conv2(x)\n",
        "        x = self.pool2(x)\n",
        "        x = self.conv3(x)\n",
        "        x = self.pool3(x)\n",
        "        x = self.conv4(x)\n",
        "        x = self.gap(x)\n",
        "        x = x.view(-1, 10)\n",
        "        return F.log_softmax(x)\n",
        "\n",
        "\n",
        "net = Net().to(device)"
      ],
      "execution_count": 0,
      "outputs": []
    },
    {
      "cell_type": "code",
      "metadata": {
        "id": "5CHlTRkVT01F",
        "colab_type": "code",
        "outputId": "4474c1e7-0ad0-4795-96b8-b349ca3c6da6",
        "colab": {
          "base_uri": "https://localhost:8080/",
          "height": 665
        }
      },
      "source": [
        "!pip install torchsummary\n",
        "from torchsummary import summary\n",
        "summary(net, input_size=(3, 32, 32))"
      ],
      "execution_count": 5,
      "outputs": [
        {
          "output_type": "stream",
          "text": [
            "Requirement already satisfied: torchsummary in /usr/local/lib/python3.6/dist-packages (1.5.1)\n",
            "----------------------------------------------------------------\n",
            "        Layer (type)               Output Shape         Param #\n",
            "================================================================\n",
            "            Conv2d-1           [-1, 50, 32, 32]           1,400\n",
            "              ReLU-2           [-1, 50, 32, 32]               0\n",
            "       BatchNorm2d-3           [-1, 50, 32, 32]             100\n",
            "            Conv2d-4          [-1, 100, 32, 32]          45,100\n",
            "              ReLU-5          [-1, 100, 32, 32]               0\n",
            "       BatchNorm2d-6          [-1, 100, 32, 32]             200\n",
            "           Dropout-7          [-1, 100, 32, 32]               0\n",
            "         MaxPool2d-8          [-1, 100, 16, 16]               0\n",
            "            Conv2d-9          [-1, 200, 16, 16]           2,000\n",
            "             ReLU-10          [-1, 200, 16, 16]               0\n",
            "      BatchNorm2d-11          [-1, 200, 16, 16]             400\n",
            "          Dropout-12          [-1, 200, 16, 16]               0\n",
            "        MaxPool2d-13            [-1, 200, 8, 8]               0\n",
            "           Conv2d-14          [-1, 500, 10, 10]         900,500\n",
            "             ReLU-15          [-1, 500, 10, 10]               0\n",
            "      BatchNorm2d-16          [-1, 500, 10, 10]           1,000\n",
            "        MaxPool2d-17            [-1, 500, 5, 5]               0\n",
            "           Conv2d-18             [-1, 10, 5, 5]          45,010\n",
            "        AvgPool2d-19             [-1, 10, 1, 1]               0\n",
            "================================================================\n",
            "Total params: 995,710\n",
            "Trainable params: 995,710\n",
            "Non-trainable params: 0\n",
            "----------------------------------------------------------------\n",
            "Input size (MB): 0.01\n",
            "Forward/backward pass size (MB): 7.39\n",
            "Params size (MB): 3.80\n",
            "Estimated Total Size (MB): 11.20\n",
            "----------------------------------------------------------------\n"
          ],
          "name": "stdout"
        },
        {
          "output_type": "stream",
          "text": [
            "/usr/local/lib/python3.6/dist-packages/ipykernel_launcher.py:56: UserWarning: Implicit dimension choice for log_softmax has been deprecated. Change the call to include dim=X as an argument.\n"
          ],
          "name": "stderr"
        }
      ]
    },
    {
      "cell_type": "code",
      "metadata": {
        "id": "bwBjfzYJBRLC",
        "colab_type": "code",
        "colab": {}
      },
      "source": [
        "import torch.optim as optim\n",
        "from torch.optim.lr_scheduler import StepLR\n",
        "criterion = nn.CrossEntropyLoss()\n",
        "optimizer = optim.SGD(net.parameters(), lr=0.001, momentum=0.9 , weight_decay = 0.001 )\n",
        "scheduler= StepLR(optimizer,step_size=5,gamma=0.1)"
      ],
      "execution_count": 0,
      "outputs": []
    },
    {
      "cell_type": "code",
      "metadata": {
        "id": "U2OWzmy_BT0E",
        "colab_type": "code",
        "outputId": "0998889e-a10f-4778-c0ae-68601bf364c0",
        "colab": {
          "base_uri": "https://localhost:8080/",
          "height": 1000
        }
      },
      "source": [
        "for epoch in range(25):  # loop over the dataset multiple times\n",
        "\n",
        "    running_loss = 0.0\n",
        "    for i, data in enumerate(trainloader, 0):\n",
        "        # get the inputs\n",
        "        inputs, labels = data[0].to(device) , data[1].to(device)\n",
        "\n",
        "        # zero the parameter gradients\n",
        "        optimizer.zero_grad()\n",
        "\n",
        "        # forward + backward + optimize\n",
        "        outputs = net(inputs)\n",
        "        loss = criterion(outputs, labels)\n",
        "        loss.backward()\n",
        "        optimizer.step()\n",
        "\n",
        "        # print statistics\n",
        "        running_loss += loss.item()\n",
        "        if i % 2000 == 1999:    # print every 2000 mini-batches\n",
        "            print('[%d, %5d] loss: %.3f' %(epoch + 1, i + 1, running_loss / 2000))\n",
        "            running_loss = 0.0\n",
        "\n",
        "print('Finished Training')"
      ],
      "execution_count": 7,
      "outputs": [
        {
          "output_type": "stream",
          "text": [
            "/usr/local/lib/python3.6/dist-packages/ipykernel_launcher.py:56: UserWarning: Implicit dimension choice for log_softmax has been deprecated. Change the call to include dim=X as an argument.\n"
          ],
          "name": "stderr"
        },
        {
          "output_type": "stream",
          "text": [
            "[1,  2000] loss: 2.179\n",
            "[1,  4000] loss: 1.665\n",
            "[1,  6000] loss: 1.459\n",
            "[1,  8000] loss: 1.345\n",
            "[1, 10000] loss: 1.253\n",
            "[1, 12000] loss: 1.191\n",
            "[2,  2000] loss: 1.135\n",
            "[2,  4000] loss: 1.079\n",
            "[2,  6000] loss: 1.045\n",
            "[2,  8000] loss: 1.030\n",
            "[2, 10000] loss: 0.982\n",
            "[2, 12000] loss: 0.977\n",
            "[3,  2000] loss: 0.930\n",
            "[3,  4000] loss: 0.919\n",
            "[3,  6000] loss: 0.909\n",
            "[3,  8000] loss: 0.894\n",
            "[3, 10000] loss: 0.851\n",
            "[3, 12000] loss: 0.855\n",
            "[4,  2000] loss: 0.844\n",
            "[4,  4000] loss: 0.811\n",
            "[4,  6000] loss: 0.821\n",
            "[4,  8000] loss: 0.830\n",
            "[4, 10000] loss: 0.809\n",
            "[4, 12000] loss: 0.808\n",
            "[5,  2000] loss: 0.789\n",
            "[5,  4000] loss: 0.772\n",
            "[5,  6000] loss: 0.769\n",
            "[5,  8000] loss: 0.762\n",
            "[5, 10000] loss: 0.754\n",
            "[5, 12000] loss: 0.741\n",
            "[6,  2000] loss: 0.730\n",
            "[6,  4000] loss: 0.748\n",
            "[6,  6000] loss: 0.729\n",
            "[6,  8000] loss: 0.734\n",
            "[6, 10000] loss: 0.723\n",
            "[6, 12000] loss: 0.724\n",
            "[7,  2000] loss: 0.718\n",
            "[7,  4000] loss: 0.700\n",
            "[7,  6000] loss: 0.698\n",
            "[7,  8000] loss: 0.707\n",
            "[7, 10000] loss: 0.707\n",
            "[7, 12000] loss: 0.700\n",
            "[8,  2000] loss: 0.677\n",
            "[8,  4000] loss: 0.687\n",
            "[8,  6000] loss: 0.701\n",
            "[8,  8000] loss: 0.679\n",
            "[8, 10000] loss: 0.672\n",
            "[8, 12000] loss: 0.705\n",
            "[9,  2000] loss: 0.650\n",
            "[9,  4000] loss: 0.693\n",
            "[9,  6000] loss: 0.686\n",
            "[9,  8000] loss: 0.656\n",
            "[9, 10000] loss: 0.693\n",
            "[9, 12000] loss: 0.670\n",
            "[10,  2000] loss: 0.643\n",
            "[10,  4000] loss: 0.656\n",
            "[10,  6000] loss: 0.673\n",
            "[10,  8000] loss: 0.657\n",
            "[10, 10000] loss: 0.675\n",
            "[10, 12000] loss: 0.675\n",
            "[11,  2000] loss: 0.660\n",
            "[11,  4000] loss: 0.652\n",
            "[11,  6000] loss: 0.659\n",
            "[11,  8000] loss: 0.661\n",
            "[11, 10000] loss: 0.665\n",
            "[11, 12000] loss: 0.670\n",
            "[12,  2000] loss: 0.648\n",
            "[12,  4000] loss: 0.647\n",
            "[12,  6000] loss: 0.636\n",
            "[12,  8000] loss: 0.628\n",
            "[12, 10000] loss: 0.651\n",
            "[12, 12000] loss: 0.649\n",
            "[13,  2000] loss: 0.597\n",
            "[13,  4000] loss: 0.631\n",
            "[13,  6000] loss: 0.654\n",
            "[13,  8000] loss: 0.650\n",
            "[13, 10000] loss: 0.651\n",
            "[13, 12000] loss: 0.648\n",
            "[14,  2000] loss: 0.621\n",
            "[14,  4000] loss: 0.618\n",
            "[14,  6000] loss: 0.632\n",
            "[14,  8000] loss: 0.638\n",
            "[14, 10000] loss: 0.642\n",
            "[14, 12000] loss: 0.617\n",
            "[15,  2000] loss: 0.632\n",
            "[15,  4000] loss: 0.599\n",
            "[15,  6000] loss: 0.612\n",
            "[15,  8000] loss: 0.641\n",
            "[15, 10000] loss: 0.617\n",
            "[15, 12000] loss: 0.634\n",
            "[16,  2000] loss: 0.601\n",
            "[16,  4000] loss: 0.609\n",
            "[16,  6000] loss: 0.632\n",
            "[16,  8000] loss: 0.637\n",
            "[16, 10000] loss: 0.636\n",
            "[16, 12000] loss: 0.644\n",
            "[17,  2000] loss: 0.622\n",
            "[17,  4000] loss: 0.617\n",
            "[17,  6000] loss: 0.622\n",
            "[17,  8000] loss: 0.632\n",
            "[17, 10000] loss: 0.611\n",
            "[17, 12000] loss: 0.641\n",
            "[18,  2000] loss: 0.615\n",
            "[18,  4000] loss: 0.625\n",
            "[18,  6000] loss: 0.613\n",
            "[18,  8000] loss: 0.618\n",
            "[18, 10000] loss: 0.629\n",
            "[18, 12000] loss: 0.638\n",
            "[19,  2000] loss: 0.609\n",
            "[19,  4000] loss: 0.613\n",
            "[19,  6000] loss: 0.616\n",
            "[19,  8000] loss: 0.609\n",
            "[19, 10000] loss: 0.626\n",
            "[19, 12000] loss: 0.610\n",
            "[20,  2000] loss: 0.622\n",
            "[20,  4000] loss: 0.611\n",
            "[20,  6000] loss: 0.621\n",
            "[20,  8000] loss: 0.617\n",
            "[20, 10000] loss: 0.610\n",
            "[20, 12000] loss: 0.626\n",
            "[21,  2000] loss: 0.611\n",
            "[21,  4000] loss: 0.601\n",
            "[21,  6000] loss: 0.595\n",
            "[21,  8000] loss: 0.623\n",
            "[21, 10000] loss: 0.601\n",
            "[21, 12000] loss: 0.613\n",
            "[22,  2000] loss: 0.591\n",
            "[22,  4000] loss: 0.600\n",
            "[22,  6000] loss: 0.595\n",
            "[22,  8000] loss: 0.636\n",
            "[22, 10000] loss: 0.612\n",
            "[22, 12000] loss: 0.621\n",
            "[23,  2000] loss: 0.600\n",
            "[23,  4000] loss: 0.602\n",
            "[23,  6000] loss: 0.610\n",
            "[23,  8000] loss: 0.594\n",
            "[23, 10000] loss: 0.605\n",
            "[23, 12000] loss: 0.605\n",
            "[24,  2000] loss: 0.587\n",
            "[24,  4000] loss: 0.586\n",
            "[24,  6000] loss: 0.590\n",
            "[24,  8000] loss: 0.614\n",
            "[24, 10000] loss: 0.583\n",
            "[24, 12000] loss: 0.621\n",
            "[25,  2000] loss: 0.572\n",
            "[25,  4000] loss: 0.596\n",
            "[25,  6000] loss: 0.599\n",
            "[25,  8000] loss: 0.604\n",
            "[25, 10000] loss: 0.592\n",
            "[25, 12000] loss: 0.610\n",
            "Finished Training\n"
          ],
          "name": "stdout"
        }
      ]
    },
    {
      "cell_type": "code",
      "metadata": {
        "id": "9sERKz8oBXBr",
        "colab_type": "code",
        "colab": {
          "base_uri": "https://localhost:8080/",
          "height": 156
        },
        "outputId": "d0bc77d1-ddd9-4c62-c8a4-658f5f4c651e"
      },
      "source": [
        "dataiter = iter(testloader)\n",
        "images, labels = dataiter.next()\n",
        "\n",
        "\n",
        "# print images\n",
        "imshow(torchvision.utils.make_grid(images))\n",
        "print('GroundTruth: ', ' '.join('%5s' % classes[labels[j]] for j in range(4)))"
      ],
      "execution_count": 8,
      "outputs": [
        {
          "output_type": "stream",
          "text": [
            "GroundTruth:    cat  ship  ship plane\n"
          ],
          "name": "stdout"
        },
        {
          "output_type": "display_data",
          "data": {
            "image/png": "[encoded data removed]",
            "text/plain": [
              "<Figure size 432x288 with 1 Axes>"
            ]
          },
          "metadata": {
            "tags": [],
            "needs_background": "light"
          }
        }
      ]
    },
    {
      "cell_type": "code",
      "metadata": {
        "id": "ltzY43-sBZOF",
        "colab_type": "code",
        "colab": {
          "base_uri": "https://localhost:8080/",
          "height": 35
        },
        "outputId": "7babd854-0c4c-47a4-965a-ae4161510c10"
      },
      "source": [
        "'''outputs = net(images)'''"
      ],
      "execution_count": 9,
      "outputs": [
        {
          "output_type": "execute_result",
          "data": {
            "text/plain": [
              "'outputs = net(images)'"
            ]
          },
          "metadata": {
            "tags": []
          },
          "execution_count": 9
        }
      ]
    },
    {
      "cell_type": "code",
      "metadata": {
        "id": "8HGX3AvlBbn7",
        "colab_type": "code",
        "colab": {
          "base_uri": "https://localhost:8080/",
          "height": 35
        },
        "outputId": "98b582bf-92a1-4e19-820e-1e58bcbb7a92"
      },
      "source": [
        "'''_, predicted = torch.max(outputs, 1)\n",
        "\n",
        "print('Predicted: ', ' '.join('%5s' % classes[predicted[j]]\n",
        "                              for j in range(4)))'''"
      ],
      "execution_count": 10,
      "outputs": [
        {
          "output_type": "execute_result",
          "data": {
            "text/plain": [
              "\"_, predicted = torch.max(outputs, 1)\\n\\nprint('Predicted: ', ' '.join('%5s' % classes[predicted[j]]\\n                              for j in range(4)))\""
            ]
          },
          "metadata": {
            "tags": []
          },
          "execution_count": 10
        }
      ]
    },
    {
      "cell_type": "code",
      "metadata": {
        "id": "5KWx5pr4Bd9Z",
        "colab_type": "code",
        "colab": {
          "base_uri": "https://localhost:8080/",
          "height": 74
        },
        "outputId": "e5d31c9b-8dab-4685-9027-79b0ce3e6055"
      },
      "source": [
        "correct = 0\n",
        "total = 0\n",
        "with torch.no_grad():\n",
        "    for data in testloader:\n",
        "        images, labels = data[0].to(device) , data[1].to(device)\n",
        "        outputs = net(images)\n",
        "        _, predicted = torch.max(outputs.data, 1)\n",
        "        total += labels.size(0)\n",
        "        correct += (predicted == labels).sum().item()\n",
        "\n",
        "print('Accuracy of the network on the 10000 test images: %d %%' % (100 * correct / total))"
      ],
      "execution_count": 11,
      "outputs": [
        {
          "output_type": "stream",
          "text": [
            "/usr/local/lib/python3.6/dist-packages/ipykernel_launcher.py:56: UserWarning: Implicit dimension choice for log_softmax has been deprecated. Change the call to include dim=X as an argument.\n"
          ],
          "name": "stderr"
        },
        {
          "output_type": "stream",
          "text": [
            "Accuracy of the network on the 10000 test images: 78 %\n"
          ],
          "name": "stdout"
        }
      ]
    },
    {
      "cell_type": "code",
      "metadata": {
        "id": "ic2iHj0fBsVw",
        "colab_type": "code",
        "colab": {
          "base_uri": "https://localhost:8080/",
          "height": 240
        },
        "outputId": "aa467d45-8f9a-48a6-ddb9-c44874389256"
      },
      "source": [
        "class_correct = list(0. for i in range(10))\n",
        "class_total = list(0. for i in range(10))\n",
        "with torch.no_grad():\n",
        "    for data in testloader:\n",
        "        images, labels = data[0].to(device) , data[1].to(device)\n",
        "        outputs = net(images)\n",
        "        _, predicted = torch.max(outputs, 1)\n",
        "        c = (predicted == labels).squeeze()\n",
        "        for i in range(4):\n",
        "            label = labels[i]\n",
        "            class_correct[label] += c[i].item()\n",
        "            class_total[label] += 1\n",
        "\n",
        "\n",
        "for i in range(10):\n",
        "    print('Accuracy of %5s : %2d %%' % (\n",
        "        classes[i], 100 * class_correct[i] / class_total[i]))"
      ],
      "execution_count": 12,
      "outputs": [
        {
          "output_type": "stream",
          "text": [
            "/usr/local/lib/python3.6/dist-packages/ipykernel_launcher.py:56: UserWarning: Implicit dimension choice for log_softmax has been deprecated. Change the call to include dim=X as an argument.\n"
          ],
          "name": "stderr"
        },
        {
          "output_type": "stream",
          "text": [
            "Accuracy of plane : 79 %\n",
            "Accuracy of   car : 88 %\n",
            "Accuracy of  bird : 66 %\n",
            "Accuracy of   cat : 53 %\n",
            "Accuracy of  deer : 80 %\n",
            "Accuracy of   dog : 81 %\n",
            "Accuracy of  frog : 82 %\n",
            "Accuracy of horse : 82 %\n",
            "Accuracy of  ship : 79 %\n",
            "Accuracy of truck : 92 %\n"
          ],
          "name": "stdout"
        }
      ]
    }
  ]
}