{
  "nbformat": 4,
  "nbformat_minor": 0,
  "metadata": {
    "colab": {
      "name": "S7-Assignment.ipynb",
      "provenance": [],
      "collapsed_sections": [],
      "include_colab_link": true
    },
    "kernelspec": {
      "name": "python3",
      "display_name": "Python 3"
    },
    "accelerator": "GPU"
  },
  "cells": [
    {
      "cell_type": "markdown",
      "metadata": {
        "id": "view-in-github",
        "colab_type": "text"
      },
      "source": [
        "<a href=\"https://colab.research.google.com/github/jagatabhay/TSAI/blob/master/S7/S7_Assignment.ipynb\" target=\"_parent\"><img src=\"https://colab.research.google.com/assets/colab-badge.svg\" alt=\"Open In Colab\"/></a>"
      ]
    },
    {
      "cell_type": "code",
      "metadata": {
        "id": "fgcYrpfAA9U-",
        "colab_type": "code",
        "outputId": "634b56f8-efb0-454e-cc39-5394f213e7df",
        "colab": {
          "base_uri": "https://localhost:8080/",
          "height": 35
        }
      },
      "source": [
        "%matplotlib inline\n",
        "import torch\n",
        "import torchvision\n",
        "import torchvision.transforms as transforms\n",
        "use_cuda = torch.cuda.is_available()\n",
        "device = torch.device(\"cuda\" if use_cuda else \"cpu\")\n",
        "print(\"Device : \",device)"
      ],
      "execution_count": 1,
      "outputs": [
        {
          "output_type": "stream",
          "text": [
            "Device :  cuda\n"
          ],
          "name": "stdout"
        }
      ]
    },
    {
      "cell_type": "markdown",
      "metadata": {
        "id": "4GTB082_TaCH",
        "colab_type": "text"
      },
      "source": [
        "**---------DataSet Pre-processing------------------**"
      ]
    },
    {
      "cell_type": "code",
      "metadata": {
        "id": "HDdE2o1vGUyp",
        "colab_type": "code",
        "outputId": "573d98ea-84e4-467c-837e-f1ced5400ff5",
        "colab": {
          "base_uri": "https://localhost:8080/",
          "height": 54
        }
      },
      "source": [
        "transform = transforms.Compose( [transforms.ToTensor(),\n",
        "                                 transforms.Normalize((0.5, 0.5, 0.5), (0.5, 0.5, 0.5))])\n",
        "\n",
        "train_transform = transforms.Compose( [transforms.RandomHorizontalFlip(p=0.5),\n",
        "                                       transforms.RandomCrop(32, padding=2),\n",
        "                                       transforms.ColorJitter(brightness=0.1, contrast=0.1,saturation=0.1,hue=0.1),\n",
        "                                       #transforms.RandomRotation( degrees = 7 ),\n",
        "                                       transforms.ToTensor(),\n",
        "                                       transforms.Normalize((0.5, 0.5, 0.5), (0.5, 0.5, 0.5))])\n",
        "\n",
        "trainset = torchvision.datasets.CIFAR10(root='./data', \n",
        "                                        train=True,\n",
        "                                        download=True,\n",
        "                                        transform = train_transform)\n",
        "\n",
        "trainloader = torch.utils.data.DataLoader(trainset,\n",
        "                                          batch_size = 4,\n",
        "                                          shuffle=True, \n",
        "                                          num_workers = 4)\n",
        "\n",
        "testset = torchvision.datasets.CIFAR10(root='./data', \n",
        "                                       train=False,\n",
        "                                       download=True, \n",
        "                                       transform=transform)\n",
        "testloader = torch.utils.data.DataLoader(testset,\n",
        "                                         batch_size = 4,\n",
        "                                         shuffle=False,\n",
        "                                         num_workers = 4)\n",
        "\n",
        "classes = ('plane', 'car', 'bird', 'cat','deer', 'dog', 'frog', 'horse', 'ship', 'truck')"
      ],
      "execution_count": 2,
      "outputs": [
        {
          "output_type": "stream",
          "text": [
            "Files already downloaded and verified\n",
            "Files already downloaded and verified\n"
          ],
          "name": "stdout"
        }
      ]
    },
    {
      "cell_type": "code",
      "metadata": {
        "id": "5plE3otuBIeZ",
        "colab_type": "code",
        "outputId": "bfe1dd4c-41cf-4115-daa7-f02bae5dafa9",
        "colab": {
          "base_uri": "https://localhost:8080/",
          "height": 156
        }
      },
      "source": [
        "import matplotlib.pyplot as plt\n",
        "import numpy as np\n",
        "\n",
        "# functions to show an image\n",
        "def imshow(img):\n",
        "    img = img / 2 + 0.5     # unnormalize\n",
        "    npimg = img.numpy()\n",
        "    plt.imshow(np.transpose(npimg, (1, 2, 0)))\n",
        "\n",
        "\n",
        "# get some random training images\n",
        "dataiter = iter(trainloader)\n",
        "images, labels = dataiter.next()\n",
        "\n",
        "# show images\n",
        "imshow(torchvision.utils.make_grid(images))\n",
        "# print labels\n",
        "print(' '.join('%5s' % classes[labels[j]] for j in range(4)))"
      ],
      "execution_count": 3,
      "outputs": [
        {
          "output_type": "stream",
          "text": [
            "  car plane   dog   cat\n"
          ],
          "name": "stdout"
        },
        {
          "output_type": "display_data",
          "data": {
            "image/png": "[encoded data removed]",
            "text/plain": [
              "<Figure size 432x288 with 1 Axes>"
            ]
          },
          "metadata": {
            "tags": [],
            "needs_background": "light"
          }
        }
      ]
    },
    {
      "cell_type": "markdown",
      "metadata": {
        "id": "HP4BkpRfRA92",
        "colab_type": "text"
      },
      "source": [
        "**------------------Neural Network Model Defination---------------------- **"
      ]
    },
    {
      "cell_type": "code",
      "metadata": {
        "id": "XZiVLqykBNv7",
        "colab_type": "code",
        "colab": {}
      },
      "source": [
        "import torch.nn as nn\n",
        "import torch.nn.functional as F\n",
        "\n",
        "\n",
        "class Net(nn.Module):\n",
        "    def __init__(self):\n",
        "        super(Net, self).__init__()\n",
        "        #self.conv1 = nn.Conv2d(3, 6, 5)\n",
        "        #self.pool = nn.MaxPool2d(2, 2)\n",
        "        #self.conv2 = nn.Conv2d(6, 16, 5)\n",
        "        #self.fc1 = nn.Linear(16 * 5 * 5, 120)\n",
        "        #self.fc2 = nn.Linear(120, 84)\n",
        "        #self.fc3 = nn.Linear(84, 10)\n",
        "        self.conv1 = nn.Sequential( nn.Conv2d(3,50,3,padding = 2), \n",
        "                                    nn.ReLU(),\n",
        "                                    nn.BatchNorm2d(50) ,\n",
        "                                    nn.Conv2d(50,100,3,padding = 1,groups = 50),\n",
        "                                    nn.ReLU() ,\n",
        "                                    nn.BatchNorm2d(100),\n",
        "                                    nn.Dropout(0.1) ) # Receptive Field = 6 , Output Resolution = 32*32*100\n",
        "        self.pool1 = nn.Sequential( nn.MaxPool2d(2,2) ) # Receptive Field = 7 Output Resolution = 16*16*100\n",
        "        self.conv2 = nn.Sequential( nn.Conv2d(100,200,3,padding = 1 ,dilation = 2), \n",
        "                                    nn.ReLU() ,\n",
        "                                    nn.BatchNorm2d(200),\n",
        "                                    nn.Dropout(0.1) ) # Receptive Field = 11 , Output Resolution = 16*16*200\n",
        "        self.pool2 = nn.Sequential( nn.MaxPool2d(2,2) ) # Receptve Field = 13 , Output Resolution = 8*8*200\n",
        "        self.conv3 = nn.Sequential( nn.Conv2d(200,400,3,padding = 2 ), \n",
        "                                    nn.ReLU(),\n",
        "                                    nn.BatchNorm2d(400) ) #Receptive Field = 21 , Output Resolution = 10*10*500\n",
        "        self.pool3 = nn.Sequential( nn.MaxPool2d(2,2) ) # Receptive Field = 25\n",
        "        self.conv4 = nn.Sequential( nn.Conv2d(400,10,3,padding = 1),\n",
        "                                    #nn.ReLU()\n",
        "                                    #nn.BatchNorm2d(10),\n",
        "                                    #nn.Conv2d(256,10,3) \n",
        "                                    ) # Receptive Feild = 41 , Output Resolution = 5*5*10\n",
        "        self.gap = nn.Sequential( nn.AvgPool2d(4) ) #Receptive Field = 73\n",
        "       #self.gap = nn.Sequential( nn.nn.AvgPool2d(kernel_size = 5) )\n",
        "\n",
        "\n",
        "    def forward(self, x):\n",
        "        #x = self.pool(F.relu(self.conv1(x)))\n",
        "        #x = self.pool(F.relu(self.conv2(x)))\n",
        "        #x = x.view(-1, 16 * 5 * 5)\n",
        "        #x = F.relu(self.fc1(x))\n",
        "        #x = F.relu(self.fc2(x))\n",
        "        #x = self.fc3(x)\n",
        "        x = self.conv1(x)\n",
        "        x = self.pool1(x)\n",
        "        x = self.conv2(x)\n",
        "        x = self.pool2(x)\n",
        "        x = self.conv3(x)\n",
        "        x = self.pool3(x)\n",
        "        x = self.conv4(x)\n",
        "        x = self.gap(x)\n",
        "        x = x.view(-1, 10)\n",
        "        return F.log_softmax(x)\n",
        "\n",
        "\n",
        "net = Net().to(device)"
      ],
      "execution_count": 0,
      "outputs": []
    },
    {
      "cell_type": "markdown",
      "metadata": {
        "id": "42RHquuISdBX",
        "colab_type": "text"
      },
      "source": [
        "**-------------------------------Model View-----------------------------**"
      ]
    },
    {
      "cell_type": "code",
      "metadata": {
        "id": "5CHlTRkVT01F",
        "colab_type": "code",
        "outputId": "ec911b65-a0f4-4c25-ea04-71692c4e09e0",
        "colab": {
          "base_uri": "https://localhost:8080/",
          "height": 665
        }
      },
      "source": [
        "!pip install torchsummary\n",
        "from torchsummary import summary\n",
        "summary(net, input_size=(3, 32, 32))"
      ],
      "execution_count": 5,
      "outputs": [
        {
          "output_type": "stream",
          "text": [
            "Requirement already satisfied: torchsummary in /usr/local/lib/python3.6/dist-packages (1.5.1)\n",
            "----------------------------------------------------------------\n",
            "        Layer (type)               Output Shape         Param #\n",
            "================================================================\n",
            "            Conv2d-1           [-1, 50, 34, 34]           1,400\n",
            "              ReLU-2           [-1, 50, 34, 34]               0\n",
            "       BatchNorm2d-3           [-1, 50, 34, 34]             100\n",
            "            Conv2d-4          [-1, 100, 34, 34]           1,000\n",
            "              ReLU-5          [-1, 100, 34, 34]               0\n",
            "       BatchNorm2d-6          [-1, 100, 34, 34]             200\n",
            "           Dropout-7          [-1, 100, 34, 34]               0\n",
            "         MaxPool2d-8          [-1, 100, 17, 17]               0\n",
            "            Conv2d-9          [-1, 200, 15, 15]         180,200\n",
            "             ReLU-10          [-1, 200, 15, 15]               0\n",
            "      BatchNorm2d-11          [-1, 200, 15, 15]             400\n",
            "          Dropout-12          [-1, 200, 15, 15]               0\n",
            "        MaxPool2d-13            [-1, 200, 7, 7]               0\n",
            "           Conv2d-14            [-1, 400, 9, 9]         720,400\n",
            "             ReLU-15            [-1, 400, 9, 9]               0\n",
            "      BatchNorm2d-16            [-1, 400, 9, 9]             800\n",
            "        MaxPool2d-17            [-1, 400, 4, 4]               0\n",
            "           Conv2d-18             [-1, 10, 4, 4]          36,010\n",
            "        AvgPool2d-19             [-1, 10, 1, 1]               0\n",
            "================================================================\n",
            "Total params: 940,510\n",
            "Trainable params: 940,510\n",
            "Non-trainable params: 0\n",
            "----------------------------------------------------------------\n",
            "Input size (MB): 0.01\n",
            "Forward/backward pass size (MB): 7.31\n",
            "Params size (MB): 3.59\n",
            "Estimated Total Size (MB): 10.91\n",
            "----------------------------------------------------------------\n"
          ],
          "name": "stdout"
        },
        {
          "output_type": "stream",
          "text": [
            "/usr/local/lib/python3.6/dist-packages/ipykernel_launcher.py:56: UserWarning: Implicit dimension choice for log_softmax has been deprecated. Change the call to include dim=X as an argument.\n"
          ],
          "name": "stderr"
        }
      ]
    },
    {
      "cell_type": "code",
      "metadata": {
        "id": "bwBjfzYJBRLC",
        "colab_type": "code",
        "colab": {}
      },
      "source": [
        "import torch.optim as optim\n",
        "from torch.optim.lr_scheduler import StepLR\n",
        "criterion = nn.CrossEntropyLoss()\n",
        "optimizer = optim.SGD(net.parameters(), lr=0.001, momentum=0.9 , weight_decay = 0.001 )\n",
        "scheduler= StepLR(optimizer,step_size=5,gamma=0.1)"
      ],
      "execution_count": 0,
      "outputs": []
    },
    {
      "cell_type": "markdown",
      "metadata": {
        "id": "027_yKUQSOhj",
        "colab_type": "text"
      },
      "source": [
        "***----------------------------Model Training------------------------------***"
      ]
    },
    {
      "cell_type": "code",
      "metadata": {
        "id": "U2OWzmy_BT0E",
        "colab_type": "code",
        "outputId": "e1842bdd-4d3e-4ee8-d233-b7bc03de59d4",
        "colab": {
          "base_uri": "https://localhost:8080/",
          "height": 1000
        }
      },
      "source": [
        "for epoch in range(25):  # loop over the dataset multiple times\n",
        "\n",
        "    running_loss = 0.0\n",
        "    for i, data in enumerate(trainloader, 0):\n",
        "        # get the inputs\n",
        "        inputs, labels = data[0].to(device) , data[1].to(device)\n",
        "\n",
        "        # zero the parameter gradients\n",
        "        optimizer.zero_grad()\n",
        "\n",
        "        # forward + backward + optimize\n",
        "        outputs = net(inputs)\n",
        "        loss = criterion(outputs, labels)\n",
        "        loss.backward()\n",
        "        optimizer.step()\n",
        "\n",
        "        # print statistics\n",
        "        running_loss += loss.item()\n",
        "        if i % 2000 == 1999:    # print every 2000 mini-batches\n",
        "            print('[%d, %5d] loss: %.3f' %(epoch + 1, i + 1, running_loss / 2000))\n",
        "            running_loss = 0.0\n",
        "\n",
        "print('Finished Training')"
      ],
      "execution_count": 7,
      "outputs": [
        {
          "output_type": "stream",
          "text": [
            "/usr/local/lib/python3.6/dist-packages/ipykernel_launcher.py:56: UserWarning: Implicit dimension choice for log_softmax has been deprecated. Change the call to include dim=X as an argument.\n"
          ],
          "name": "stderr"
        },
        {
          "output_type": "stream",
          "text": [
            "[1,  2000] loss: 1.841\n",
            "[1,  4000] loss: 1.430\n",
            "[1,  6000] loss: 1.280\n",
            "[1,  8000] loss: 1.137\n",
            "[1, 10000] loss: 1.062\n",
            "[1, 12000] loss: 0.972\n",
            "[2,  2000] loss: 0.911\n",
            "[2,  4000] loss: 0.884\n",
            "[2,  6000] loss: 0.866\n",
            "[2,  8000] loss: 0.847\n",
            "[2, 10000] loss: 0.806\n",
            "[2, 12000] loss: 0.812\n",
            "[3,  2000] loss: 0.765\n",
            "[3,  4000] loss: 0.739\n",
            "[3,  6000] loss: 0.738\n",
            "[3,  8000] loss: 0.736\n",
            "[3, 10000] loss: 0.723\n",
            "[3, 12000] loss: 0.709\n",
            "[4,  2000] loss: 0.678\n",
            "[4,  4000] loss: 0.680\n",
            "[4,  6000] loss: 0.665\n",
            "[4,  8000] loss: 0.660\n",
            "[4, 10000] loss: 0.667\n",
            "[4, 12000] loss: 0.658\n",
            "[5,  2000] loss: 0.613\n",
            "[5,  4000] loss: 0.626\n",
            "[5,  6000] loss: 0.614\n",
            "[5,  8000] loss: 0.631\n",
            "[5, 10000] loss: 0.622\n",
            "[5, 12000] loss: 0.648\n",
            "[6,  2000] loss: 0.576\n",
            "[6,  4000] loss: 0.589\n",
            "[6,  6000] loss: 0.604\n",
            "[6,  8000] loss: 0.587\n",
            "[6, 10000] loss: 0.597\n",
            "[6, 12000] loss: 0.594\n",
            "[7,  2000] loss: 0.581\n",
            "[7,  4000] loss: 0.556\n",
            "[7,  6000] loss: 0.571\n",
            "[7,  8000] loss: 0.568\n",
            "[7, 10000] loss: 0.591\n",
            "[7, 12000] loss: 0.577\n",
            "[8,  2000] loss: 0.542\n",
            "[8,  4000] loss: 0.566\n",
            "[8,  6000] loss: 0.566\n",
            "[8,  8000] loss: 0.565\n",
            "[8, 10000] loss: 0.555\n",
            "[8, 12000] loss: 0.572\n",
            "[9,  2000] loss: 0.541\n",
            "[9,  4000] loss: 0.529\n",
            "[9,  6000] loss: 0.549\n",
            "[9,  8000] loss: 0.552\n",
            "[9, 10000] loss: 0.549\n",
            "[9, 12000] loss: 0.559\n",
            "[10,  2000] loss: 0.507\n",
            "[10,  4000] loss: 0.548\n",
            "[10,  6000] loss: 0.556\n",
            "[10,  8000] loss: 0.515\n",
            "[10, 10000] loss: 0.534\n",
            "[10, 12000] loss: 0.531\n",
            "[11,  2000] loss: 0.528\n",
            "[11,  4000] loss: 0.511\n",
            "[11,  6000] loss: 0.523\n",
            "[11,  8000] loss: 0.538\n",
            "[11, 10000] loss: 0.542\n",
            "[11, 12000] loss: 0.544\n",
            "[12,  2000] loss: 0.513\n",
            "[12,  4000] loss: 0.518\n",
            "[12,  6000] loss: 0.511\n",
            "[12,  8000] loss: 0.540\n",
            "[12, 10000] loss: 0.526\n",
            "[12, 12000] loss: 0.531\n",
            "[13,  2000] loss: 0.486\n",
            "[13,  4000] loss: 0.507\n",
            "[13,  6000] loss: 0.526\n",
            "[13,  8000] loss: 0.525\n",
            "[13, 10000] loss: 0.514\n",
            "[13, 12000] loss: 0.537\n",
            "[14,  2000] loss: 0.493\n",
            "[14,  4000] loss: 0.510\n",
            "[14,  6000] loss: 0.530\n",
            "[14,  8000] loss: 0.497\n",
            "[14, 10000] loss: 0.532\n",
            "[14, 12000] loss: 0.529\n",
            "[15,  2000] loss: 0.503\n",
            "[15,  4000] loss: 0.505\n",
            "[15,  6000] loss: 0.503\n",
            "[15,  8000] loss: 0.500\n",
            "[15, 10000] loss: 0.524\n",
            "[15, 12000] loss: 0.506\n",
            "[16,  2000] loss: 0.493\n",
            "[16,  4000] loss: 0.478\n",
            "[16,  6000] loss: 0.508\n",
            "[16,  8000] loss: 0.507\n",
            "[16, 10000] loss: 0.512\n",
            "[16, 12000] loss: 0.499\n",
            "[17,  2000] loss: 0.471\n",
            "[17,  4000] loss: 0.483\n",
            "[17,  6000] loss: 0.497\n",
            "[17,  8000] loss: 0.502\n",
            "[17, 10000] loss: 0.520\n",
            "[17, 12000] loss: 0.501\n",
            "[18,  2000] loss: 0.462\n",
            "[18,  4000] loss: 0.486\n",
            "[18,  6000] loss: 0.488\n",
            "[18,  8000] loss: 0.503\n",
            "[18, 10000] loss: 0.496\n",
            "[18, 12000] loss: 0.512\n",
            "[19,  2000] loss: 0.483\n",
            "[19,  4000] loss: 0.494\n",
            "[19,  6000] loss: 0.499\n",
            "[19,  8000] loss: 0.489\n",
            "[19, 10000] loss: 0.482\n",
            "[19, 12000] loss: 0.529\n",
            "[20,  2000] loss: 0.470\n",
            "[20,  4000] loss: 0.476\n",
            "[20,  6000] loss: 0.484\n",
            "[20,  8000] loss: 0.493\n",
            "[20, 10000] loss: 0.479\n",
            "[20, 12000] loss: 0.494\n",
            "[21,  2000] loss: 0.457\n",
            "[21,  4000] loss: 0.507\n",
            "[21,  6000] loss: 0.495\n",
            "[21,  8000] loss: 0.484\n",
            "[21, 10000] loss: 0.480\n",
            "[21, 12000] loss: 0.503\n",
            "[22,  2000] loss: 0.463\n",
            "[22,  4000] loss: 0.484\n",
            "[22,  6000] loss: 0.489\n",
            "[22,  8000] loss: 0.500\n",
            "[22, 10000] loss: 0.491\n",
            "[22, 12000] loss: 0.499\n",
            "[23,  2000] loss: 0.505\n",
            "[23,  4000] loss: 0.465\n",
            "[23,  6000] loss: 0.482\n",
            "[23,  8000] loss: 0.499\n",
            "[23, 10000] loss: 0.487\n",
            "[23, 12000] loss: 0.495\n",
            "[24,  2000] loss: 0.467\n",
            "[24,  4000] loss: 0.473\n",
            "[24,  6000] loss: 0.475\n",
            "[24,  8000] loss: 0.486\n",
            "[24, 10000] loss: 0.497\n",
            "[24, 12000] loss: 0.484\n",
            "[25,  2000] loss: 0.436\n",
            "[25,  4000] loss: 0.470\n",
            "[25,  6000] loss: 0.473\n",
            "[25,  8000] loss: 0.487\n",
            "[25, 10000] loss: 0.474\n",
            "[25, 12000] loss: 0.486\n",
            "Finished Training\n"
          ],
          "name": "stdout"
        }
      ]
    },
    {
      "cell_type": "code",
      "metadata": {
        "id": "9sERKz8oBXBr",
        "colab_type": "code",
        "outputId": "5d888289-42c4-4d3b-fb9a-714376a4ff04",
        "colab": {
          "base_uri": "https://localhost:8080/",
          "height": 156
        }
      },
      "source": [
        "dataiter = iter(testloader)\n",
        "images, labels = dataiter.next()\n",
        "\n",
        "\n",
        "# print images\n",
        "imshow(torchvision.utils.make_grid(images))\n",
        "print('GroundTruth: ', ' '.join('%5s' % classes[labels[j]] for j in range(4)))"
      ],
      "execution_count": 8,
      "outputs": [
        {
          "output_type": "stream",
          "text": [
            "GroundTruth:    cat  ship  ship plane\n"
          ],
          "name": "stdout"
        },
        {
          "output_type": "display_data",
          "data": {
            "image/png": "[encoded data removed]",
            "text/plain": [
              "<Figure size 432x288 with 1 Axes>"
            ]
          },
          "metadata": {
            "tags": [],
            "needs_background": "light"
          }
        }
      ]
    },
    {
      "cell_type": "code",
      "metadata": {
        "id": "ltzY43-sBZOF",
        "colab_type": "code",
        "outputId": "1a1077bd-5d1a-42ec-a80b-d9c79a7edfdb",
        "colab": {
          "base_uri": "https://localhost:8080/",
          "height": 35
        }
      },
      "source": [
        "'''outputs = net(images)'''"
      ],
      "execution_count": 9,
      "outputs": [
        {
          "output_type": "execute_result",
          "data": {
            "text/plain": [
              "'outputs = net(images)'"
            ]
          },
          "metadata": {
            "tags": []
          },
          "execution_count": 9
        }
      ]
    },
    {
      "cell_type": "code",
      "metadata": {
        "id": "8HGX3AvlBbn7",
        "colab_type": "code",
        "outputId": "acb643aa-bee7-4426-a5a8-b3f622a8da56",
        "colab": {
          "base_uri": "https://localhost:8080/",
          "height": 35
        }
      },
      "source": [
        "'''_, predicted = torch.max(outputs, 1)\n",
        "\n",
        "print('Predicted: ', ' '.join('%5s' % classes[predicted[j]]\n",
        "                              for j in range(4)))'''"
      ],
      "execution_count": 10,
      "outputs": [
        {
          "output_type": "execute_result",
          "data": {
            "text/plain": [
              "\"_, predicted = torch.max(outputs, 1)\\n\\nprint('Predicted: ', ' '.join('%5s' % classes[predicted[j]]\\n                              for j in range(4)))\""
            ]
          },
          "metadata": {
            "tags": []
          },
          "execution_count": 10
        }
      ]
    },
    {
      "cell_type": "markdown",
      "metadata": {
        "id": "TcNEra0WSEuL",
        "colab_type": "text"
      },
      "source": [
        "**----------------Model Evalution---------------------------**"
      ]
    },
    {
      "cell_type": "code",
      "metadata": {
        "id": "5KWx5pr4Bd9Z",
        "colab_type": "code",
        "outputId": "968a82c9-7dc1-4274-e491-20cc86ce1079",
        "colab": {
          "base_uri": "https://localhost:8080/",
          "height": 74
        }
      },
      "source": [
        "correct = 0\n",
        "total = 0\n",
        "with torch.no_grad():\n",
        "    for data in testloader:\n",
        "        images, labels = data[0].to(device) , data[1].to(device)\n",
        "        outputs = net(images)\n",
        "        _, predicted = torch.max(outputs.data, 1)\n",
        "        total += labels.size(0)\n",
        "        correct += (predicted == labels).sum().item()\n",
        "\n",
        "print('Accuracy of the network on the 10000 test images: %d %%' % (100 * correct / total))"
      ],
      "execution_count": 11,
      "outputs": [
        {
          "output_type": "stream",
          "text": [
            "/usr/local/lib/python3.6/dist-packages/ipykernel_launcher.py:56: UserWarning: Implicit dimension choice for log_softmax has been deprecated. Change the call to include dim=X as an argument.\n"
          ],
          "name": "stderr"
        },
        {
          "output_type": "stream",
          "text": [
            "Accuracy of the network on the 10000 test images: 82 %\n"
          ],
          "name": "stdout"
        }
      ]
    },
    {
      "cell_type": "markdown",
      "metadata": {
        "id": "CbWw82jgSpjs",
        "colab_type": "text"
      },
      "source": [
        "**------------------------Model Class Wise Evaluation-----------------**"
      ]
    },
    {
      "cell_type": "code",
      "metadata": {
        "id": "ic2iHj0fBsVw",
        "colab_type": "code",
        "outputId": "c23df600-809c-4245-90bc-49b32a9ac07a",
        "colab": {
          "base_uri": "https://localhost:8080/",
          "height": 240
        }
      },
      "source": [
        "class_correct = list(0. for i in range(10))\n",
        "class_total = list(0. for i in range(10))\n",
        "with torch.no_grad():\n",
        "    for data in testloader:\n",
        "        images, labels = data[0].to(device) , data[1].to(device)\n",
        "        outputs = net(images)\n",
        "        _, predicted = torch.max(outputs, 1)\n",
        "        c = (predicted == labels).squeeze()\n",
        "        for i in range(4):\n",
        "            label = labels[i]\n",
        "            class_correct[label] += c[i].item()\n",
        "            class_total[label] += 1\n",
        "\n",
        "\n",
        "for i in range(10):\n",
        "    print('Accuracy of %5s : %2d %%' % (\n",
        "        classes[i], 100 * class_correct[i] / class_total[i]))"
      ],
      "execution_count": 12,
      "outputs": [
        {
          "output_type": "stream",
          "text": [
            "/usr/local/lib/python3.6/dist-packages/ipykernel_launcher.py:56: UserWarning: Implicit dimension choice for log_softmax has been deprecated. Change the call to include dim=X as an argument.\n"
          ],
          "name": "stderr"
        },
        {
          "output_type": "stream",
          "text": [
            "Accuracy of plane : 86 %\n",
            "Accuracy of   car : 92 %\n",
            "Accuracy of  bird : 80 %\n",
            "Accuracy of   cat : 64 %\n",
            "Accuracy of  deer : 75 %\n",
            "Accuracy of   dog : 72 %\n",
            "Accuracy of  frog : 87 %\n",
            "Accuracy of horse : 86 %\n",
            "Accuracy of  ship : 83 %\n",
            "Accuracy of truck : 91 %\n"
          ],
          "name": "stdout"
        }
      ]
    }
  ]
}